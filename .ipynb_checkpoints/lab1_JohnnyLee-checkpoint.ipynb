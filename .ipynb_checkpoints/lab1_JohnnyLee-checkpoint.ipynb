{
 "cells": [
  {
   "cell_type": "markdown",
   "metadata": {},
   "source": [
    "# INFO411 Lab 1 - Getting Started with Numpy and IPython"
   ]
  },
  {
   "cell_type": "markdown",
   "metadata": {},
   "source": [
    "## Part A. Introduction"
   ]
  },
  {
   "cell_type": "markdown",
   "metadata": {},
   "source": [
    "This lab is for us to get familiar with NumPy scripting and the IPython notebook environment.\n",
    "\n",
    "With NumPy we'll see it is very handy to manipulate arrays, matrices, and the Matplotlib plotting utilities are very useful too. \n",
    "\n",
    "We are using Jupyter Notebook, an interactive environment based on IPython - a high-performance command shell for Python. If you want to install IPython on your own computer, please choose the Python 2.7 version from Anaconda: https://www.continuum.io/downloads. \n",
    "\n",
    "To proceed, read along and run the code cells along the way. If you want to add comments, use the plus sign button above and change the cell format to \"Raw NBConvert\", or \"Markdown\" if you want more fun :). \n",
    "\n",
    "Complete the scripts (for \"tasks\") and verify their outcome. Submit your notebook by emailing jeremiah.deng@otago.ac.nz, with a subject line \"INFO411 Lab1 submission\". "
   ]
  },
  {
   "cell_type": "code",
   "execution_count": 38,
   "metadata": {},
   "outputs": [
    {
     "name": "stdout",
     "output_type": "stream",
     "text": [
      "Hello World!\n"
     ]
    }
   ],
   "source": [
    "print \"Hello World!\""
   ]
  },
  {
   "cell_type": "markdown",
   "metadata": {},
   "source": [
    "The Python shell, functioning as a command-line interpreter, will respond. The following two lines should be rather straightforward:"
   ]
  },
  {
   "cell_type": "code",
   "execution_count": 39,
   "metadata": {
    "collapsed": true
   },
   "outputs": [],
   "source": [
    "# Change to 11, 111, 1111, ... each time click back to this cell, run it and then the next cell; repeat\n",
    "a=1"
   ]
  },
  {
   "cell_type": "code",
   "execution_count": 40,
   "metadata": {},
   "outputs": [
    {
     "data": {
      "text/plain": [
       "1"
      ]
     },
     "execution_count": 40,
     "metadata": {},
     "output_type": "execute_result"
    }
   ],
   "source": [
    "pow(a,2)      # or a*a"
   ]
  },
  {
   "cell_type": "markdown",
   "metadata": {},
   "source": [
    "Or, we can use a \"for\" loop to iterate through a list and generate the outcome:"
   ]
  },
  {
   "cell_type": "code",
   "execution_count": 41,
   "metadata": {},
   "outputs": [
    {
     "name": "stdout",
     "output_type": "stream",
     "text": [
      "1\n",
      "121\n",
      "12321\n",
      "1234321\n",
      "123454321\n",
      "12345654321\n"
     ]
    }
   ],
   "source": [
    "# iterate through a list\n",
    "for a in [1,11,111,1111,11111,111111]:\n",
    "    print a*a"
   ]
  },
  {
   "cell_type": "code",
   "execution_count": 42,
   "metadata": {},
   "outputs": [
    {
     "name": "stdout",
     "output_type": "stream",
     "text": [
      "1\n",
      "121\n",
      "12321\n",
      "1234321\n",
      "123454321\n",
      "12345654321\n",
      "1234567654321\n",
      "123456787654321\n",
      "12345678987654321\n"
     ]
    }
   ],
   "source": [
    "# Or, using \"range(9)\" to cover 0,1,2,...,8\n",
    "a=1\n",
    "for i in range(9):\n",
    "    print a*a\n",
    "    a=10*a + 1"
   ]
  },
  {
   "cell_type": "markdown",
   "metadata": {},
   "source": [
    "Interesting, isn't it? \n",
    "\n",
    "Beware Python is a \"dynamic type\" language, and its arithmetic operators are quite permissive (but outcome can be surprising). Compare:"
   ]
  },
  {
   "cell_type": "code",
   "execution_count": 43,
   "metadata": {},
   "outputs": [
    {
     "data": {
      "text/plain": [
       "1"
      ]
     },
     "execution_count": 43,
     "metadata": {},
     "output_type": "execute_result"
    }
   ],
   "source": [
    "11/10"
   ]
  },
  {
   "cell_type": "code",
   "execution_count": 44,
   "metadata": {},
   "outputs": [
    {
     "data": {
      "text/plain": [
       "1.1"
      ]
     },
     "execution_count": 44,
     "metadata": {},
     "output_type": "execute_result"
    }
   ],
   "source": [
    "11/10.0"
   ]
  },
  {
   "cell_type": "markdown",
   "metadata": {},
   "source": [
    "As we usually need to deal with floating number calculations (but work sometimes with integer data), take heed of these subtleties."
   ]
  },
  {
   "cell_type": "markdown",
   "metadata": {},
   "source": [
    "### Arrays"
   ]
  },
  {
   "cell_type": "markdown",
   "metadata": {},
   "source": [
    "Next, we have a try with number sequences called 'arrays' in NumPy. First we import all the functions defined in the 'numpy' library (as a lazy but inefficient approach):"
   ]
  },
  {
   "cell_type": "code",
   "execution_count": 45,
   "metadata": {
    "collapsed": true
   },
   "outputs": [],
   "source": [
    "import numpy as np"
   ]
  },
  {
   "cell_type": "markdown",
   "metadata": {},
   "source": [
    "We can then use 'np' to refer to various numpy functions. Now we define an array \"v\":"
   ]
  },
  {
   "cell_type": "code",
   "execution_count": 46,
   "metadata": {
    "collapsed": true
   },
   "outputs": [],
   "source": [
    "v=np.array([1,2,-1,-1])"
   ]
  },
  {
   "cell_type": "markdown",
   "metadata": {},
   "source": [
    "We can access array elements by their indeces, just like using a Python List:"
   ]
  },
  {
   "cell_type": "code",
   "execution_count": 47,
   "metadata": {},
   "outputs": [
    {
     "data": {
      "text/plain": [
       "2"
      ]
     },
     "execution_count": 47,
     "metadata": {},
     "output_type": "execute_result"
    }
   ],
   "source": [
    "v[1]         # 2nd element"
   ]
  },
  {
   "cell_type": "code",
   "execution_count": 48,
   "metadata": {},
   "outputs": [
    {
     "data": {
      "text/plain": [
       "-1"
      ]
     },
     "execution_count": 48,
     "metadata": {},
     "output_type": "execute_result"
    }
   ],
   "source": [
    "v[-1]        # last element, same as in standard Python"
   ]
  },
  {
   "cell_type": "markdown",
   "metadata": {},
   "source": [
    "Some simple operations on the array are straightforward:"
   ]
  },
  {
   "cell_type": "code",
   "execution_count": 49,
   "metadata": {},
   "outputs": [
    {
     "data": {
      "text/plain": [
       "1"
      ]
     },
     "execution_count": 49,
     "metadata": {},
     "output_type": "execute_result"
    }
   ],
   "source": [
    "sum(v)"
   ]
  },
  {
   "cell_type": "code",
   "execution_count": 50,
   "metadata": {},
   "outputs": [
    {
     "data": {
      "text/plain": [
       "array([3, 4, 1, 1])"
      ]
     },
     "execution_count": 50,
     "metadata": {},
     "output_type": "execute_result"
    }
   ],
   "source": [
    "v+2"
   ]
  },
  {
   "cell_type": "code",
   "execution_count": 51,
   "metadata": {},
   "outputs": [
    {
     "data": {
      "text/plain": [
       "array([ 2,  4, -2, -2])"
      ]
     },
     "execution_count": 51,
     "metadata": {},
     "output_type": "execute_result"
    }
   ],
   "source": [
    "v*2"
   ]
  },
  {
   "cell_type": "markdown",
   "metadata": {},
   "source": [
    "As you see the manipulation of arrays is quite easy in NumPy. \n",
    "How about this multiplication operation between v and a new array x:"
   ]
  },
  {
   "cell_type": "code",
   "execution_count": 52,
   "metadata": {
    "collapsed": true
   },
   "outputs": [],
   "source": [
    "x=np.array([1,1,-1,-1])"
   ]
  },
  {
   "cell_type": "code",
   "execution_count": 53,
   "metadata": {},
   "outputs": [
    {
     "data": {
      "text/plain": [
       "array([1, 2, 1, 1])"
      ]
     },
     "execution_count": 53,
     "metadata": {},
     "output_type": "execute_result"
    }
   ],
   "source": [
    "x*v      #element-wise product"
   ]
  },
  {
   "cell_type": "markdown",
   "metadata": {},
   "source": [
    "and run the next line too:"
   ]
  },
  {
   "cell_type": "code",
   "execution_count": 54,
   "metadata": {},
   "outputs": [
    {
     "data": {
      "text/plain": [
       "5"
      ]
     },
     "execution_count": 54,
     "metadata": {},
     "output_type": "execute_result"
    }
   ],
   "source": [
    "sum(x*v)      "
   ]
  },
  {
   "cell_type": "markdown",
   "metadata": {},
   "source": [
    "Indeed, the last operation gives us the dot produt of the two vectors $\\mathbf{x}$ and $\\mathbf{v}$, i.e., $\\mathbf{x}^T\\mathbf{v}$.  In NumPy, this is implemented by the following line (see if it gives the same outcome as above):"
   ]
  },
  {
   "cell_type": "code",
   "execution_count": 55,
   "metadata": {},
   "outputs": [
    {
     "data": {
      "text/plain": [
       "5"
      ]
     },
     "execution_count": 55,
     "metadata": {},
     "output_type": "execute_result"
    }
   ],
   "source": [
    "np.dot(x,v)"
   ]
  },
  {
   "cell_type": "markdown",
   "metadata": {},
   "source": [
    "Next, let us generate a 2D array (2 rows x 3 colums) using a random number generator and try out some simple operations:"
   ]
  },
  {
   "cell_type": "code",
   "execution_count": 56,
   "metadata": {
    "collapsed": true
   },
   "outputs": [],
   "source": [
    "a=np.random.random((2,3))"
   ]
  },
  {
   "cell_type": "code",
   "execution_count": 57,
   "metadata": {},
   "outputs": [
    {
     "data": {
      "text/plain": [
       "array([[ 0.49748527,  0.43691904,  0.8146148 ],\n",
       "       [ 0.09567341,  0.36253005,  0.51016031]])"
      ]
     },
     "execution_count": 57,
     "metadata": {},
     "output_type": "execute_result"
    }
   ],
   "source": [
    "a       # check out the content of \"a\""
   ]
  },
  {
   "cell_type": "markdown",
   "metadata": {},
   "source": [
    "Simple operations such as +,-,*,/ can be easily carrried out across all elements, e.g."
   ]
  },
  {
   "cell_type": "code",
   "execution_count": 58,
   "metadata": {},
   "outputs": [
    {
     "data": {
      "text/plain": [
       "array([[ 5.49748527,  5.43691904,  5.8146148 ],\n",
       "       [ 5.09567341,  5.36253005,  5.51016031]])"
      ]
     },
     "execution_count": 58,
     "metadata": {},
     "output_type": "execute_result"
    }
   ],
   "source": [
    "a+5"
   ]
  },
  {
   "cell_type": "markdown",
   "metadata": {},
   "source": [
    "Now that we have a 2-D array, we can do operation on one axis or the other, e.g., a vertical addition:"
   ]
  },
  {
   "cell_type": "code",
   "execution_count": 59,
   "metadata": {},
   "outputs": [
    {
     "data": {
      "text/plain": [
       "array([ 0.59315869,  0.79944909,  1.32477511])"
      ]
     },
     "execution_count": 59,
     "metadata": {},
     "output_type": "execute_result"
    }
   ],
   "source": [
    "np.sum(a,axis=0)"
   ]
  },
  {
   "cell_type": "markdown",
   "metadata": {},
   "source": [
    "and a horizontal addition (column-wise):"
   ]
  },
  {
   "cell_type": "code",
   "execution_count": 60,
   "metadata": {},
   "outputs": [
    {
     "data": {
      "text/plain": [
       "array([ 1.74901911,  0.96836377])"
      ]
     },
     "execution_count": 60,
     "metadata": {},
     "output_type": "execute_result"
    }
   ],
   "source": [
    "np.sum(a,axis=1)"
   ]
  },
  {
   "cell_type": "markdown",
   "metadata": {},
   "source": [
    "### Matrices"
   ]
  },
  {
   "cell_type": "markdown",
   "metadata": {},
   "source": [
    "Sometimes it is easier to work with matrices. NumPy has very good support on matrix operations - often it is almost the same as the mathematical notations."
   ]
  },
  {
   "cell_type": "code",
   "execution_count": 61,
   "metadata": {},
   "outputs": [
    {
     "data": {
      "text/plain": [
       "matrix([[ 0.49748527,  0.43691904,  0.8146148 ],\n",
       "        [ 0.09567341,  0.36253005,  0.51016031]])"
      ]
     },
     "execution_count": 61,
     "metadata": {},
     "output_type": "execute_result"
    }
   ],
   "source": [
    "am=np.matrix(a)\n",
    "\n",
    "am"
   ]
  },
  {
   "cell_type": "markdown",
   "metadata": {},
   "source": [
    "Let's create a 3x2 random matrix:"
   ]
  },
  {
   "cell_type": "code",
   "execution_count": 62,
   "metadata": {
    "collapsed": true
   },
   "outputs": [],
   "source": [
    "bm=np.matrix(np.random.random((3,2)))"
   ]
  },
  {
   "cell_type": "code",
   "execution_count": 63,
   "metadata": {},
   "outputs": [
    {
     "data": {
      "text/plain": [
       "matrix([[ 0.17203214,  0.03631337],\n",
       "        [ 0.7437896 ,  0.55001651],\n",
       "        [ 0.49769495,  0.34077596]])"
      ]
     },
     "execution_count": 63,
     "metadata": {},
     "output_type": "execute_result"
    }
   ],
   "source": [
    "bm"
   ]
  },
  {
   "cell_type": "markdown",
   "metadata": {},
   "source": [
    "The transpose of the matrix above is "
   ]
  },
  {
   "cell_type": "code",
   "execution_count": 64,
   "metadata": {},
   "outputs": [
    {
     "data": {
      "text/plain": [
       "matrix([[ 0.17203214,  0.7437896 ,  0.49769495],\n",
       "        [ 0.03631337,  0.55001651,  0.34077596]])"
      ]
     },
     "execution_count": 64,
     "metadata": {},
     "output_type": "execute_result"
    }
   ],
   "source": [
    "bm.T"
   ]
  },
  {
   "cell_type": "markdown",
   "metadata": {},
   "source": [
    "Matrix mulplication, is simply another \"*\" operation. Note this is different from the array multiplication we just experimented. Sizes should match, i.e. in this case a 2x3 matches a 3x2 and the multiplication gives a 2x2 matrix:"
   ]
  },
  {
   "cell_type": "code",
   "execution_count": 65,
   "metadata": {},
   "outputs": [
    {
     "data": {
      "text/plain": [
       "matrix([[ 0.81598897,  0.5359792 ],\n",
       "        [ 0.5400092 ,  0.37672211]])"
      ]
     },
     "execution_count": 65,
     "metadata": {},
     "output_type": "execute_result"
    }
   ],
   "source": [
    "A=am*bm\n",
    "A"
   ]
  },
  {
   "cell_type": "markdown",
   "metadata": {},
   "source": [
    "The following plays with A and its inverse, and the outcome of course is a unit matrix:"
   ]
  },
  {
   "cell_type": "code",
   "execution_count": 66,
   "metadata": {},
   "outputs": [
    {
     "data": {
      "text/plain": [
       "matrix([[  1.00000000e+00,   2.63210407e-16],\n",
       "        [  9.21750659e-16,   1.00000000e+00]])"
      ]
     },
     "execution_count": 66,
     "metadata": {},
     "output_type": "execute_result"
    }
   ],
   "source": [
    "A*np.linalg.inv(A)"
   ]
  },
  {
   "cell_type": "markdown",
   "metadata": {},
   "source": [
    "Let's see how matrices can be used for geometry. Suppose we have a vector $\\mathbf{c}$ with coordinates (1,0): "
   ]
  },
  {
   "cell_type": "code",
   "execution_count": 67,
   "metadata": {
    "collapsed": true
   },
   "outputs": [],
   "source": [
    "c=np.array([1,0])"
   ]
  },
  {
   "cell_type": "markdown",
   "metadata": {},
   "source": [
    "Now we rotate the vector by $\\theta$ degrees, anti-clockwise. The rotation matrix is:\n",
    "$A=\\begin{vmatrix}\n",
    "\\cos\\theta & -\\sin\\theta \\\\\n",
    "\\sin\\theta & \\cos\\theta\n",
    "\\end{vmatrix}$.\n",
    "\n",
    "So for $\\theta=\\pi/4$, we have"
   ]
  },
  {
   "cell_type": "code",
   "execution_count": 68,
   "metadata": {
    "collapsed": true
   },
   "outputs": [],
   "source": [
    "A=np.matrix([[np.cos(np.pi/4),-np.sin(np.pi/4)],[np.sin(np.pi/4),np.cos(np.pi/4)]])"
   ]
  },
  {
   "cell_type": "markdown",
   "metadata": {},
   "source": [
    "**Task A1**. Now use a simple multiplication A\\*c to get the new coordinates. \n",
    "\n",
    "Transform c into a column matrix (first make it a matrix, then transpose). Multiply A and the column matrix:"
   ]
  },
  {
   "cell_type": "code",
   "execution_count": 69,
   "metadata": {
    "collapsed": true
   },
   "outputs": [],
   "source": [
    "# Type in Task A1 code here \n",
    "\n",
    "cm = np.matrix(c).T\n",
    "new_coordinate = A*cm"
   ]
  },
  {
   "cell_type": "markdown",
   "metadata": {},
   "source": [
    "**Task A2**: Write a function for rotating any data point (x, y) by any degrees \"theta\" and test it out. Complete the following cell:"
   ]
  },
  {
   "cell_type": "code",
   "execution_count": 70,
   "metadata": {},
   "outputs": [
    {
     "data": {
      "text/plain": [
       "matrix([[ -1.00000000e+00],\n",
       "        [  1.22464680e-16]])"
      ]
     },
     "execution_count": 70,
     "metadata": {},
     "output_type": "execute_result"
    }
   ],
   "source": [
    "def rot((x,y),theta):\n",
    "    v=np.matrix([x,y]).T         # Get the coordinates and make a column vector\n",
    "    rad=theta*np.pi/180          # Convert degree number into radian: 180 deg = pi\n",
    "    rot_matrix=np.matrix([[np.cos(rad),-np.sin(rad)],[np.sin(rad),np.cos(rad)]])#...\n",
    "    return rot_matrix * v#...\n",
    "\n",
    "rot((1.0,0),180)"
   ]
  },
  {
   "cell_type": "markdown",
   "metadata": {},
   "source": [
    "## Part B. First attempts on a dataset"
   ]
  },
  {
   "cell_type": "markdown",
   "metadata": {},
   "source": [
    "Now we are ready to play with a dataset and put our array manipulation skills into good use. First, we load in a dataset adapted from the UCI email spambase data. The text file has 57 attributes, plus a class ID at the end for each line. The delimiter symbol is space. Try this:"
   ]
  },
  {
   "cell_type": "code",
   "execution_count": 71,
   "metadata": {
    "collapsed": true
   },
   "outputs": [],
   "source": [
    "d=np.loadtxt('./spambase_s.txt')"
   ]
  },
  {
   "cell_type": "markdown",
   "metadata": {},
   "source": [
    "Check on the shape of the array 'd' and see if it is right:"
   ]
  },
  {
   "cell_type": "code",
   "execution_count": 72,
   "metadata": {},
   "outputs": [
    {
     "data": {
      "text/plain": [
       "(1533, 58)"
      ]
     },
     "execution_count": 72,
     "metadata": {},
     "output_type": "execute_result"
    }
   ],
   "source": [
    "d.shape"
   ]
  },
  {
   "cell_type": "markdown",
   "metadata": {},
   "source": [
    "Question: How many data items are read into 'd'?\n",
    "The groundtruth or class labels are loaded into column no.57 (note the array index starts from 0, just like a list) and we convert them from float to integer:"
   ]
  },
  {
   "cell_type": "code",
   "execution_count": 73,
   "metadata": {
    "collapsed": true
   },
   "outputs": [],
   "source": [
    "label=d[:,-1].astype('int')           "
   ]
  },
  {
   "cell_type": "markdown",
   "metadata": {},
   "source": [
    "To find out how many data points belong to class '0', this will do (Python use -1 to indicate the last element in a list/array, i.e. it's equivalent to 57 in this case):"
   ]
  },
  {
   "cell_type": "code",
   "execution_count": 74,
   "metadata": {},
   "outputs": [
    {
     "data": {
      "text/plain": [
       "929"
      ]
     },
     "execution_count": 74,
     "metadata": {},
     "output_type": "execute_result"
    }
   ],
   "source": [
    "sum(label==0)      # or sum(d[:,-1]==0)"
   ]
  },
  {
   "cell_type": "markdown",
   "metadata": {},
   "source": [
    "**Task B**: Write a line of code to find out how many data points are from class '1'."
   ]
  },
  {
   "cell_type": "code",
   "execution_count": 75,
   "metadata": {},
   "outputs": [
    {
     "data": {
      "text/plain": [
       "604"
      ]
     },
     "execution_count": 75,
     "metadata": {},
     "output_type": "execute_result"
    }
   ],
   "source": [
    "sum(label==1)"
   ]
  },
  {
   "cell_type": "markdown",
   "metadata": {},
   "source": [
    "We can easily cut out some portions of the large dataset and generates a smaller one. E.g. if we only need entries no.600 to 699, and the first 10 attributes:"
   ]
  },
  {
   "cell_type": "code",
   "execution_count": 76,
   "metadata": {
    "collapsed": true
   },
   "outputs": [],
   "source": [
    "din=d[600:700,0:10]"
   ]
  },
  {
   "cell_type": "markdown",
   "metadata": {},
   "source": [
    "Also cut out the class labels of the selected entries:"
   ]
  },
  {
   "cell_type": "code",
   "execution_count": 77,
   "metadata": {
    "collapsed": true
   },
   "outputs": [],
   "source": [
    "dout=label[600:700].reshape((100,1))             # reshape() is to arrange it as a 2-D array"
   ]
  },
  {
   "cell_type": "markdown",
   "metadata": {},
   "source": [
    "Now we can concatenate the input and output (label) parts, column-wise, into a smaller dataset d2:"
   ]
  },
  {
   "cell_type": "code",
   "execution_count": 78,
   "metadata": {
    "collapsed": true
   },
   "outputs": [],
   "source": [
    "d2=np.concatenate((din,dout),axis=1)"
   ]
  },
  {
   "cell_type": "code",
   "execution_count": 79,
   "metadata": {},
   "outputs": [
    {
     "data": {
      "text/plain": [
       "(100, 11)"
      ]
     },
     "execution_count": 79,
     "metadata": {},
     "output_type": "execute_result"
    }
   ],
   "source": [
    "d2.shape            # check on the shape of the new dataset"
   ]
  },
  {
   "cell_type": "markdown",
   "metadata": {},
   "source": [
    "For more features and functionalities in dealing with TXT/CSV/Excel files, you can search out \"pandas\", another popular Python toolkit for data manipulation. "
   ]
  },
  {
   "cell_type": "markdown",
   "metadata": {},
   "source": [
    "## Part C. Plot them out"
   ]
  },
  {
   "cell_type": "markdown",
   "metadata": {},
   "source": [
    "Here is our first attempt to visualize the dataset. To do this we need to import the Matplotlib/pylab package:"
   ]
  },
  {
   "cell_type": "code",
   "execution_count": 1,
   "metadata": {
    "collapsed": true
   },
   "outputs": [],
   "source": [
    "import pylab as pl"
   ]
  },
  {
   "cell_type": "markdown",
   "metadata": {},
   "source": [
    "We can then choose two columns (i.e. attributes) and do a scatter plot. In this case we choose attributes 1 and 4, and plot the coordinates using a blue dot:"
   ]
  },
  {
   "cell_type": "code",
   "execution_count": 80,
   "metadata": {},
   "outputs": [
    {
     "data": {
      "text/plain": [
       "[<matplotlib.lines.Line2D at 0x10fc280d0>]"
      ]
     },
     "execution_count": 80,
     "metadata": {},
     "output_type": "execute_result"
    }
   ],
   "source": [
    "pl.plot(d[:,1],d[:,4],'b.')"
   ]
  },
  {
   "cell_type": "code",
   "execution_count": 81,
   "metadata": {},
   "outputs": [
    {
     "data": {
      "image/png": "[encoded data removed]",
      "text/plain": [
       "<matplotlib.figure.Figure at 0x10fad7750>"
      ]
     },
     "metadata": {},
     "output_type": "display_data"
    }
   ],
   "source": [
    "pl.show()      # display the generated graphics"
   ]
  },
  {
   "cell_type": "markdown",
   "metadata": {},
   "source": [
    "Now you should have a pop-up window showing the scatterplot.\n",
    "\n",
    "We can improve the visualization by incorporating the class labels. For example, plotting all those class-0 items with a blue dot, and all class-1 items with a red cross? We can do this by repeatedly calling the plot() function:"
   ]
  },
  {
   "cell_type": "markdown",
   "metadata": {},
   "source": [
    "Instead of having popups, you can embed the graphics *within* the notebook. The following line will do the trick."
   ]
  },
  {
   "cell_type": "code",
   "execution_count": 82,
   "metadata": {
    "collapsed": true
   },
   "outputs": [],
   "source": [
    "%matplotlib inline"
   ]
  },
  {
   "cell_type": "code",
   "execution_count": 83,
   "metadata": {},
   "outputs": [
    {
     "data": {
      "image/png": "[encoded data removed]",
      "text/plain": [
       "<matplotlib.figure.Figure at 0x10fbea450>"
      ]
     },
     "metadata": {},
     "output_type": "display_data"
    }
   ],
   "source": [
    "for i in range(d.shape[0]):             # iterate through all rows\n",
    "    if d[i,-1]==0:\n",
    "        pl.plot(d[i,1],d[i,4],'b.')    # either plot a blue dot\n",
    "    else:\n",
    "        pl.plot(d[i,1],d[i,4],'rx')    # or a red cross"
   ]
  },
  {
   "cell_type": "markdown",
   "metadata": {},
   "source": [
    "It looks better, isn't it?\n",
    "\n",
    "In Python, unfortunately, brute-force looping through the array items one after another is very costly. To speed up, we should always try processing arrays collectively. \n",
    "In this case, we can construct two subsets, each for a class respectively:"
   ]
  },
  {
   "cell_type": "code",
   "execution_count": 84,
   "metadata": {
    "collapsed": true
   },
   "outputs": [],
   "source": [
    "set0=d[:,-1]==0\n",
    "set1=d[:,-1]==1"
   ]
  },
  {
   "cell_type": "markdown",
   "metadata": {},
   "source": [
    "And then we plot out the two subsets separately:"
   ]
  },
  {
   "cell_type": "code",
   "execution_count": 85,
   "metadata": {},
   "outputs": [
    {
     "data": {
      "text/plain": [
       "[<matplotlib.lines.Line2D at 0x10fd09b90>]"
      ]
     },
     "execution_count": 85,
     "metadata": {},
     "output_type": "execute_result"
    },
    {
     "data": {
      "image/png": "[encoded data removed]",
      "text/plain": [
       "<matplotlib.figure.Figure at 0x10fd09d50>"
      ]
     },
     "metadata": {},
     "output_type": "display_data"
    }
   ],
   "source": [
    "pl.plot(d[set1,1],d[set1,4],'rx')\n",
    "pl.plot(d[set0,1],d[set0,4],'b.')"
   ]
  },
  {
   "cell_type": "markdown",
   "metadata": {},
   "source": [
    "I tried timing the above two approaches by calling and comparing time.time() results. The cost ratio is 1.79sec/0.08sec, i.e. more than 20 folds!\n",
    "\n",
    "You may have been wondering why we have picked attributes numbered 1 and 4 for display. There is no particular reason for this choice, but to make sense out of the scatterplot, we would need to know about what those columns we have chosen stand for! "
   ]
  },
  {
   "cell_type": "markdown",
   "metadata": {},
   "source": [
    "**Task C**: Have a look of the dataset description at the UCI repository: https://archive.ics.uci.edu/ml/machine-learning-databases/spambase/spambase.names and explore alternatives choices instead of 1 and 4; find a good pair to regenerate the scatterplot."
   ]
  },
  {
   "cell_type": "code",
   "execution_count": 92,
   "metadata": {},
   "outputs": [
    {
     "data": {
      "text/plain": [
       "[<matplotlib.lines.Line2D at 0x1124b0250>]"
      ]
     },
     "execution_count": 92,
     "metadata": {},
     "output_type": "execute_result"
    },
    {
     "data": {
      "image/png": "[encoded data removed]",
      "text/plain": [
       "<matplotlib.figure.Figure at 0x1124b00d0>"
      ]
     },
     "metadata": {},
     "output_type": "display_data"
    }
   ],
   "source": [
    "# Task C code here....\n",
    "pl.plot(d[set1,-3],d[set1,17],'rx') # 17 is word_freq_business, -3 is capital_run_length_average. \n",
    "pl.plot(d[set0,-3],d[set0,17],'b.')\n",
    "\n",
    "# Maybe spams are more likely to contain many words with all caps? "
   ]
  },
  {
   "cell_type": "markdown",
   "metadata": {},
   "source": [
    "## Extra"
   ]
  },
  {
   "cell_type": "markdown",
   "metadata": {},
   "source": [
    "Let's have some more practice on matrices. \n",
    "\n",
    "Sociologists often assume a simplified social class transition model expressed by a Markov chain. E.g., a son's occupation depends only on his father's (but not on his grandfather's). The following example transition probability matrix is taken from Talor & Karlin's book *An Introdution to Statistical Modeling*:"
   ]
  },
  {
   "cell_type": "code",
   "execution_count": 86,
   "metadata": {
    "collapsed": true
   },
   "outputs": [],
   "source": [
    "P=np.matrix('0.7 0.2 0.1;  0.2 0.6 0.2; 0.1 0.4 0.5')"
   ]
  },
  {
   "cell_type": "markdown",
   "metadata": {},
   "source": [
    "We print 'P' nicely:"
   ]
  },
  {
   "cell_type": "code",
   "execution_count": 87,
   "metadata": {},
   "outputs": [
    {
     "name": "stdout",
     "output_type": "stream",
     "text": [
      "[[ 0.7  0.2  0.1]\n",
      " [ 0.2  0.6  0.2]\n",
      " [ 0.1  0.4  0.5]]\n"
     ]
    }
   ],
   "source": [
    "print P"
   ]
  },
  {
   "cell_type": "markdown",
   "metadata": {},
   "source": [
    "The row stands for the father's class (Lower/Middle/Upper), and the column stands for the son's class (Lower/Middle/Upper). Note values on each row add to 1. \n",
    "\n",
    "How to interpret $P$? For instance, the probability of a next-generation transition from \"Middle\" (2nd row), to \"Upper\" (3rd column), is 0.2. Likewise, the transition probability from \"Upper\" (3rd row), to \"Lower\" (1st column), is 0.1.  \n",
    "What will be the transition probabilities over two generations? We have $P^2=P\\times P$:"
   ]
  },
  {
   "cell_type": "code",
   "execution_count": 94,
   "metadata": {},
   "outputs": [
    {
     "data": {
      "text/plain": [
       "matrix([[ 0.54,  0.3 ,  0.16],\n",
       "        [ 0.28,  0.48,  0.24],\n",
       "        [ 0.2 ,  0.46,  0.34]])"
      ]
     },
     "execution_count": 94,
     "metadata": {},
     "output_type": "execute_result"
    }
   ],
   "source": [
    "P*P"
   ]
  },
  {
   "cell_type": "markdown",
   "metadata": {},
   "source": [
    "**Task D**: Use a \"for\" loop to calculate $P^2$, $P^4$, $P^8$, $P^{16}$, and $P^{32}$. What does the result suggest?"
   ]
  },
  {
   "cell_type": "code",
   "execution_count": 105,
   "metadata": {},
   "outputs": [
    {
     "name": "stdout",
     "output_type": "stream",
     "text": [
      "P to the power of  2 \n",
      "[[ 0.54  0.3   0.16]\n",
      " [ 0.28  0.48  0.24]\n",
      " [ 0.2   0.46  0.34]]\n",
      "P to the power of  4 \n",
      "[[ 0.4076  0.3796  0.2128]\n",
      " [ 0.3336  0.4248  0.2416]\n",
      " [ 0.3048  0.4372  0.258 ]]\n",
      "P to the power of  8 \n",
      "[[ 0.35763376  0.4090152   0.23335104]\n",
      " [ 0.35132832  0.41271712  0.23595456]\n",
      " [ 0.3487248   0.41422224  0.23705296]]\n",
      "P to the power of  16 \n",
      "[[ 0.35297582  0.41174441  0.23527977]\n",
      " [ 0.35292929  0.41177167  0.23529904]\n",
      " [ 0.35291001  0.41178296  0.23530703]]\n",
      "P to the power of  32 \n",
      "[[ 0.35294118  0.4117647   0.23529412]\n",
      " [ 0.35294118  0.41176471  0.23529412]\n",
      " [ 0.35294117  0.41176471  0.23529412]]\n"
     ]
    }
   ],
   "source": [
    "# your code here\n",
    "\n",
    "for i in range(1,6):\n",
    "    power = 2**i\n",
    "    print \"P to the power of \", power, \"\\n\", P**power"
   ]
  },
  {
   "cell_type": "markdown",
   "metadata": {},
   "source": [
    "Your Comments: Transition probability does not change much after a few generations. Probability becomes somewhat fixed. "
   ]
  },
  {
   "cell_type": "markdown",
   "metadata": {},
   "source": [
    "######  End of Lab 1."
   ]
  },
  {
   "cell_type": "code",
   "execution_count": null,
   "metadata": {
    "collapsed": true
   },
   "outputs": [],
   "source": []
  }
 ],
 "metadata": {
  "kernelspec": {
   "display_name": "Python [default]",
   "language": "python",
   "name": "python2"
  },
  "language_info": {
   "codemirror_mode": {
    "name": "ipython",
    "version": 2
   },
   "file_extension": ".py",
   "mimetype": "text/x-python",
   "name": "python",
   "nbconvert_exporter": "python",
   "pygments_lexer": "ipython2",
   "version": "2.7.13"
  }
 },
 "nbformat": 4,
 "nbformat_minor": 1
}
