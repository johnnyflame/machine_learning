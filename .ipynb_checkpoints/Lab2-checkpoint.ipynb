{
 "cells": [
  {
   "cell_type": "markdown",
   "metadata": {},
   "source": [
    "# INFO411 Lab 2 - Clustering"
   ]
  },
  {
   "cell_type": "markdown",
   "metadata": {},
   "source": [
    "## Outline"
   ]
  },
  {
   "cell_type": "markdown",
   "metadata": {},
   "source": [
    "From our last lab we had our first encounter with Numpy, which is a handy tool for us to manipulate vectors and matrices. In this lab, we continue with the exploration of Numpy, and Pyplot (for visualization), but the main objectives are:\n",
    "- Gain more understanding of k-means, EM and DBSCAN by working on some simple data sets\n",
    "- Get started with Sklearn, a machine learning package"
   ]
  },
  {
   "cell_type": "markdown",
   "metadata": {},
   "source": [
    "## Part 1"
   ]
  },
  {
   "cell_type": "markdown",
   "metadata": {},
   "source": [
    "We begin with the simple k-means demo written in NumPy. As usual we import the packages:"
   ]
  },
  {
   "cell_type": "code",
   "execution_count": 171,
   "metadata": {
    "collapsed": true
   },
   "outputs": [],
   "source": [
    "import numpy as np"
   ]
  },
  {
   "cell_type": "raw",
   "metadata": {},
   "source": [
    "Now we generate two 1-D random data blobs using normal distributions, each with 100 points (what are the centre values?). Note the 'spread' for both Gaussians is 1. "
   ]
  },
  {
   "cell_type": "code",
   "execution_count": 172,
   "metadata": {
    "collapsed": true
   },
   "outputs": [],
   "source": [
    "d1 = np.random.randn(100)+2\n",
    "#d2 = np.random.randn(100)+8\n",
    "d2 = np.random.randn(100)*1.5+8"
   ]
  },
  {
   "cell_type": "markdown",
   "metadata": {},
   "source": [
    "Now show them up on the screen. Note that for better visibility the array index is used for the x-axis. "
   ]
  },
  {
   "cell_type": "code",
   "execution_count": 173,
   "metadata": {},
   "outputs": [
    {
     "data": {
      "text/plain": [
       "[<matplotlib.lines.Line2D at 0x117bfed90>]"
      ]
     },
     "execution_count": 173,
     "metadata": {},
     "output_type": "execute_result"
    },
    {
     "data": {
      "image/png": "[encoded data removed]",
      "text/plain": [
       "<matplotlib.figure.Figure at 0x117bfe7d0>"
      ]
     },
     "metadata": {},
     "output_type": "display_data"
    }
   ],
   "source": [
    "## import the plotting package; use inline display\n",
    "import matplotlib.pyplot as plt\n",
    "%matplotlib inline\n",
    "## plot two subsets using different markers\n",
    "plt.plot(d1,'g+')\n",
    "plt.plot(d2,'bx')"
   ]
  },
  {
   "cell_type": "markdown",
   "metadata": {},
   "source": [
    "Note for better visualization we \"expand\" the 1-D data for 2-D display using the array index for the x-axis.\n",
    "\n",
    "We then concatenate the two data clouds into one bigger array (with 200 points):"
   ]
  },
  {
   "cell_type": "code",
   "execution_count": 174,
   "metadata": {
    "collapsed": true
   },
   "outputs": [],
   "source": [
    "data=np.concatenate((d1,d2),axis=0)\n",
    "nrow=len(data)"
   ]
  },
  {
   "cell_type": "markdown",
   "metadata": {},
   "source": [
    "... and we shuffle the rows to get the data mixed up:"
   ]
  },
  {
   "cell_type": "code",
   "execution_count": 175,
   "metadata": {
    "collapsed": true
   },
   "outputs": [],
   "source": [
    "data=np.random.permutation(data)\n",
    "\n"
   ]
  },
  {
   "cell_type": "markdown",
   "metadata": {},
   "source": [
    "To do k-means clustering, now we randomly initialise the membership for Cluster 1 (and therefore for Cluster 2)"
   ]
  },
  {
   "cell_type": "code",
   "execution_count": 176,
   "metadata": {
    "collapsed": true
   },
   "outputs": [],
   "source": [
    "memb1=np.random.randint(0,2,nrow)\n",
    "memb2=1-memb1    # membership to Cluster 2"
   ]
  },
  {
   "cell_type": "markdown",
   "metadata": {},
   "source": [
    "Let the iterations begin: update centres; update membership; ... we run 20 iterations:"
   ]
  },
  {
   "cell_type": "code",
   "execution_count": 177,
   "metadata": {},
   "outputs": [
    {
     "name": "stdout",
     "output_type": "stream",
     "text": [
      "5.31356637519 4.81490409482\n",
      "8.17662479862 1.91693931176\n",
      "8.17662479862 1.91693931176\n",
      "8.17662479862 1.91693931176\n",
      "8.17662479862 1.91693931176\n",
      "8.17662479862 1.91693931176\n",
      "8.17662479862 1.91693931176\n",
      "8.17662479862 1.91693931176\n",
      "8.17662479862 1.91693931176\n",
      "8.17662479862 1.91693931176\n",
      "8.17662479862 1.91693931176\n",
      "8.17662479862 1.91693931176\n",
      "8.17662479862 1.91693931176\n",
      "8.17662479862 1.91693931176\n",
      "8.17662479862 1.91693931176\n",
      "8.17662479862 1.91693931176\n",
      "8.17662479862 1.91693931176\n",
      "8.17662479862 1.91693931176\n",
      "8.17662479862 1.91693931176\n",
      "8.17662479862 1.91693931176\n"
     ]
    }
   ],
   "source": [
    "## Iterate for a number of times and see if convergence is reached. \n",
    "## c1 and c2 are the two cluster centres. \n",
    "## This updates the centres, then membership, and loops around\n",
    "for it in range(20):\n",
    "    #update c1 and c2\n",
    "    c1=sum(data*memb1)/sum(memb1)\n",
    "    c2=sum(data*memb2)/sum(memb2)\n",
    "    \n",
    "    \n",
    "   # if distance to c1 is smaller it belongs to cluster 1, memb1=1; otherwise memb1=0\n",
    "    memb1=np.greater(np.abs(data-c2), np.abs(data-c1)).astype(int)\n",
    "    memb2=1-memb1\n",
    "    print c1,c2"
   ]
  },
  {
   "cell_type": "markdown",
   "metadata": {},
   "source": [
    "Now display the cluster centres:"
   ]
  },
  {
   "cell_type": "code",
   "execution_count": 178,
   "metadata": {},
   "outputs": [
    {
     "data": {
      "text/plain": [
       "[<matplotlib.lines.Line2D at 0x115b5add0>]"
      ]
     },
     "execution_count": 178,
     "metadata": {},
     "output_type": "execute_result"
    },
    {
     "data": {
      "image/png": "[encoded data removed]",
      "text/plain": [
       "<matplotlib.figure.Figure at 0x1161bff90>"
      ]
     },
     "metadata": {},
     "output_type": "display_data"
    }
   ],
   "source": [
    "## Display the cluster centers\n",
    "plt.plot(d1,'g+')\n",
    "plt.plot(d2,'bx')\n",
    "plt.plot(nrow/4,c1,'r^')\n",
    "plt.plot(nrow/4,c2,'r^')"
   ]
  },
  {
   "cell_type": "markdown",
   "metadata": {},
   "source": [
    "Does the algorithm seem to work? Why?\n",
    "\n",
    "Your Answer: It does, because the centres of the clusters are approximately in the middle of the cluster dimensions, and the membership appears to be correctly assigned. \n"
   ]
  },
  {
   "cell_type": "markdown",
   "metadata": {},
   "source": [
    "**Task A**. Suppose there is an outlier data point, data[80]=200. Insert it, repeat the experiement above and comment on the results."
   ]
  },
  {
   "cell_type": "code",
   "execution_count": 179,
   "metadata": {},
   "outputs": [
    {
     "name": "stdout",
     "output_type": "stream",
     "text": [
      "10.1083277253 1.91693931176\n",
      "10.4534342227 2.15287215882\n",
      "10.5479925732 2.22623283985\n",
      "10.6420899996 2.30072697062\n",
      "10.7388090348 2.37389661665\n",
      "10.7388090348 2.37389661665\n",
      "10.7388090348 2.37389661665\n",
      "10.7388090348 2.37389661665\n",
      "10.7388090348 2.37389661665\n",
      "10.7388090348 2.37389661665\n",
      "10.7388090348 2.37389661665\n",
      "10.7388090348 2.37389661665\n",
      "10.7388090348 2.37389661665\n",
      "10.7388090348 2.37389661665\n",
      "10.7388090348 2.37389661665\n",
      "10.7388090348 2.37389661665\n",
      "10.7388090348 2.37389661665\n",
      "10.7388090348 2.37389661665\n",
      "10.7388090348 2.37389661665\n",
      "10.7388090348 2.37389661665\n"
     ]
    },
    {
     "data": {
      "text/plain": [
       "[<matplotlib.lines.Line2D at 0x1157d6e50>]"
      ]
     },
     "execution_count": 179,
     "metadata": {},
     "output_type": "execute_result"
    },
    {
     "data": {
      "image/png": "[encoded data removed]",
      "text/plain": [
       "<matplotlib.figure.Figure at 0x1161cd210>"
      ]
     },
     "metadata": {},
     "output_type": "display_data"
    }
   ],
   "source": [
    "# code for Task A ...\n",
    "\n",
    "# Introduce an outlier\n",
    "data[80] = 200\n",
    "\n",
    "\n",
    "\n",
    "# Repeat the iteration process\n",
    "for it in range(20):\n",
    "    c1=sum(data*memb1)/sum(memb1)\n",
    "    c2=sum(data*memb2)/sum(memb2)\n",
    "   # if distance to c1 is smaller it belongs to cluster 1, memb1=1; otherwise memb1=0\n",
    "    memb1=np.greater(np.abs(data-c2), np.abs(data-c1)).astype(int)\n",
    "    memb2=1-memb1\n",
    "    print c1,c2\n",
    "\n",
    "\n",
    "\n",
    "# Plot it out\n",
    "plt.plot(d1,'g+')\n",
    "plt.plot(d2,'bx')\n",
    "plt.plot(nrow/4,c1,'r^')\n",
    "plt.plot(nrow/4,c2,'r^')\n",
    "\n",
    "\n"
   ]
  },
  {
   "cell_type": "markdown",
   "metadata": {},
   "source": [
    "Your comments: \n",
    "\n",
    "Introducing this outlier made the result appear less stable. The membership is still correctly assigned, but the centroid is heavily affected by the introduction of an extreme outlier. \n",
    "\n",
    "This example demonstrates that a simple k-means clustering algorithm is not robust against outliers in the dataset.\n",
    "\n",
    "\n",
    "\n",
    "\n",
    "\n"
   ]
  },
  {
   "cell_type": "markdown",
   "metadata": {},
   "source": [
    "**Task A***. Use the fuzzy c-means scheme with r=2 to decide membership and repeat the experiment. Does it work better?"
   ]
  },
  {
   "cell_type": "code",
   "execution_count": 180,
   "metadata": {},
   "outputs": [
    {
     "name": "stdout",
     "output_type": "stream",
     "text": [
      "-2\n",
      "6.95081553277 4.99626966979\n",
      "7.5339989567 4.2855636669\n",
      "8.28173285873 3.68133568028\n",
      "8.85850345666 3.42303657464\n",
      "9.1254767519 3.41594014071\n",
      "9.20774498243 3.46063001778\n",
      "9.22149602392 3.48770216642\n",
      "9.21877020654 3.49712854309\n",
      "9.21545357483 3.498874697\n",
      "9.21395700805 3.49861626582\n",
      "9.21355692581 3.49824294285\n",
      "9.21353012333 3.49806844163\n",
      "9.21356769669 3.49802002626\n",
      "9.2135921959 3.49801590433\n",
      "9.21360094269 3.49801995951\n",
      "9.21360261017 3.49802276507\n",
      "9.21360239287 3.49802379923\n",
      "9.2136020526 3.49802400834\n",
      "9.21360189113 3.49802398933\n",
      "9.21360184564 3.49802395125\n"
     ]
    },
    {
     "data": {
      "text/plain": [
       "[<matplotlib.lines.Line2D at 0x117b05d50>]"
      ]
     },
     "execution_count": 180,
     "metadata": {},
     "output_type": "execute_result"
    },
    {
     "data": {
      "image/png": "[encoded data removed]",
      "text/plain": [
       "<matplotlib.figure.Figure at 0x1159f6210>"
      ]
     },
     "metadata": {},
     "output_type": "display_data"
    }
   ],
   "source": [
    "# code for Task A* here... Run it.\n",
    "\n",
    "memb1=np.random.randint(0,2,nrow)\n",
    "memb2=1-memb1    # membership to Cluster 2\n",
    "\n",
    "r = 2\n",
    "exp = -2/(r-1)\n",
    "\n",
    "print (exp)\n",
    "\n",
    "for it in range(20):\n",
    "    c1=sum(data*memb1)/sum(memb1)\n",
    "    c2=sum(data*memb2)/sum(memb2)\n",
    "    \n",
    "    memb1_divisor = np.power(np.abs(data-c1),exp)\n",
    "    memb2_divisor = np.power(np.abs(data-c2),exp)\n",
    "    dividend = (np.power(np.abs(data-c1),exp)+ np.power(np.abs(data-c2),exp))\n",
    "    \n",
    "    memb1 = memb1_divisor / dividend\n",
    "    memb2 = memb2_divisor / dividend\n",
    "    \n",
    "   # print (\"dividend: \", dividend)\n",
    "                        \n",
    "    print c1,c2\n",
    "    \n",
    "    \n",
    "# Plot it out\n",
    "plt.plot(d1,'g+')\n",
    "plt.plot(d2,'bx')\n",
    "plt.plot(nrow/4,c1,'r^')\n",
    "plt.plot(nrow/4,c2,'r^')\n"
   ]
  },
  {
   "cell_type": "markdown",
   "metadata": {},
   "source": [
    "Comments on the outcome:\n",
    "\n",
    "The data points appear to have have correctly assigned membership (based on visualization). \n",
    "The centroid for the bottom cluster moves towards the top. \n",
    "\n"
   ]
  },
  {
   "cell_type": "markdown",
   "metadata": {},
   "source": [
    "## Part 2"
   ]
  },
  {
   "cell_type": "markdown",
   "metadata": {},
   "source": [
    "We can extend the code and do the clustering using EM instead. Let's cleanse the outlier out first."
   ]
  },
  {
   "cell_type": "code",
   "execution_count": 181,
   "metadata": {
    "collapsed": true
   },
   "outputs": [],
   "source": [
    "data[80]=np.random.randn()+2"
   ]
  },
  {
   "cell_type": "code",
   "execution_count": 182,
   "metadata": {
    "collapsed": true
   },
   "outputs": [],
   "source": [
    "## Try EM (simplified)\n",
    "## Random initialization again. Alternatively, k-means can be used.\n",
    "#memb1=np.random.randint(0,2,nrow)\n",
    "#memb2=1-memb1\n",
    "\n"
   ]
  },
  {
   "cell_type": "markdown",
   "metadata": {},
   "source": [
    "The following gives the iterations of a simplified EM process. First the two centres are updated using weighted average of members, then the variations. The memberships are then tuned as $e^-\\frac{(x-c)^2}{2s}$ and then normalized. This continues and after a number of iterations the outcome stablizes."
   ]
  },
  {
   "cell_type": "code",
   "execution_count": 183,
   "metadata": {},
   "outputs": [
    {
     "name": "stdout",
     "output_type": "stream",
     "text": [
      "it= 0 : 8.06042538609 / 2.14111204751 || 2.64404741005 / 1.93234259536\n",
      "it= 1 : 8.145833791 / 1.69192029872 || 2.14809207095 / 1.38821813456\n",
      "it= 2 : 8.19677353241 / 1.4934314122 || 1.93549284134 / 0.985545419611\n",
      "it= 3 : 8.17510560481 / 1.49381532989 || 1.90502507551 / 0.939769459176\n",
      "it= 4 : 8.16932525902 / 1.50082345593 || 1.89564556871 / 0.933183173691\n",
      "it= 5 : 8.16702606989 / 1.50389430804 || 1.89246470592 / 0.931039656038\n",
      "it= 6 : 8.16609313552 / 1.50515290987 || 1.89123967266 / 0.930218457807\n",
      "it= 7 : 8.16571321302 / 1.5056666433 || 1.89074844125 / 0.929889538896\n",
      "it= 8 : 8.16555803639 / 1.50587661946 || 1.8905488092 / 0.929755908508\n",
      "it= 9 : 8.16549455617 / 1.50596253769 || 1.89046728898 / 0.92970134491\n",
      "it= 10 : 8.16546856874 / 1.50599771386 || 1.89043393888 / 0.929679023447\n",
      "it= 11 : 8.16545792674 / 1.5060121192 || 1.89042028542 / 0.929669885179\n",
      "it= 12 : 8.16545356821 / 1.50601801912 || 1.8904146941 / 0.92966614292\n",
      "it= 13 : 8.16545178303 / 1.50602043564 || 1.89041240409 / 0.929664610225\n",
      "it= 14 : 8.16545105183 / 1.50602142543 || 1.89041146614 / 0.929663982458\n",
      "it= 15 : 8.16545075234 / 1.50602183084 || 1.89041108196 / 0.92966372533\n",
      "it= 16 : 8.16545062967 / 1.5060219969 || 1.89041092461 / 0.929663620011\n",
      "it= 17 : 8.16545057942 / 1.50602206491 || 1.89041086015 / 0.929663576873\n",
      "it= 18 : 8.16545055884 / 1.50602209277 || 1.89041083375 / 0.929663559204\n",
      "it= 19 : 8.16545055041 / 1.50602210418 || 1.89041082294 / 0.929663551966\n",
      "it= 20 : 8.16545054696 / 1.50602210886 || 1.89041081851 / 0.929663549002\n",
      "it= 21 : 8.16545054555 / 1.50602211077 || 1.8904108167 / 0.929663547788\n",
      "it= 22 : 8.16545054497 / 1.50602211156 || 1.89041081595 / 0.92966354729\n",
      "it= 23 : 8.16545054473 / 1.50602211188 || 1.89041081565 / 0.929663547087\n",
      "it= 24 : 8.16545054463 / 1.50602211201 || 1.89041081553 / 0.929663547003\n",
      "it= 25 : 8.16545054459 / 1.50602211206 || 1.89041081547 / 0.929663546969\n",
      "it= 26 : 8.16545054458 / 1.50602211208 || 1.89041081545 / 0.929663546955\n",
      "it= 27 : 8.16545054457 / 1.50602211209 || 1.89041081544 / 0.929663546949\n",
      "it= 28 : 8.16545054457 / 1.5060221121 || 1.89041081544 / 0.929663546947\n",
      "it= 29 : 8.16545054457 / 1.5060221121 || 1.89041081544 / 0.929663546946\n",
      "it= 30 : 8.16545054456 / 1.5060221121 || 1.89041081544 / 0.929663546946\n",
      "it= 31 : 8.16545054456 / 1.5060221121 || 1.89041081544 / 0.929663546945\n",
      "it= 32 : 8.16545054456 / 1.5060221121 || 1.89041081544 / 0.929663546945\n",
      "it= 33 : 8.16545054456 / 1.5060221121 || 1.89041081544 / 0.929663546945\n",
      "it= 34 : 8.16545054456 / 1.5060221121 || 1.89041081544 / 0.929663546945\n",
      "it= 35 : 8.16545054456 / 1.5060221121 || 1.89041081544 / 0.929663546945\n",
      "it= 36 : 8.16545054456 / 1.5060221121 || 1.89041081544 / 0.929663546945\n",
      "it= 37 : 8.16545054456 / 1.5060221121 || 1.89041081544 / 0.929663546945\n",
      "it= 38 : 8.16545054456 / 1.5060221121 || 1.89041081544 / 0.929663546945\n",
      "it= 39 : 8.16545054456 / 1.5060221121 || 1.89041081544 / 0.929663546945\n",
      "it= 40 : 8.16545054456 / 1.5060221121 || 1.89041081544 / 0.929663546945\n",
      "it= 41 : 8.16545054456 / 1.5060221121 || 1.89041081544 / 0.929663546945\n",
      "it= 42 : 8.16545054456 / 1.5060221121 || 1.89041081544 / 0.929663546945\n",
      "it= 43 : 8.16545054456 / 1.5060221121 || 1.89041081544 / 0.929663546945\n",
      "it= 44 : 8.16545054456 / 1.5060221121 || 1.89041081544 / 0.929663546945\n",
      "it= 45 : 8.16545054456 / 1.5060221121 || 1.89041081544 / 0.929663546945\n",
      "it= 46 : 8.16545054456 / 1.5060221121 || 1.89041081544 / 0.929663546945\n",
      "it= 47 : 8.16545054456 / 1.5060221121 || 1.89041081544 / 0.929663546945\n",
      "it= 48 : 8.16545054456 / 1.5060221121 || 1.89041081544 / 0.929663546945\n",
      "it= 49 : 8.16545054456 / 1.5060221121 || 1.89041081544 / 0.929663546945\n"
     ]
    },
    {
     "data": {
      "text/plain": [
       "[<matplotlib.lines.Line2D at 0x11774fd10>]"
      ]
     },
     "execution_count": 183,
     "metadata": {},
     "output_type": "execute_result"
    },
    {
     "data": {
      "image/png": "[encoded data removed]",
      "text/plain": [
       "<matplotlib.figure.Figure at 0x115a2f190>"
      ]
     },
     "metadata": {},
     "output_type": "display_data"
    }
   ],
   "source": [
    "## now the iterations\n",
    "for it in range(50):\n",
    "    # update centres\n",
    "    c1=sum(memb1*data)/sum(memb1)\n",
    "    c2=sum(memb2*data)/sum(memb2)\n",
    "    # update 'spread' - the variations\n",
    "    s1=sum(memb1*(data-c1)**2)/sum(memb1)\n",
    "    s2=sum(memb2*(data-c2)**2)/sum(memb2)\n",
    "    # print the center and std\n",
    "    print 'it=',it,':', c1,'/',np.sqrt(s1),'||',c2,'/',np.sqrt(s2)\n",
    "    # re-calculate memberships using the center and std values\n",
    "    memb1=np.exp(-(data-c1)**2/s1/2)\n",
    "    memb2=np.exp(-(data-c2)**2/s2/2)\n",
    "    # normalise\n",
    "    memb1/=(memb1+memb2)\n",
    "    memb2/=(memb1+memb2)\n",
    "    \n",
    "    \n",
    "# Plot it out\n",
    "plt.plot(d1,'g+')\n",
    "plt.plot(d2,'bx')\n",
    "plt.plot(nrow/4,c1,'r^')\n",
    "plt.plot(nrow/4,c2,'r^')"
   ]
  },
  {
   "cell_type": "markdown",
   "metadata": {},
   "source": [
    "Run the code above a couple of times, and see whether it manages to calculate the centres and the spreads of the two Gaussians. Are the clusters correctly located?\n",
    "\n",
    "\n",
    "** Task B. **\n",
    "Now, let us take a look whether EM can model data \"clouds\" of different sizes. For this, comment off the random initialization again. Find the line with 'd2' assignment, and modify it into \"d2 = np.random.randn(100)*1.5+8\". This means the second cloud has now a bigger spread (stdev=1.5). Run the code to this line, and note what the result tells you about the Gaussian centres and their spreads. If the result is not quite right, try a few more runs.\n",
    "\n",
    "Then, reuse the code in Part A and conduct k-means clustering to *initialize* the cluster centers and then carry on with EM. Does this work better? "
   ]
  },
  {
   "cell_type": "code",
   "execution_count": 184,
   "metadata": {},
   "outputs": [
    {
     "name": "stdout",
     "output_type": "stream",
     "text": [
      "it= 0 : 8.19023002557 / 1.47038135119 || 1.92645143016 / 0.953021253044\n",
      "it= 1 : 8.17487967694 / 1.49338637623 || 1.90281563185 / 0.937972550125\n",
      "it= 2 : 8.16912720093 / 1.50106041233 || 1.89520401149 / 0.932872503772\n",
      "it= 3 : 8.16693151169 / 1.50401979096 || 1.89232586942 / 0.930945513352\n",
      "it= 4 : 8.16605340562 / 1.50520644947 || 1.89118695416 / 0.93018306396\n",
      "it= 5 : 8.16569688548 / 1.50568871943 || 1.89072730657 / 0.929875383095\n",
      "it= 6 : 8.16555134965 / 1.50588566797 || 1.89054020904 / 0.929750151393\n",
      "it= 7 : 8.16549181836 / 1.50596624335 || 1.89046377407 / 0.929698992274\n",
      "it= 8 : 8.1654674476 / 1.50599923144 || 1.89043250031 / 0.929678060604\n",
      "it= 9 : 8.16545746758 / 1.50601274074 || 1.89041969636 / 0.929669490921\n",
      "it= 10 : 8.16545338014 / 1.5060182737 || 1.89041445285 / 0.929665981452\n",
      "it= 11 : 8.165451706 / 1.50602053991 || 1.89041230528 / 0.929664544092\n",
      "it= 12 : 8.16545102028 / 1.50602146814 || 1.89041142567 / 0.929663955371\n",
      "it= 13 : 8.16545073942 / 1.50602184833 || 1.89041106539 / 0.929663714235\n",
      "it= 14 : 8.16545062438 / 1.50602200406 || 1.89041091782 / 0.929663615467\n",
      "it= 15 : 8.16545057725 / 1.50602206785 || 1.89041085737 / 0.929663575011\n",
      "it= 16 : 8.16545055795 / 1.50602209397 || 1.89041083261 / 0.929663558441\n",
      "it= 17 : 8.16545055005 / 1.50602210468 || 1.89041082247 / 0.929663551654\n",
      "it= 18 : 8.16545054681 / 1.50602210906 || 1.89041081832 / 0.929663548874\n",
      "it= 19 : 8.16545054548 / 1.50602211085 || 1.89041081662 / 0.929663547735\n",
      "it= 20 : 8.16545054494 / 1.50602211159 || 1.89041081592 / 0.929663547269\n",
      "it= 21 : 8.16545054472 / 1.50602211189 || 1.89041081564 / 0.929663547078\n",
      "it= 22 : 8.16545054463 / 1.50602211201 || 1.89041081552 / 0.929663547\n",
      "it= 23 : 8.16545054459 / 1.50602211206 || 1.89041081547 / 0.929663546968\n",
      "it= 24 : 8.16545054457 / 1.50602211209 || 1.89041081545 / 0.929663546954\n",
      "it= 25 : 8.16545054457 / 1.50602211209 || 1.89041081544 / 0.929663546949\n",
      "it= 26 : 8.16545054457 / 1.5060221121 || 1.89041081544 / 0.929663546947\n",
      "it= 27 : 8.16545054457 / 1.5060221121 || 1.89041081544 / 0.929663546946\n",
      "it= 28 : 8.16545054456 / 1.5060221121 || 1.89041081544 / 0.929663546946\n",
      "it= 29 : 8.16545054456 / 1.5060221121 || 1.89041081544 / 0.929663546945\n",
      "it= 30 : 8.16545054456 / 1.5060221121 || 1.89041081544 / 0.929663546945\n",
      "it= 31 : 8.16545054456 / 1.5060221121 || 1.89041081544 / 0.929663546945\n",
      "it= 32 : 8.16545054456 / 1.5060221121 || 1.89041081544 / 0.929663546945\n",
      "it= 33 : 8.16545054456 / 1.5060221121 || 1.89041081544 / 0.929663546945\n",
      "it= 34 : 8.16545054456 / 1.5060221121 || 1.89041081544 / 0.929663546945\n",
      "it= 35 : 8.16545054456 / 1.5060221121 || 1.89041081544 / 0.929663546945\n",
      "it= 36 : 8.16545054456 / 1.5060221121 || 1.89041081544 / 0.929663546945\n",
      "it= 37 : 8.16545054456 / 1.5060221121 || 1.89041081544 / 0.929663546945\n",
      "it= 38 : 8.16545054456 / 1.5060221121 || 1.89041081544 / 0.929663546945\n",
      "it= 39 : 8.16545054456 / 1.5060221121 || 1.89041081544 / 0.929663546945\n",
      "it= 40 : 8.16545054456 / 1.5060221121 || 1.89041081544 / 0.929663546945\n",
      "it= 41 : 8.16545054456 / 1.5060221121 || 1.89041081544 / 0.929663546945\n",
      "it= 42 : 8.16545054456 / 1.5060221121 || 1.89041081544 / 0.929663546945\n",
      "it= 43 : 8.16545054456 / 1.5060221121 || 1.89041081544 / 0.929663546945\n",
      "it= 44 : 8.16545054456 / 1.5060221121 || 1.89041081544 / 0.929663546945\n",
      "it= 45 : 8.16545054456 / 1.5060221121 || 1.89041081544 / 0.929663546945\n",
      "it= 46 : 8.16545054456 / 1.5060221121 || 1.89041081544 / 0.929663546945\n",
      "it= 47 : 8.16545054456 / 1.5060221121 || 1.89041081544 / 0.929663546945\n",
      "it= 48 : 8.16545054456 / 1.5060221121 || 1.89041081544 / 0.929663546945\n",
      "it= 49 : 8.16545054456 / 1.5060221121 || 1.89041081544 / 0.929663546945\n"
     ]
    },
    {
     "data": {
      "text/plain": [
       "[<matplotlib.lines.Line2D at 0x115822f10>]"
      ]
     },
     "execution_count": 184,
     "metadata": {},
     "output_type": "execute_result"
    },
    {
     "data": {
      "image/png": "[encoded data removed]",
      "text/plain": [
       "<matplotlib.figure.Figure at 0x117994b50>"
      ]
     },
     "metadata": {},
     "output_type": "display_data"
    }
   ],
   "source": [
    "## your code for Task B\n",
    "\n",
    "\n",
    "# Using K-mean to initialize the cluster centers\n",
    "for it in range(50):\n",
    "    c1=sum(data*memb1)/sum(memb1)\n",
    "    c2=sum(data*memb2)/sum(memb2)\n",
    "   # if distance to c1 is smaller it belongs to cluster 1, memb1=1; otherwise memb1=0\n",
    "    memb1=np.greater(np.abs(data-c2), np.abs(data-c1)).astype(int)\n",
    "    memb2=1-memb1\n",
    "    #print c1,c2\n",
    "\n",
    "\n",
    "for it in range(50):\n",
    "    # update centres\n",
    "    c1=sum(memb1*data)/sum(memb1)\n",
    "    c2=sum(memb2*data)/sum(memb2)\n",
    "    # update 'spread' - the variations\n",
    "    s1=sum(memb1*(data-c1)**2)/sum(memb1)\n",
    "    s2=sum(memb2*(data-c2)**2)/sum(memb2)\n",
    "    # print the center and std\n",
    "    print 'it=',it,':', c1,'/',np.sqrt(s1),'||',c2,'/',np.sqrt(s2)\n",
    "    # re-calculate memberships using the center and std values\n",
    "    memb1=np.exp(-(data-c1)**2/s1/2)\n",
    "    memb2=np.exp(-(data-c2)**2/s2/2)\n",
    "    # normalise\n",
    "    memb1/=(memb1+memb2)\n",
    "    memb2/=(memb1+memb2)\n",
    "    \n",
    "    \n",
    "# Plot it out\n",
    "plt.plot(d1,'g+')\n",
    "plt.plot(d2,'bx')\n",
    "plt.plot(nrow/4,c1,'r^')\n",
    "plt.plot(nrow/4,c2,'r^')\n",
    "\n",
    "\n",
    "\n",
    "\n"
   ]
  },
  {
   "cell_type": "markdown",
   "metadata": {},
   "source": [
    "Your comments: ...\n",
    "\n",
    "Using K-means as an initialization step, the results are more stable. The clusters are correctly formed and the centroids are located at the centre of each cluster. \n",
    "\n",
    "The stdev of the clusters is approximated with reasonable accuracy. "
   ]
  },
  {
   "cell_type": "markdown",
   "metadata": {},
   "source": [
    "## Part 3"
   ]
  },
  {
   "cell_type": "markdown",
   "metadata": {},
   "source": [
    "So far we have been working on 1-D data points. Let's add another dimension so that they can be properly displayed on the screen. The following k-means code, is good for general-purpose clustering - note there are quite a few changes made to the previous code, mainly to deal with arrays of higher dimensionality. The algorithm is simplified, without looking at stdev of the clusters. "
   ]
  },
  {
   "cell_type": "code",
   "execution_count": 185,
   "metadata": {},
   "outputs": [
    {
     "data": {
      "image/png": "[encoded data removed]",
      "text/plain": [
       "<matplotlib.figure.Figure at 0x1159f6e10>"
      ]
     },
     "metadata": {},
     "output_type": "display_data"
    }
   ],
   "source": [
    "## generate two random data 'clouds' around [2,2] and [8,8], each with 100 points\n",
    "d1 = np.random.randn(100,2)+2\n",
    "d2 = np.random.randn(100,2)+5\n",
    "## show them up on the screen. \n",
    "plt.plot(d1[:,0],d1[:,1],'g+')\n",
    "plt.plot(d2[:,0],d2[:,1],'bx')\n",
    "plt.grid(b=True)"
   ]
  },
  {
   "cell_type": "markdown",
   "metadata": {},
   "source": [
    "Again, stack the two sets and shuffle it so it doesn't have any particular order."
   ]
  },
  {
   "cell_type": "code",
   "execution_count": 186,
   "metadata": {
    "collapsed": true
   },
   "outputs": [],
   "source": [
    "## mix two data clouds into one array (200 points)\n",
    "data=np.vstack((d1,d2))\n",
    "data=np.random.permutation(data)\n",
    "nrow,ncol=data.shape"
   ]
  },
  {
   "cell_type": "markdown",
   "metadata": {},
   "source": [
    "We then define a random initialization function:"
   ]
  },
  {
   "cell_type": "code",
   "execution_count": 187,
   "metadata": {
    "collapsed": true
   },
   "outputs": [],
   "source": [
    "def randInitWithData(data, k):\n",
    "    nrow,dim=data.shape\n",
    "    centres=np.zeros((k,dim))\n",
    "    for i in range(k):\n",
    "        centres[i]=data[np.random.randint(nrow)].copy()\n",
    "    return centres"
   ]
  },
  {
   "cell_type": "markdown",
   "metadata": {},
   "source": [
    "and test the function out with k=2:"
   ]
  },
  {
   "cell_type": "code",
   "execution_count": 188,
   "metadata": {
    "collapsed": true
   },
   "outputs": [],
   "source": [
    "centres=randInitWithData(data,k=2)"
   ]
  },
  {
   "cell_type": "code",
   "execution_count": 189,
   "metadata": {},
   "outputs": [
    {
     "name": "stdout",
     "output_type": "stream",
     "text": [
      "[[ 0.98208024  0.99341054]\n",
      " [ 6.07596838  5.54631142]]\n"
     ]
    }
   ],
   "source": [
    "print centres      # Where are the initial centres?"
   ]
  },
  {
   "cell_type": "markdown",
   "metadata": {},
   "source": [
    "Now we define a function for going through an iteration of finding membership and update centres:"
   ]
  },
  {
   "cell_type": "code",
   "execution_count": 190,
   "metadata": {
    "collapsed": true
   },
   "outputs": [],
   "source": [
    "def iterate(centres,data):\n",
    "    k,dim=centres.shape\n",
    "    nrow,dim=data.shape\n",
    "    ## Compute distances between centres and data points. \n",
    "    ## Start with the first centre and then stack the rest vertically\n",
    "    distances = np.sum((data-centres[0,:])**2,axis=1)\n",
    "    for j in range(k-1):\n",
    "        distances = np.vstack((distances, np.sum((data-centres[j+1,:])**2,axis=1)))\n",
    "        ## 'distances' is a 2D array: row for centres, column for data items\n",
    "        ## Identify the closest cluster for each data item\n",
    "        cluster = distances.argmin(axis=0)\n",
    "        ## Turn it into a single-column array\n",
    "        cluster = cluster.reshape((nrow,1))\n",
    "        ## Update the cluster centres as the mean of data items that are closest to them\n",
    "        for j in range(k):\n",
    "            thisCluster = np.where(cluster==j,1,0)      # decide membership\n",
    "            if np.sum(thisCluster)>0:\n",
    "                centres[j,:] = np.sum(data*thisCluster,axis=0)/np.sum(thisCluster)\n",
    "    return centres.copy()"
   ]
  },
  {
   "cell_type": "code",
   "execution_count": 191,
   "metadata": {
    "collapsed": true
   },
   "outputs": [],
   "source": [
    "oldcentres=centres.copy()      # keep track of the old centres "
   ]
  },
  {
   "cell_type": "markdown",
   "metadata": {},
   "source": [
    "Now we call iteratre() a number of times and see if it converges:"
   ]
  },
  {
   "cell_type": "code",
   "execution_count": 192,
   "metadata": {},
   "outputs": [
    {
     "name": "stdout",
     "output_type": "stream",
     "text": [
      "[[ 1.84940655  1.83389195]\n",
      " [ 5.01101501  5.14999658]]\n",
      "3.16907592568\n"
     ]
    }
   ],
   "source": [
    "\n",
    "# Modified so it will run until the cost is sufficiently low.\n",
    "while(True):\n",
    "    centres=iterate(centres,data)\n",
    "    cost = np.sum(np.abs(centres-oldcentres)) # calculate difference\n",
    "    \n",
    "    if cost < 0.0001:\n",
    "        break\n",
    "    \n",
    "    print centres\n",
    "    print cost\n",
    "      \n",
    "    oldcentres=centres.copy()"
   ]
  },
  {
   "cell_type": "markdown",
   "metadata": {},
   "source": [
    "Run the code. Do you think it manages to locate the cluster centers in the right places? \n",
    "\n",
    "You may want to write a few functions for the above k-means code to automatically stop iterations once convergence is reached.\n",
    "\n",
    "Let's show them up on the screen again:"
   ]
  },
  {
   "cell_type": "code",
   "execution_count": 193,
   "metadata": {},
   "outputs": [
    {
     "data": {
      "text/plain": [
       "[<matplotlib.lines.Line2D at 0x117e24c90>]"
      ]
     },
     "execution_count": 193,
     "metadata": {},
     "output_type": "execute_result"
    },
    {
     "data": {
      "image/png": "[encoded data removed]",
      "text/plain": [
       "<matplotlib.figure.Figure at 0x117da0d10>"
      ]
     },
     "metadata": {},
     "output_type": "display_data"
    }
   ],
   "source": [
    "## show them up on the screen. \n",
    "plt.plot(d1[:,0],d1[:,1],'g+')\n",
    "plt.plot(d2[:,0],d2[:,1],'bx')\n",
    "plt.plot(centres[:,0],centres[:,1],'ro')"
   ]
  },
  {
   "cell_type": "markdown",
   "metadata": {},
   "source": [
    "## Part 4"
   ]
  },
  {
   "cell_type": "markdown",
   "metadata": {},
   "source": [
    "Let's experiment with another clustering algoithm and take a quick look of clustering evaluation. For this we turn to Scikit.learn, a package specialised for Machine Learning. First, some necessary imports:"
   ]
  },
  {
   "cell_type": "markdown",
   "metadata": {},
   "source": [
    "### DBSCAN"
   ]
  },
  {
   "cell_type": "code",
   "execution_count": 194,
   "metadata": {},
   "outputs": [],
   "source": [
    "import numpy as np\n",
    "from sklearn.cluster import DBSCAN\n",
    "from sklearn.cluster import KMeans\n",
    "from sklearn import metrics\n",
    "from sklearn.datasets.samples_generator import make_blobs\n",
    "from sklearn.preprocessing import StandardScaler"
   ]
  },
  {
   "cell_type": "markdown",
   "metadata": {},
   "source": [
    "We use sklearn's data generators to make three blobs:"
   ]
  },
  {
   "cell_type": "code",
   "execution_count": 195,
   "metadata": {
    "collapsed": true
   },
   "outputs": [],
   "source": [
    "centers = [[1, 1], [-1, -1], [1, -1]]\n",
    "X, labels_true = make_blobs(n_samples=750, centers=centers, cluster_std=0.4,\n",
    "                            random_state=0)\n",
    "X = StandardScaler().fit_transform(X)"
   ]
  },
  {
   "cell_type": "markdown",
   "metadata": {},
   "source": [
    "Suppose we set Eps to 0.3, and the minimum number of neighbours needed for a data point to become core points is 10. The following cluster the dataset using DBSCAN, predict cluster labels for all data points, and mark out core points:"
   ]
  },
  {
   "cell_type": "code",
   "execution_count": 196,
   "metadata": {
    "collapsed": true
   },
   "outputs": [],
   "source": [
    "db = DBSCAN(eps=0.3, min_samples=10).fit(X)\n",
    "labels = db.labels_\n",
    "core_samples_mask = np.zeros_like(db.labels_, dtype=bool)\n",
    "core_samples_mask[db.core_sample_indices_] = True"
   ]
  },
  {
   "cell_type": "markdown",
   "metadata": {},
   "source": [
    "The <code>fit()</code> function will learn from the data, and label all data points. Note  DBSCAN will mark out core points, border points, and noise points. Noise points are not clustered, so in sklearn's implementation it takes a label of -1 (while others take 0, 1, ...). The number of clusters can be found by:"
   ]
  },
  {
   "cell_type": "code",
   "execution_count": 197,
   "metadata": {},
   "outputs": [
    {
     "name": "stdout",
     "output_type": "stream",
     "text": [
      "Estimated number of clusters: 3\n"
     ]
    }
   ],
   "source": [
    "# Number of clusters in labels, ignoring noise if present.\n",
    "n_clusters_ = len(set(labels)) - (1 if -1 in labels else 0)\n",
    "print('Estimated number of clusters: %d' % n_clusters_)\n",
    "\n",
    "\n",
    "\n"
   ]
  },
  {
   "cell_type": "markdown",
   "metadata": {},
   "source": [
    "### Visualization"
   ]
  },
  {
   "cell_type": "markdown",
   "metadata": {},
   "source": [
    "Using the learning outcome, we can visualize the clustering results. The following code colours the data points according to their cluster IDs, with core points displayed by large markers. Noisy points are displayed in black:"
   ]
  },
  {
   "cell_type": "code",
   "execution_count": 198,
   "metadata": {},
   "outputs": [
    {
     "ename": "ValueError",
     "evalue": "The truth value of an array with more than one element is ambiguous. Use a.any() or a.all()",
     "output_type": "error",
     "traceback": [
      "\u001b[0;31m---------------------------------------------------------------------------\u001b[0m",
      "\u001b[0;31mValueError\u001b[0m                                Traceback (most recent call last)",
      "\u001b[0;32m<ipython-input-198-fcca93bac13d>\u001b[0m in \u001b[0;36m<module>\u001b[0;34m()\u001b[0m\n\u001b[1;32m     15\u001b[0m \u001b[0;34m\u001b[0m\u001b[0m\n\u001b[1;32m     16\u001b[0m     plt.plot(xy[:, 0], xy[:, 1], 'o', markerfacecolor=col,\n\u001b[0;32m---> 17\u001b[0;31m              markeredgecolor='k', markersize=14)\n\u001b[0m\u001b[1;32m     18\u001b[0m     \u001b[0;31m# non-core points\u001b[0m\u001b[0;34m\u001b[0m\u001b[0;34m\u001b[0m\u001b[0m\n\u001b[1;32m     19\u001b[0m     \u001b[0mxy\u001b[0m \u001b[0;34m=\u001b[0m \u001b[0mX\u001b[0m\u001b[0;34m[\u001b[0m\u001b[0mclass_member_mask\u001b[0m \u001b[0;34m&\u001b[0m \u001b[0;34m~\u001b[0m\u001b[0mcore_samples_mask\u001b[0m\u001b[0;34m]\u001b[0m\u001b[0;34m\u001b[0m\u001b[0m\n",
      "\u001b[0;32m/Users/theFlame/anaconda3/envs/ipykernel_py2/lib/python2.7/site-packages/matplotlib/pyplot.pyc\u001b[0m in \u001b[0;36mplot\u001b[0;34m(*args, **kwargs)\u001b[0m\n\u001b[1;32m   3315\u001b[0m                       mplDeprecation)\n\u001b[1;32m   3316\u001b[0m     \u001b[0;32mtry\u001b[0m\u001b[0;34m:\u001b[0m\u001b[0;34m\u001b[0m\u001b[0m\n\u001b[0;32m-> 3317\u001b[0;31m         \u001b[0mret\u001b[0m \u001b[0;34m=\u001b[0m \u001b[0max\u001b[0m\u001b[0;34m.\u001b[0m\u001b[0mplot\u001b[0m\u001b[0;34m(\u001b[0m\u001b[0;34m*\u001b[0m\u001b[0margs\u001b[0m\u001b[0;34m,\u001b[0m \u001b[0;34m**\u001b[0m\u001b[0mkwargs\u001b[0m\u001b[0;34m)\u001b[0m\u001b[0;34m\u001b[0m\u001b[0m\n\u001b[0m\u001b[1;32m   3318\u001b[0m     \u001b[0;32mfinally\u001b[0m\u001b[0;34m:\u001b[0m\u001b[0;34m\u001b[0m\u001b[0m\n\u001b[1;32m   3319\u001b[0m         \u001b[0max\u001b[0m\u001b[0;34m.\u001b[0m\u001b[0m_hold\u001b[0m \u001b[0;34m=\u001b[0m \u001b[0mwashold\u001b[0m\u001b[0;34m\u001b[0m\u001b[0m\n",
      "\u001b[0;32m/Users/theFlame/anaconda3/envs/ipykernel_py2/lib/python2.7/site-packages/matplotlib/__init__.pyc\u001b[0m in \u001b[0;36minner\u001b[0;34m(ax, *args, **kwargs)\u001b[0m\n\u001b[1;32m   1896\u001b[0m                     warnings.warn(msg % (label_namer, func.__name__),\n\u001b[1;32m   1897\u001b[0m                                   RuntimeWarning, stacklevel=2)\n\u001b[0;32m-> 1898\u001b[0;31m             \u001b[0;32mreturn\u001b[0m \u001b[0mfunc\u001b[0m\u001b[0;34m(\u001b[0m\u001b[0max\u001b[0m\u001b[0;34m,\u001b[0m \u001b[0;34m*\u001b[0m\u001b[0margs\u001b[0m\u001b[0;34m,\u001b[0m \u001b[0;34m**\u001b[0m\u001b[0mkwargs\u001b[0m\u001b[0;34m)\u001b[0m\u001b[0;34m\u001b[0m\u001b[0m\n\u001b[0m\u001b[1;32m   1899\u001b[0m         \u001b[0mpre_doc\u001b[0m \u001b[0;34m=\u001b[0m \u001b[0minner\u001b[0m\u001b[0;34m.\u001b[0m\u001b[0m__doc__\u001b[0m\u001b[0;34m\u001b[0m\u001b[0m\n\u001b[1;32m   1900\u001b[0m         \u001b[0;32mif\u001b[0m \u001b[0mpre_doc\u001b[0m \u001b[0;32mis\u001b[0m \u001b[0mNone\u001b[0m\u001b[0;34m:\u001b[0m\u001b[0;34m\u001b[0m\u001b[0m\n",
      "\u001b[0;32m/Users/theFlame/anaconda3/envs/ipykernel_py2/lib/python2.7/site-packages/matplotlib/axes/_axes.pyc\u001b[0m in \u001b[0;36mplot\u001b[0;34m(self, *args, **kwargs)\u001b[0m\n\u001b[1;32m   1404\u001b[0m         \u001b[0mkwargs\u001b[0m \u001b[0;34m=\u001b[0m \u001b[0mcbook\u001b[0m\u001b[0;34m.\u001b[0m\u001b[0mnormalize_kwargs\u001b[0m\u001b[0;34m(\u001b[0m\u001b[0mkwargs\u001b[0m\u001b[0;34m,\u001b[0m \u001b[0m_alias_map\u001b[0m\u001b[0;34m)\u001b[0m\u001b[0;34m\u001b[0m\u001b[0m\n\u001b[1;32m   1405\u001b[0m \u001b[0;34m\u001b[0m\u001b[0m\n\u001b[0;32m-> 1406\u001b[0;31m         \u001b[0;32mfor\u001b[0m \u001b[0mline\u001b[0m \u001b[0;32min\u001b[0m \u001b[0mself\u001b[0m\u001b[0;34m.\u001b[0m\u001b[0m_get_lines\u001b[0m\u001b[0;34m(\u001b[0m\u001b[0;34m*\u001b[0m\u001b[0margs\u001b[0m\u001b[0;34m,\u001b[0m \u001b[0;34m**\u001b[0m\u001b[0mkwargs\u001b[0m\u001b[0;34m)\u001b[0m\u001b[0;34m:\u001b[0m\u001b[0;34m\u001b[0m\u001b[0m\n\u001b[0m\u001b[1;32m   1407\u001b[0m             \u001b[0mself\u001b[0m\u001b[0;34m.\u001b[0m\u001b[0madd_line\u001b[0m\u001b[0;34m(\u001b[0m\u001b[0mline\u001b[0m\u001b[0;34m)\u001b[0m\u001b[0;34m\u001b[0m\u001b[0m\n\u001b[1;32m   1408\u001b[0m             \u001b[0mlines\u001b[0m\u001b[0;34m.\u001b[0m\u001b[0mappend\u001b[0m\u001b[0;34m(\u001b[0m\u001b[0mline\u001b[0m\u001b[0;34m)\u001b[0m\u001b[0;34m\u001b[0m\u001b[0m\n",
      "\u001b[0;32m/Users/theFlame/anaconda3/envs/ipykernel_py2/lib/python2.7/site-packages/matplotlib/axes/_base.pyc\u001b[0m in \u001b[0;36m_grab_next_args\u001b[0;34m(self, *args, **kwargs)\u001b[0m\n\u001b[1;32m    405\u001b[0m                 \u001b[0;32mreturn\u001b[0m\u001b[0;34m\u001b[0m\u001b[0m\n\u001b[1;32m    406\u001b[0m             \u001b[0;32mif\u001b[0m \u001b[0mlen\u001b[0m\u001b[0;34m(\u001b[0m\u001b[0mremaining\u001b[0m\u001b[0;34m)\u001b[0m \u001b[0;34m<=\u001b[0m \u001b[0;36m3\u001b[0m\u001b[0;34m:\u001b[0m\u001b[0;34m\u001b[0m\u001b[0m\n\u001b[0;32m--> 407\u001b[0;31m                 \u001b[0;32mfor\u001b[0m \u001b[0mseg\u001b[0m \u001b[0;32min\u001b[0m \u001b[0mself\u001b[0m\u001b[0;34m.\u001b[0m\u001b[0m_plot_args\u001b[0m\u001b[0;34m(\u001b[0m\u001b[0mremaining\u001b[0m\u001b[0;34m,\u001b[0m \u001b[0mkwargs\u001b[0m\u001b[0;34m)\u001b[0m\u001b[0;34m:\u001b[0m\u001b[0;34m\u001b[0m\u001b[0m\n\u001b[0m\u001b[1;32m    408\u001b[0m                     \u001b[0;32myield\u001b[0m \u001b[0mseg\u001b[0m\u001b[0;34m\u001b[0m\u001b[0m\n\u001b[1;32m    409\u001b[0m                 \u001b[0;32mreturn\u001b[0m\u001b[0;34m\u001b[0m\u001b[0m\n",
      "\u001b[0;32m/Users/theFlame/anaconda3/envs/ipykernel_py2/lib/python2.7/site-packages/matplotlib/axes/_base.pyc\u001b[0m in \u001b[0;36m_plot_args\u001b[0;34m(self, tup, kwargs)\u001b[0m\n\u001b[1;32m    393\u001b[0m         \u001b[0mncx\u001b[0m\u001b[0;34m,\u001b[0m \u001b[0mncy\u001b[0m \u001b[0;34m=\u001b[0m \u001b[0mx\u001b[0m\u001b[0;34m.\u001b[0m\u001b[0mshape\u001b[0m\u001b[0;34m[\u001b[0m\u001b[0;36m1\u001b[0m\u001b[0;34m]\u001b[0m\u001b[0;34m,\u001b[0m \u001b[0my\u001b[0m\u001b[0;34m.\u001b[0m\u001b[0mshape\u001b[0m\u001b[0;34m[\u001b[0m\u001b[0;36m1\u001b[0m\u001b[0;34m]\u001b[0m\u001b[0;34m\u001b[0m\u001b[0m\n\u001b[1;32m    394\u001b[0m         \u001b[0;32mfor\u001b[0m \u001b[0mj\u001b[0m \u001b[0;32min\u001b[0m \u001b[0mxrange\u001b[0m\u001b[0;34m(\u001b[0m\u001b[0mmax\u001b[0m\u001b[0;34m(\u001b[0m\u001b[0mncx\u001b[0m\u001b[0;34m,\u001b[0m \u001b[0mncy\u001b[0m\u001b[0;34m)\u001b[0m\u001b[0;34m)\u001b[0m\u001b[0;34m:\u001b[0m\u001b[0;34m\u001b[0m\u001b[0m\n\u001b[0;32m--> 395\u001b[0;31m             \u001b[0mseg\u001b[0m \u001b[0;34m=\u001b[0m \u001b[0mfunc\u001b[0m\u001b[0;34m(\u001b[0m\u001b[0mx\u001b[0m\u001b[0;34m[\u001b[0m\u001b[0;34m:\u001b[0m\u001b[0;34m,\u001b[0m \u001b[0mj\u001b[0m \u001b[0;34m%\u001b[0m \u001b[0mncx\u001b[0m\u001b[0;34m]\u001b[0m\u001b[0;34m,\u001b[0m \u001b[0my\u001b[0m\u001b[0;34m[\u001b[0m\u001b[0;34m:\u001b[0m\u001b[0;34m,\u001b[0m \u001b[0mj\u001b[0m \u001b[0;34m%\u001b[0m \u001b[0mncy\u001b[0m\u001b[0;34m]\u001b[0m\u001b[0;34m,\u001b[0m \u001b[0mkw\u001b[0m\u001b[0;34m,\u001b[0m \u001b[0mkwargs\u001b[0m\u001b[0;34m)\u001b[0m\u001b[0;34m\u001b[0m\u001b[0m\n\u001b[0m\u001b[1;32m    396\u001b[0m             \u001b[0mret\u001b[0m\u001b[0;34m.\u001b[0m\u001b[0mappend\u001b[0m\u001b[0;34m(\u001b[0m\u001b[0mseg\u001b[0m\u001b[0;34m)\u001b[0m\u001b[0;34m\u001b[0m\u001b[0m\n\u001b[1;32m    397\u001b[0m         \u001b[0;32mreturn\u001b[0m \u001b[0mret\u001b[0m\u001b[0;34m\u001b[0m\u001b[0m\n",
      "\u001b[0;32m/Users/theFlame/anaconda3/envs/ipykernel_py2/lib/python2.7/site-packages/matplotlib/axes/_base.pyc\u001b[0m in \u001b[0;36m_makeline\u001b[0;34m(self, x, y, kw, kwargs)\u001b[0m\n\u001b[1;32m    300\u001b[0m         \u001b[0mdefault_dict\u001b[0m \u001b[0;34m=\u001b[0m \u001b[0mself\u001b[0m\u001b[0;34m.\u001b[0m\u001b[0m_getdefaults\u001b[0m\u001b[0;34m(\u001b[0m\u001b[0mNone\u001b[0m\u001b[0;34m,\u001b[0m \u001b[0mkw\u001b[0m\u001b[0;34m)\u001b[0m\u001b[0;34m\u001b[0m\u001b[0m\n\u001b[1;32m    301\u001b[0m         \u001b[0mself\u001b[0m\u001b[0;34m.\u001b[0m\u001b[0m_setdefaults\u001b[0m\u001b[0;34m(\u001b[0m\u001b[0mdefault_dict\u001b[0m\u001b[0;34m,\u001b[0m \u001b[0mkw\u001b[0m\u001b[0;34m)\u001b[0m\u001b[0;34m\u001b[0m\u001b[0m\n\u001b[0;32m--> 302\u001b[0;31m         \u001b[0mseg\u001b[0m \u001b[0;34m=\u001b[0m \u001b[0mmlines\u001b[0m\u001b[0;34m.\u001b[0m\u001b[0mLine2D\u001b[0m\u001b[0;34m(\u001b[0m\u001b[0mx\u001b[0m\u001b[0;34m,\u001b[0m \u001b[0my\u001b[0m\u001b[0;34m,\u001b[0m \u001b[0;34m**\u001b[0m\u001b[0mkw\u001b[0m\u001b[0;34m)\u001b[0m\u001b[0;34m\u001b[0m\u001b[0m\n\u001b[0m\u001b[1;32m    303\u001b[0m         \u001b[0;32mreturn\u001b[0m \u001b[0mseg\u001b[0m\u001b[0;34m\u001b[0m\u001b[0m\n\u001b[1;32m    304\u001b[0m \u001b[0;34m\u001b[0m\u001b[0m\n",
      "\u001b[0;32m/Users/theFlame/anaconda3/envs/ipykernel_py2/lib/python2.7/site-packages/matplotlib/lines.pyc\u001b[0m in \u001b[0;36m__init__\u001b[0;34m(self, xdata, ydata, linewidth, linestyle, color, marker, markersize, markeredgewidth, markeredgecolor, markerfacecolor, markerfacecoloralt, fillstyle, antialiased, dash_capstyle, solid_capstyle, dash_joinstyle, solid_joinstyle, pickradius, drawstyle, markevery, **kwargs)\u001b[0m\n\u001b[1;32m    418\u001b[0m         \u001b[0mself\u001b[0m\u001b[0;34m.\u001b[0m\u001b[0m_markerfacecoloralt\u001b[0m \u001b[0;34m=\u001b[0m \u001b[0mNone\u001b[0m\u001b[0;34m\u001b[0m\u001b[0m\n\u001b[1;32m    419\u001b[0m \u001b[0;34m\u001b[0m\u001b[0m\n\u001b[0;32m--> 420\u001b[0;31m         \u001b[0mself\u001b[0m\u001b[0;34m.\u001b[0m\u001b[0mset_markerfacecolor\u001b[0m\u001b[0;34m(\u001b[0m\u001b[0mmarkerfacecolor\u001b[0m\u001b[0;34m)\u001b[0m\u001b[0;34m\u001b[0m\u001b[0m\n\u001b[0m\u001b[1;32m    421\u001b[0m         \u001b[0mself\u001b[0m\u001b[0;34m.\u001b[0m\u001b[0mset_markerfacecoloralt\u001b[0m\u001b[0;34m(\u001b[0m\u001b[0mmarkerfacecoloralt\u001b[0m\u001b[0;34m)\u001b[0m\u001b[0;34m\u001b[0m\u001b[0m\n\u001b[1;32m    422\u001b[0m         \u001b[0mself\u001b[0m\u001b[0;34m.\u001b[0m\u001b[0mset_markeredgecolor\u001b[0m\u001b[0;34m(\u001b[0m\u001b[0mmarkeredgecolor\u001b[0m\u001b[0;34m)\u001b[0m\u001b[0;34m\u001b[0m\u001b[0m\n",
      "\u001b[0;32m/Users/theFlame/anaconda3/envs/ipykernel_py2/lib/python2.7/site-packages/matplotlib/lines.pyc\u001b[0m in \u001b[0;36mset_markerfacecolor\u001b[0;34m(self, fc)\u001b[0m\n\u001b[1;32m   1204\u001b[0m         \u001b[0;32mif\u001b[0m \u001b[0mfc\u001b[0m \u001b[0;32mis\u001b[0m \u001b[0mNone\u001b[0m\u001b[0;34m:\u001b[0m\u001b[0;34m\u001b[0m\u001b[0m\n\u001b[1;32m   1205\u001b[0m             \u001b[0mfc\u001b[0m \u001b[0;34m=\u001b[0m \u001b[0;34m'auto'\u001b[0m\u001b[0;34m\u001b[0m\u001b[0m\n\u001b[0;32m-> 1206\u001b[0;31m         \u001b[0;32mif\u001b[0m \u001b[0mself\u001b[0m\u001b[0;34m.\u001b[0m\u001b[0m_markerfacecolor\u001b[0m \u001b[0;34m!=\u001b[0m \u001b[0mfc\u001b[0m\u001b[0;34m:\u001b[0m\u001b[0;34m\u001b[0m\u001b[0m\n\u001b[0m\u001b[1;32m   1207\u001b[0m             \u001b[0mself\u001b[0m\u001b[0;34m.\u001b[0m\u001b[0mstale\u001b[0m \u001b[0;34m=\u001b[0m \u001b[0mTrue\u001b[0m\u001b[0;34m\u001b[0m\u001b[0m\n\u001b[1;32m   1208\u001b[0m         \u001b[0mself\u001b[0m\u001b[0;34m.\u001b[0m\u001b[0m_markerfacecolor\u001b[0m \u001b[0;34m=\u001b[0m \u001b[0mfc\u001b[0m\u001b[0;34m\u001b[0m\u001b[0m\n",
      "\u001b[0;31mValueError\u001b[0m: The truth value of an array with more than one element is ambiguous. Use a.any() or a.all()"
     ]
    },
    {
     "data": {
      "image/png": "[encoded data removed]",
      "text/plain": [
       "<matplotlib.figure.Figure at 0x1178d5c50>"
      ]
     },
     "metadata": {},
     "output_type": "display_data"
    }
   ],
   "source": [
    "# Black removed and is used for noise instead.\n",
    "unique_labels = set(labels)\n",
    "colors = plt.cm.Spectral(np.linspace(0, 1, len(unique_labels)))\n",
    "\n",
    "\n",
    "for k, col in zip(unique_labels, colors):\n",
    "    if k == -1:\n",
    "        # Black used for noise.\n",
    "        col = 'k'\n",
    "\n",
    "    class_member_mask = (labels == k)\n",
    "\n",
    "    # plot core points \n",
    "    xy = X[class_member_mask & core_samples_mask]\n",
    "    \n",
    "    plt.plot(xy[:, 0], xy[:, 1], 'o', markerfacecolor=col,\n",
    "             markeredgecolor='k', markersize=14)\n",
    "    # non-core points\n",
    "    xy = X[class_member_mask & ~core_samples_mask]\n",
    "    plt.plot(xy[:, 0], xy[:, 1], 'o', markerfacecolor=col,\n",
    "             markeredgecolor='k', markersize=6)\n",
    "\n",
    "plt.title('Estimated number of clusters: %d' % n_clusters_)"
   ]
  },
  {
   "cell_type": "markdown",
   "metadata": {},
   "source": [
    "See if you can tell the data point types apart: core points, border points, and noise points. "
   ]
  },
  {
   "cell_type": "markdown",
   "metadata": {},
   "source": [
    "### Evaluation"
   ]
  },
  {
   "cell_type": "markdown",
   "metadata": {},
   "source": [
    "To evaluate the clustering outcome, there are a number of indeces one can use. Here we take a quick look on Silhouette Score.\n",
    "\n",
    "For a data point with a cluster, its Silhouette Coefficient is decided by two scores:\n",
    "- a: The mean distance between a sample and all other points in the same cluster.\n",
    "- b: The mean distance between a sample and all other points in the next nearest cluster.\n",
    "The Silhouette Coefficient $s$ for the data point is then given as:\n",
    "$s = \\displaystyle\\frac{b - a}{max(a, b)}$"
   ]
  },
  {
   "cell_type": "markdown",
   "metadata": {},
   "source": [
    "The average Silhouette Coefficient of the overall clustering outcome is reported by:"
   ]
  },
  {
   "cell_type": "code",
   "execution_count": null,
   "metadata": {},
   "outputs": [],
   "source": [
    "metrics.silhouette_score(X, labels, metric='euclidean')"
   ]
  },
  {
   "cell_type": "markdown",
   "metadata": {},
   "source": [
    "The score is bounded between -1 for incorrect clustering and +1 for highly dense clustering. Scores around zero indicate overlapping clusters."
   ]
  },
  {
   "cell_type": "markdown",
   "metadata": {},
   "source": [
    "**Task C**. Parameters play important part in clustering algorithms. How does the setting of Eps affect the clustering outcome? Print out the number of clusters found, and the Silhouette Score when eps takes value from this list: [0.1,0.15,0.2,0.25,0.3,0.35,0.4]."
   ]
  },
  {
   "cell_type": "code",
   "execution_count": null,
   "metadata": {},
   "outputs": [],
   "source": [
    "# Your code here\n",
    "\n",
    "eps_list = [0.1,0.15,0.2,0.25,0.3,0.35,0.4]\n",
    "\n",
    "for i in range(0,len(eps_list)):\n",
    "    db = DBSCAN(eps=eps_list[i], min_samples=10).fit(X)\n",
    "    labels = db.labels_\n",
    "    core_samples_mask = np.zeros_like(db.labels_, dtype=bool)\n",
    "    core_samples_mask[db.core_sample_indices_] = True\n",
    "    \n",
    "    # Number of clusters in labels, ignoring noise if present.\n",
    "    n_clusters_ = len(set(labels)) - (1 if -1 in labels else 0)\n",
    "    silhouette_score =  metrics.silhouette_score(X, labels, metric='euclidean')\n",
    "    print( 'eps value: %.2f' % eps_list[i], 'Estimated number of clusters found: %d.' % n_clusters_,\n",
    "          \" Silhouette score: %f\" % silhouette_score)\n",
    "    \n",
    "\n",
    "\n",
    "\n",
    "\n",
    "\n"
   ]
  },
  {
   "cell_type": "markdown",
   "metadata": {},
   "source": [
    "Comment on your findings: \n",
    "\n",
    "The larger the eps value, the lower the number of clusters found. In this scenario the optimal eps score is 0.3, as this gives us the highest Silhouette score. The Silhouette score goes down when the eps values goes either way from the optimal value. \n",
    "\n",
    "\n",
    "\n",
    "\n"
   ]
  },
  {
   "cell_type": "markdown",
   "metadata": {},
   "source": [
    "**Task D**. Use the Sklearn K-means function to redo the clustering with k=2, 3, 4, 5. Compare the outcomes of using two initialization schemes: plain random initialization, and k-means++. Report the Silhouette Scores. "
   ]
  },
  {
   "cell_type": "code",
   "execution_count": 214,
   "metadata": {
    "scrolled": true
   },
   "outputs": [
    {
     "name": "stdout",
     "output_type": "stream",
     "text": [
      "K-Means clustering using k-mean++ for initialization: \n",
      "\n",
      "('K value: 2', ' Silhouette score: 0.516770')\n",
      "('K value: 3', ' Silhouette score: 0.649608')\n",
      "('K value: 4', ' Silhouette score: 0.528301')\n",
      "('K value: 5', ' Silhouette score: 0.432990')\n",
      "\n",
      "K-Means clustering using random initialization: \n",
      "\n",
      "('K value: 2', ' Silhouette score: 0.516770')\n",
      "('K value: 3', ' Silhouette score: 0.649608')\n",
      "('K value: 4', ' Silhouette score: 0.528301')\n",
      "('K value: 5', ' Silhouette score: 0.432990')\n"
     ]
    }
   ],
   "source": [
    "# Your code\n",
    "k_values=[2, 3, 4, 5]\n",
    "\n",
    "\n",
    "print(\"K-Means clustering using k-mean++ for initialization: \\n\")\n",
    "for i in range(0,len(k_values)):\n",
    "    kmeans = KMeans(n_clusters=k_values[i], max_iter = 50, init='k-means++').fit(X)\n",
    "    labels = kmeans.labels_   \n",
    "\n",
    "    n_clusters_ = len(set(labels)) - (1 if -1 in labels else 0)\n",
    "    silhouette_score =  metrics.silhouette_score(X, labels, metric='euclidean')\n",
    "    print('K value: %d' % k_values[i], \n",
    "          \" Silhouette score: %f\" % silhouette_score)\n",
    "    \n",
    "print(\"\\nK-Means clustering using random initialization: \\n\")\n",
    "for i in range(0,len(k_values)):\n",
    "    kmeans = KMeans(n_clusters=k_values[i], max_iter = 50, init='random').fit(X)\n",
    "    labels = kmeans.labels_   \n",
    "\n",
    "    n_clusters_ = len(set(labels)) - (1 if -1 in labels else 0)\n",
    "    silhouette_score =  metrics.silhouette_score(X, labels, metric='euclidean')\n",
    "    print('K value: %d' % k_values[i], \n",
    "          \" Silhouette score: %f\" % silhouette_score)\n",
    "\n",
    "\n"
   ]
  },
  {
   "cell_type": "markdown",
   "metadata": {},
   "source": [
    "Comment on your findings:\n",
    "\n",
    "I ran the Kmeans function for 50 iterations using Kmeans++ and randomization as initialization methods. \n",
    "\n",
    "The Silhouette score for these results are very similar regardless of the method of initialization.  \n",
    "\n",
    "Perhaps randomized initialization is just as good as Kmeans++? "
   ]
  },
  {
   "cell_type": "markdown",
   "metadata": {},
   "source": [
    "END OF LAB 2."
   ]
  }
 ],
 "metadata": {
  "kernelspec": {
   "display_name": "Python 2",
   "language": "python",
   "name": "python2"
  },
  "language_info": {
   "codemirror_mode": {
    "name": "ipython",
    "version": 2
   },
   "file_extension": ".py",
   "mimetype": "text/x-python",
   "name": "python",
   "nbconvert_exporter": "python",
   "pygments_lexer": "ipython2",
   "version": "2.7.13"
  }
 },
 "nbformat": 4,
 "nbformat_minor": 1
}
