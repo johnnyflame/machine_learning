{
 "cells": [
  {
   "cell_type": "markdown",
   "metadata": {},
   "source": [
    "# INFO411 Lab 2 - Clustering"
   ]
  },
  {
   "cell_type": "markdown",
   "metadata": {},
   "source": [
    "## Outline"
   ]
  },
  {
   "cell_type": "markdown",
   "metadata": {},
   "source": [
    "From our last lab we had our first encounter with Numpy, which is a handy tool for us to manipulate vectors and matrices. In this lab, we continue with the exploration of Numpy, and Pyplot (for visualization), but the main objectives are:\n",
    "- Gain more understanding of k-means, EM and DBSCAN by working on some simple data sets\n",
    "- Get started with Sklearn, a machine learning package"
   ]
  },
  {
   "cell_type": "markdown",
   "metadata": {},
   "source": [
    "## Part 1"
   ]
  },
  {
   "cell_type": "markdown",
   "metadata": {},
   "source": [
    "We begin with the simple k-means demo written in NumPy. As usual we import the packages:"
   ]
  },
  {
   "cell_type": "code",
   "execution_count": 3,
   "metadata": {
    "collapsed": true
   },
   "outputs": [],
   "source": [
    "import numpy as np"
   ]
  },
  {
   "cell_type": "raw",
   "metadata": {},
   "source": [
    "Now we generate two 1-D random data blobs using normal distributions, each with 100 points (what are the centre values?). Note the 'spread' for both Gaussians is 1. "
   ]
  },
  {
   "cell_type": "code",
   "execution_count": 4,
   "metadata": {
    "collapsed": true
   },
   "outputs": [],
   "source": [
    "d1 = np.random.randn(100)+2\n",
    "#d2 = np.random.randn(100)+8\n",
    "d2 = np.random.randn(100)*1.5+8"
   ]
  },
  {
   "cell_type": "markdown",
   "metadata": {},
   "source": [
    "Now show them up on the screen. Note that for better visibility the array index is used for the x-axis. "
   ]
  },
  {
   "cell_type": "code",
   "execution_count": 5,
   "metadata": {},
   "outputs": [
    {
     "data": {
      "text/plain": [
       "[<matplotlib.lines.Line2D at 0x1068d7750>]"
      ]
     },
     "execution_count": 5,
     "metadata": {},
     "output_type": "execute_result"
    },
    {
     "data": {
      "image/png": "[encoded data removed]",
      "text/plain": [
       "<matplotlib.figure.Figure at 0x10600b750>"
      ]
     },
     "metadata": {},
     "output_type": "display_data"
    }
   ],
   "source": [
    "## import the plotting package; use inline display\n",
    "import matplotlib.pyplot as plt\n",
    "%matplotlib inline\n",
    "## plot two subsets using different markers\n",
    "plt.plot(d1,'g+')\n",
    "plt.plot(d2,'bx')"
   ]
  },
  {
   "cell_type": "markdown",
   "metadata": {},
   "source": [
    "Note for better visualization we \"expand\" the 1-D data for 2-D display using the array index for the x-axis.\n",
    "\n",
    "We then concatenate the two data clouds into one bigger array (with 200 points):"
   ]
  },
  {
   "cell_type": "code",
   "execution_count": 6,
   "metadata": {
    "collapsed": true
   },
   "outputs": [],
   "source": [
    "data=np.concatenate((d1,d2),axis=0)\n",
    "nrow=len(data)"
   ]
  },
  {
   "cell_type": "markdown",
   "metadata": {},
   "source": [
    "... and we shuffle the rows to get the data mixed up:"
   ]
  },
  {
   "cell_type": "code",
   "execution_count": 7,
   "metadata": {
    "collapsed": true
   },
   "outputs": [],
   "source": [
    "data=np.random.permutation(data)\n",
    "\n"
   ]
  },
  {
   "cell_type": "markdown",
   "metadata": {},
   "source": [
    "To do k-means clustering, now we randomly initialise the membership for Cluster 1 (and therefore for Cluster 2)"
   ]
  },
  {
   "cell_type": "code",
   "execution_count": 8,
   "metadata": {
    "collapsed": true
   },
   "outputs": [],
   "source": [
    "memb1=np.random.randint(0,2,nrow)\n",
    "memb2=1-memb1    # membership to Cluster 2"
   ]
  },
  {
   "cell_type": "markdown",
   "metadata": {},
   "source": [
    "Let the iterations begin: update centres; update membership; ... we run 20 iterations:"
   ]
  },
  {
   "cell_type": "code",
   "execution_count": 9,
   "metadata": {},
   "outputs": [
    {
     "name": "stdout",
     "output_type": "stream",
     "text": [
      "4.76625650735 5.1311201442\n",
      "1.93659170891 8.10196242779\n",
      "1.93659170891 8.10196242779\n",
      "1.93659170891 8.10196242779\n",
      "1.93659170891 8.10196242779\n",
      "1.93659170891 8.10196242779\n",
      "1.93659170891 8.10196242779\n",
      "1.93659170891 8.10196242779\n",
      "1.93659170891 8.10196242779\n",
      "1.93659170891 8.10196242779\n",
      "1.93659170891 8.10196242779\n",
      "1.93659170891 8.10196242779\n",
      "1.93659170891 8.10196242779\n",
      "1.93659170891 8.10196242779\n",
      "1.93659170891 8.10196242779\n",
      "1.93659170891 8.10196242779\n",
      "1.93659170891 8.10196242779\n",
      "1.93659170891 8.10196242779\n",
      "1.93659170891 8.10196242779\n",
      "1.93659170891 8.10196242779\n"
     ]
    }
   ],
   "source": [
    "## Iterate for a number of times and see if convergence is reached. \n",
    "## c1 and c2 are the two cluster centres. \n",
    "## This updates the centres, then membership, and loops around\n",
    "for it in range(20):\n",
    "    #update c1 and c2\n",
    "    c1=sum(data*memb1)/sum(memb1)\n",
    "    c2=sum(data*memb2)/sum(memb2)\n",
    "    \n",
    "    \n",
    "   # if distance to c1 is smaller it belongs to cluster 1, memb1=1; otherwise memb1=0\n",
    "    memb1=np.greater(np.abs(data-c2), np.abs(data-c1)).astype(int)\n",
    "    memb2=1-memb1\n",
    "    print c1,c2"
   ]
  },
  {
   "cell_type": "markdown",
   "metadata": {},
   "source": [
    "Now display the cluster centres:"
   ]
  },
  {
   "cell_type": "code",
   "execution_count": 10,
   "metadata": {},
   "outputs": [
    {
     "data": {
      "text/plain": [
       "[<matplotlib.lines.Line2D at 0x106ba4c90>]"
      ]
     },
     "execution_count": 10,
     "metadata": {},
     "output_type": "execute_result"
    },
    {
     "data": {
      "image/png": "[encoded data removed]",
      "text/plain": [
       "<matplotlib.figure.Figure at 0x105d62b90>"
      ]
     },
     "metadata": {},
     "output_type": "display_data"
    }
   ],
   "source": [
    "## Display the cluster centers\n",
    "plt.plot(d1,'g+')\n",
    "plt.plot(d2,'bx')\n",
    "plt.plot(nrow/4,c1,'r^')\n",
    "plt.plot(nrow/4,c2,'r^')"
   ]
  },
  {
   "cell_type": "markdown",
   "metadata": {},
   "source": [
    "Does the algorithm seem to work? Why?\n",
    "\n",
    "Your Answer: It does, because the centres of the clusters are approximately in the middle of the cluster dimensions, and the membership appears to be correctly assigned. \n"
   ]
  },
  {
   "cell_type": "markdown",
   "metadata": {},
   "source": [
    "**Task A**. Suppose there is an outlier data point, data[80]=200. Insert it, repeat the experiement above and comment on the results."
   ]
  },
  {
   "cell_type": "code",
   "execution_count": 11,
   "metadata": {},
   "outputs": [
    {
     "name": "stdout",
     "output_type": "stream",
     "text": [
      "3.86040798568 8.10196242779\n",
      "2.18022219474 10.3941555911\n",
      "2.32145031634 10.5883734744\n",
      "2.357606686 10.6365722769\n",
      "2.357606686 10.6365722769\n",
      "2.357606686 10.6365722769\n",
      "2.357606686 10.6365722769\n",
      "2.357606686 10.6365722769\n",
      "2.357606686 10.6365722769\n",
      "2.357606686 10.6365722769\n",
      "2.357606686 10.6365722769\n",
      "2.357606686 10.6365722769\n",
      "2.357606686 10.6365722769\n",
      "2.357606686 10.6365722769\n",
      "2.357606686 10.6365722769\n",
      "2.357606686 10.6365722769\n",
      "2.357606686 10.6365722769\n",
      "2.357606686 10.6365722769\n",
      "2.357606686 10.6365722769\n",
      "2.357606686 10.6365722769\n"
     ]
    },
    {
     "data": {
      "text/plain": [
       "[<matplotlib.lines.Line2D at 0x106d0ec50>]"
      ]
     },
     "execution_count": 11,
     "metadata": {},
     "output_type": "execute_result"
    },
    {
     "data": {
      "image/png": "[encoded data removed]",
      "text/plain": [
       "<matplotlib.figure.Figure at 0x106a40950>"
      ]
     },
     "metadata": {},
     "output_type": "display_data"
    }
   ],
   "source": [
    "# code for Task A ...\n",
    "\n",
    "# Introduce an outlier\n",
    "data[80] = 200\n",
    "\n",
    "\n",
    "\n",
    "# Repeat the iteration process\n",
    "for it in range(20):\n",
    "    c1=sum(data*memb1)/sum(memb1)\n",
    "    c2=sum(data*memb2)/sum(memb2)\n",
    "   # if distance to c1 is smaller it belongs to cluster 1, memb1=1; otherwise memb1=0\n",
    "    memb1=np.greater(np.abs(data-c2), np.abs(data-c1)).astype(int)\n",
    "    memb2=1-memb1\n",
    "    print c1,c2\n",
    "\n",
    "\n",
    "\n",
    "# Plot it out\n",
    "plt.plot(d1,'g+')\n",
    "plt.plot(d2,'bx')\n",
    "plt.plot(nrow/4,c1,'r^')\n",
    "plt.plot(nrow/4,c2,'r^')\n",
    "\n",
    "\n"
   ]
  },
  {
   "cell_type": "markdown",
   "metadata": {},
   "source": [
    "Your comments: \n",
    "\n",
    "Introducing this outlier made the result appear less stable. The membership is still correctly assigned, but the centroid is heavily affected by the introduction of an extreme outlier. \n",
    "\n",
    "This example demonstrates that a simple k-means clustering algorithm is not robust against outliers in the dataset.\n",
    "\n",
    "\n",
    "\n",
    "\n",
    "\n"
   ]
  },
  {
   "cell_type": "markdown",
   "metadata": {},
   "source": [
    "**Task A***. Use the fuzzy c-means scheme with r=2 to decide membership and repeat the experiment. Does it work better?"
   ]
  },
  {
   "cell_type": "code",
   "execution_count": 12,
   "metadata": {},
   "outputs": [
    {
     "name": "stdout",
     "output_type": "stream",
     "text": [
      "-2\n",
      "6.67048700953 4.95929355628\n",
      "7.27051556631 4.38747661897\n",
      "7.98970956478 3.78304997322\n",
      "8.62311302951 3.46078978531\n",
      "8.96616832304 3.40935534971\n",
      "9.09410252008 3.44673828766\n",
      "9.12741138564 3.47884358113\n",
      "9.13072708115 3.49322543206\n",
      "9.12827367778 3.49752944177\n",
      "9.12636132262 3.49816636199\n",
      "9.12555083519 3.4979666099\n",
      "9.12532539105 3.49776154959\n",
      "9.12530028429 3.49766616576\n",
      "9.12531573166 3.49763693054\n",
      "9.12532833663 3.49763236006\n",
      "9.12533377273 3.4976335785\n",
      "9.12533531512 3.49763492231\n",
      "9.12533550177 3.49763555966\n",
      "9.12533540498 3.49763575858\n",
      "9.12533532205 3.49763579126\n"
     ]
    },
    {
     "data": {
      "text/plain": [
       "[<matplotlib.lines.Line2D at 0x106d67c10>]"
      ]
     },
     "execution_count": 12,
     "metadata": {},
     "output_type": "execute_result"
    },
    {
     "data": {
      "image/png": "[encoded data removed]",
      "text/plain": [
       "<matplotlib.figure.Figure at 0x106bae950>"
      ]
     },
     "metadata": {},
     "output_type": "display_data"
    }
   ],
   "source": [
    "# code for Task A* here... Run it.\n",
    "\n",
    "memb1=np.random.randint(0,2,nrow)\n",
    "memb2=1-memb1    # membership to Cluster 2\n",
    "\n",
    "r = 2\n",
    "exp = -2/(r-1)\n",
    "\n",
    "print (exp)\n",
    "\n",
    "for it in range(20):\n",
    "    c1=sum(data*memb1)/sum(memb1)\n",
    "    c2=sum(data*memb2)/sum(memb2)\n",
    "    \n",
    "    memb1_divisor = np.power(np.abs(data-c1),exp)\n",
    "    memb2_divisor = np.power(np.abs(data-c2),exp)\n",
    "    dividend = (np.power(np.abs(data-c1),exp)+ np.power(np.abs(data-c2),exp))\n",
    "    \n",
    "    memb1 = memb1_divisor / dividend\n",
    "    memb2 = memb2_divisor / dividend\n",
    "    \n",
    "   # print (\"dividend: \", dividend)\n",
    "                        \n",
    "    print c1,c2\n",
    "    \n",
    "    \n",
    "# Plot it out\n",
    "plt.plot(d1,'g+')\n",
    "plt.plot(d2,'bx')\n",
    "plt.plot(nrow/4,c1,'r^')\n",
    "plt.plot(nrow/4,c2,'r^')\n"
   ]
  },
  {
   "cell_type": "markdown",
   "metadata": {},
   "source": [
    "Comments on the outcome:\n",
    "\n",
    "The data points appear to have have correctly assigned membership (based on visualization). \n",
    "The centroid for the bottom cluster moves towards the top. \n",
    "\n"
   ]
  },
  {
   "cell_type": "markdown",
   "metadata": {},
   "source": [
    "## Part 2"
   ]
  },
  {
   "cell_type": "markdown",
   "metadata": {},
   "source": [
    "We can extend the code and do the clustering using EM instead. Let's cleanse the outlier out first."
   ]
  },
  {
   "cell_type": "code",
   "execution_count": 13,
   "metadata": {
    "collapsed": true
   },
   "outputs": [],
   "source": [
    "data[80]=np.random.randn()+2"
   ]
  },
  {
   "cell_type": "code",
   "execution_count": 14,
   "metadata": {
    "collapsed": true
   },
   "outputs": [],
   "source": [
    "## Try EM (simplified)\n",
    "## Random initialization again. Alternatively, k-means can be used.\n",
    "#memb1=np.random.randint(0,2,nrow)\n",
    "#memb2=1-memb1\n",
    "\n"
   ]
  },
  {
   "cell_type": "markdown",
   "metadata": {},
   "source": [
    "The following gives the iterations of a simplified EM process. First the two centres are updated using weighted average of members, then the variations. The memberships are then tuned as $e^-\\frac{(x-c)^2}{2s}$ and then normalized. This continues and after a number of iterations the outcome stablizes."
   ]
  },
  {
   "cell_type": "code",
   "execution_count": 15,
   "metadata": {},
   "outputs": [
    {
     "name": "stdout",
     "output_type": "stream",
     "text": [
      "it= 0 : 7.93727016734 / 2.18823199033 || 2.65196820088 / 1.926759476\n",
      "it= 1 : 7.97348431826 / 1.74843196142 || 2.13506638798 / 1.42798849009\n",
      "it= 2 : 8.03674656684 / 1.52300950856 || 1.88988563984 / 0.994236485584\n",
      "it= 3 : 8.00346059699 / 1.52711983974 || 1.8329047708 / 0.907820145292\n",
      "it= 4 : 7.9783827561 / 1.55356416166 || 1.81504967962 / 0.893515830679\n",
      "it= 5 : 7.96590011834 / 1.56850169096 || 1.80694312067 / 0.888103742459\n",
      "it= 6 : 7.95925920199 / 1.576627786 || 1.80281608802 / 0.885485235631\n",
      "it= 7 : 7.95561411397 / 1.58111942283 || 1.8005994739 / 0.884108694337\n",
      "it= 8 : 7.95357947184 / 1.58363403315 || 1.79937650911 / 0.88335726943\n",
      "it= 9 : 7.95243315585 / 1.58505280643 || 1.79869194526 / 0.882939033439\n",
      "it= 10 : 7.95178395732 / 1.5858569131 || 1.79830567042 / 0.882703773383\n",
      "it= 11 : 7.95141521562 / 1.58631382915 || 1.79808672394 / 0.882570656974\n",
      "it= 12 : 7.95120542459 / 1.58657384503 || 1.79796230438 / 0.882495086064\n",
      "it= 13 : 7.95108595418 / 1.58672193609 || 1.79789149849 / 0.882452103432\n",
      "it= 14 : 7.95101788252 / 1.58680632127 || 1.79785117032 / 0.882427630023\n",
      "it= 15 : 7.95097908493 / 1.58685441876 || 1.79782819022 / 0.88241368692\n",
      "it= 16 : 7.95095696832 / 1.58688183743 || 1.79781509202 / 0.882405740447\n",
      "it= 17 : 7.95094435947 / 1.58689746923 || 1.79780762517 / 0.88240121069\n",
      "it= 18 : 7.95093717066 / 1.58690638161 || 1.79780336819 / 0.882398628286\n",
      "it= 19 : 7.9509330719 / 1.5869114631 || 1.7978009411 / 0.882397155969\n",
      "it= 20 : 7.95093073492 / 1.58691436041 || 1.79779955726 / 0.882396316521\n",
      "it= 21 : 7.95092940243 / 1.58691601238 || 1.79779876824 / 0.882395837895\n",
      "it= 22 : 7.95092864268 / 1.5869169543 || 1.79779831836 / 0.882395564996\n",
      "it= 23 : 7.95092820948 / 1.58691749137 || 1.79779806185 / 0.882395409394\n",
      "it= 24 : 7.95092796248 / 1.58691779759 || 1.79779791559 / 0.882395320674\n",
      "it= 25 : 7.95092782164 / 1.5869179722 || 1.7977978322 / 0.882395270087\n",
      "it= 26 : 7.95092774134 / 1.58691807175 || 1.79779778465 / 0.882395241243\n",
      "it= 27 : 7.95092769556 / 1.58691812852 || 1.79779775754 / 0.882395224797\n",
      "it= 28 : 7.95092766945 / 1.58691816088 || 1.79779774208 / 0.88239521542\n",
      "it= 29 : 7.95092765456 / 1.58691817934 || 1.79779773326 / 0.882395210073\n",
      "it= 30 : 7.95092764608 / 1.58691818986 || 1.79779772824 / 0.882395207024\n",
      "it= 31 : 7.95092764124 / 1.58691819586 || 1.79779772537 / 0.882395205286\n",
      "it= 32 : 7.95092763848 / 1.58691819928 || 1.79779772374 / 0.882395204295\n",
      "it= 33 : 7.9509276369 / 1.58691820123 || 1.79779772281 / 0.88239520373\n",
      "it= 34 : 7.95092763601 / 1.58691820234 || 1.79779772228 / 0.882395203408\n",
      "it= 35 : 7.9509276355 / 1.58691820298 || 1.79779772197 / 0.882395203224\n",
      "it= 36 : 7.9509276352 / 1.58691820334 || 1.7977977218 / 0.882395203119\n",
      "it= 37 : 7.95092763504 / 1.58691820355 || 1.7977977217 / 0.882395203059\n",
      "it= 38 : 7.95092763494 / 1.58691820366 || 1.79779772165 / 0.882395203025\n",
      "it= 39 : 7.95092763489 / 1.58691820373 || 1.79779772161 / 0.882395203006\n",
      "it= 40 : 7.95092763486 / 1.58691820377 || 1.79779772159 / 0.882395202995\n",
      "it= 41 : 7.95092763484 / 1.58691820379 || 1.79779772158 / 0.882395202989\n",
      "it= 42 : 7.95092763483 / 1.5869182038 || 1.79779772158 / 0.882395202985\n",
      "it= 43 : 7.95092763482 / 1.58691820381 || 1.79779772158 / 0.882395202983\n",
      "it= 44 : 7.95092763482 / 1.58691820381 || 1.79779772157 / 0.882395202982\n",
      "it= 45 : 7.95092763482 / 1.58691820382 || 1.79779772157 / 0.882395202981\n",
      "it= 46 : 7.95092763482 / 1.58691820382 || 1.79779772157 / 0.882395202981\n",
      "it= 47 : 7.95092763482 / 1.58691820382 || 1.79779772157 / 0.88239520298\n",
      "it= 48 : 7.95092763482 / 1.58691820382 || 1.79779772157 / 0.88239520298\n",
      "it= 49 : 7.95092763482 / 1.58691820382 || 1.79779772157 / 0.88239520298\n"
     ]
    },
    {
     "data": {
      "text/plain": [
       "[<matplotlib.lines.Line2D at 0x107007d90>]"
      ]
     },
     "execution_count": 15,
     "metadata": {},
     "output_type": "execute_result"
    },
    {
     "data": {
      "image/png": "[encoded data removed]",
      "text/plain": [
       "<matplotlib.figure.Figure at 0x106b397d0>"
      ]
     },
     "metadata": {},
     "output_type": "display_data"
    }
   ],
   "source": [
    "## now the iterations\n",
    "for it in range(50):\n",
    "    # update centres\n",
    "    c1=sum(memb1*data)/sum(memb1)\n",
    "    c2=sum(memb2*data)/sum(memb2)\n",
    "    # update 'spread' - the variations\n",
    "    s1=sum(memb1*(data-c1)**2)/sum(memb1)\n",
    "    s2=sum(memb2*(data-c2)**2)/sum(memb2)\n",
    "    # print the center and std\n",
    "    print 'it=',it,':', c1,'/',np.sqrt(s1),'||',c2,'/',np.sqrt(s2)\n",
    "    # re-calculate memberships using the center and std values\n",
    "    memb1=np.exp(-(data-c1)**2/s1/2)\n",
    "    memb2=np.exp(-(data-c2)**2/s2/2)\n",
    "    # normalise\n",
    "    memb1/=(memb1+memb2)\n",
    "    memb2/=(memb1+memb2)\n",
    "    \n",
    "    \n",
    "# Plot it out\n",
    "plt.plot(d1,'g+')\n",
    "plt.plot(d2,'bx')\n",
    "plt.plot(nrow/4,c1,'r^')\n",
    "plt.plot(nrow/4,c2,'r^')"
   ]
  },
  {
   "cell_type": "markdown",
   "metadata": {},
   "source": [
    "Run the code above a couple of times, and see whether it manages to calculate the centres and the spreads of the two Gaussians. Are the clusters correctly located?\n",
    "\n",
    "\n",
    "** Task B. **\n",
    "Now, let us take a look whether EM can model data \"clouds\" of different sizes. For this, comment off the random initialization again. Find the line with 'd2' assignment, and modify it into \"d2 = np.random.randn(100)*1.5+8\". This means the second cloud has now a bigger spread (stdev=1.5). Run the code to this line, and note what the result tells you about the Gaussian centres and their spreads. If the result is not quite right, try a few more runs.\n",
    "\n",
    "Then, reuse the code in Part A and conduct k-means clustering to *initialize* the cluster centers and then carry on with EM. Does this work better? "
   ]
  },
  {
   "cell_type": "code",
   "execution_count": 16,
   "metadata": {},
   "outputs": [
    {
     "name": "stdout",
     "output_type": "stream",
     "text": [
      "it= 0 : 8.10196242779 / 1.42281172809 || 1.93244787828 / 1.01714316588\n",
      "it= 1 : 8.03308200264 / 1.49379429359 || 1.84744481225 / 0.91918903179\n",
      "it= 2 : 7.99066400801 / 1.53896913962 || 1.82267514789 / 0.898732055716\n",
      "it= 3 : 7.97203305474 / 1.56104361435 || 1.81078443012 / 0.890591695771\n",
      "it= 4 : 7.96254163065 / 1.57259677899 || 1.80483349404 / 0.886753429397\n",
      "it= 5 : 7.95742418853 / 1.57888630654 || 1.80169528059 / 0.884786577297\n",
      "it= 6 : 7.95459272026 / 1.58238112197 || 1.79998419956 / 0.883729940611\n",
      "it= 7 : 7.95300495786 / 1.58434491977 || 1.79903300988 / 0.88314719581\n",
      "it= 8 : 7.95210809074 / 1.58545538316 || 1.79849840189 / 0.882821090227\n",
      "it= 9 : 7.95159941922 / 1.58608556163 || 1.79819605653 / 0.882637108713\n",
      "it= 10 : 7.95131025641 / 1.58644391071 || 1.79802446303 / 0.882532833732\n",
      "it= 11 : 7.95114566331 / 1.58664792118 || 1.79792688165 / 0.882473580563\n",
      "it= 12 : 7.9510519068 / 1.58676414245 || 1.79787132615 / 0.882439861017\n",
      "it= 13 : 7.95099847821 / 1.58683037667 || 1.79783967655 / 0.882420655985\n",
      "it= 14 : 7.95096802383 / 1.5868681315 || 1.79782163932 / 0.882409712516\n",
      "it= 15 : 7.95095066241 / 1.58688965515 || 1.79781135767 / 0.882403474984\n",
      "it= 16 : 7.95094076426 / 1.58690192641 || 1.79780549619 / 0.882399919181\n",
      "it= 17 : 7.95093512083 / 1.58690892291 || 1.79780215437 / 0.882397891961\n",
      "it= 18 : 7.95093190316 / 1.58691291206 || 1.79780024903 / 0.882396736153\n",
      "it= 19 : 7.95093006854 / 1.58691518657 || 1.79779916267 / 0.882396077156\n",
      "it= 20 : 7.95092902248 / 1.58691648344 || 1.79779854325 / 0.882395701416\n",
      "it= 21 : 7.95092842603 / 1.58691722289 || 1.79779819008 / 0.882395487178\n",
      "it= 22 : 7.95092808595 / 1.58691764451 || 1.79779798871 / 0.882395365025\n",
      "it= 23 : 7.95092789205 / 1.58691788491 || 1.79779787389 / 0.882395295375\n",
      "it= 24 : 7.95092778149 / 1.58691802199 || 1.79779780842 / 0.882395255662\n",
      "it= 25 : 7.95092771844 / 1.58691810014 || 1.79779777109 / 0.882395233018\n",
      "it= 26 : 7.9509276825 / 1.5869181447 || 1.79779774981 / 0.882395220107\n",
      "it= 27 : 7.95092766201 / 1.58691817011 || 1.79779773767 / 0.882395212746\n",
      "it= 28 : 7.95092765032 / 1.5869181846 || 1.79779773075 / 0.882395208548\n",
      "it= 29 : 7.95092764366 / 1.58691819286 || 1.7977977268 / 0.882395206155\n",
      "it= 30 : 7.95092763986 / 1.58691819757 || 1.79779772456 / 0.88239520479\n",
      "it= 31 : 7.95092763769 / 1.58691820026 || 1.79779772327 / 0.882395204012\n",
      "it= 32 : 7.95092763646 / 1.58691820179 || 1.79779772254 / 0.882395203569\n",
      "it= 33 : 7.95092763575 / 1.58691820266 || 1.79779772212 / 0.882395203316\n",
      "it= 34 : 7.95092763535 / 1.58691820316 || 1.79779772189 / 0.882395203172\n",
      "it= 35 : 7.95092763512 / 1.58691820344 || 1.79779772175 / 0.882395203089\n",
      "it= 36 : 7.95092763499 / 1.58691820361 || 1.79779772167 / 0.882395203042\n",
      "it= 37 : 7.95092763492 / 1.5869182037 || 1.79779772163 / 0.882395203016\n",
      "it= 38 : 7.95092763487 / 1.58691820375 || 1.7977977216 / 0.882395203\n",
      "it= 39 : 7.95092763485 / 1.58691820378 || 1.79779772159 / 0.882395202992\n",
      "it= 40 : 7.95092763484 / 1.5869182038 || 1.79779772158 / 0.882395202987\n",
      "it= 41 : 7.95092763483 / 1.58691820381 || 1.79779772158 / 0.882395202984\n",
      "it= 42 : 7.95092763482 / 1.58691820381 || 1.79779772157 / 0.882395202982\n",
      "it= 43 : 7.95092763482 / 1.58691820382 || 1.79779772157 / 0.882395202981\n",
      "it= 44 : 7.95092763482 / 1.58691820382 || 1.79779772157 / 0.882395202981\n",
      "it= 45 : 7.95092763482 / 1.58691820382 || 1.79779772157 / 0.882395202981\n",
      "it= 46 : 7.95092763482 / 1.58691820382 || 1.79779772157 / 0.88239520298\n",
      "it= 47 : 7.95092763482 / 1.58691820382 || 1.79779772157 / 0.88239520298\n",
      "it= 48 : 7.95092763482 / 1.58691820382 || 1.79779772157 / 0.88239520298\n",
      "it= 49 : 7.95092763482 / 1.58691820382 || 1.79779772157 / 0.88239520298\n"
     ]
    },
    {
     "data": {
      "text/plain": [
       "[<matplotlib.lines.Line2D at 0x107160ed0>]"
      ]
     },
     "execution_count": 16,
     "metadata": {},
     "output_type": "execute_result"
    },
    {
     "data": {
      "image/png": "[encoded data removed]",
      "text/plain": [
       "<matplotlib.figure.Figure at 0x106a29250>"
      ]
     },
     "metadata": {},
     "output_type": "display_data"
    }
   ],
   "source": [
    "## your code for Task B\n",
    "\n",
    "\n",
    "# Using K-mean to initialize the cluster centers\n",
    "for it in range(50):\n",
    "    c1=sum(data*memb1)/sum(memb1)\n",
    "    c2=sum(data*memb2)/sum(memb2)\n",
    "   # if distance to c1 is smaller it belongs to cluster 1, memb1=1; otherwise memb1=0\n",
    "    memb1=np.greater(np.abs(data-c2), np.abs(data-c1)).astype(int)\n",
    "    memb2=1-memb1\n",
    "    #print c1,c2\n",
    "\n",
    "\n",
    "for it in range(50):\n",
    "    # update centres\n",
    "    c1=sum(memb1*data)/sum(memb1)\n",
    "    c2=sum(memb2*data)/sum(memb2)\n",
    "    # update 'spread' - the variations\n",
    "    s1=sum(memb1*(data-c1)**2)/sum(memb1)\n",
    "    s2=sum(memb2*(data-c2)**2)/sum(memb2)\n",
    "    # print the center and std\n",
    "    print 'it=',it,':', c1,'/',np.sqrt(s1),'||',c2,'/',np.sqrt(s2)\n",
    "    # re-calculate memberships using the center and std values\n",
    "    memb1=np.exp(-(data-c1)**2/s1/2)\n",
    "    memb2=np.exp(-(data-c2)**2/s2/2)\n",
    "    # normalise\n",
    "    memb1/=(memb1+memb2)\n",
    "    memb2/=(memb1+memb2)\n",
    "    \n",
    "    \n",
    "# Plot it out\n",
    "plt.plot(d1,'g+')\n",
    "plt.plot(d2,'bx')\n",
    "plt.plot(nrow/4,c1,'r^')\n",
    "plt.plot(nrow/4,c2,'r^')\n",
    "\n",
    "\n",
    "\n",
    "\n"
   ]
  },
  {
   "cell_type": "markdown",
   "metadata": {},
   "source": [
    "Your comments: ...\n",
    "\n",
    "Using K-means as an initialization step, the results are more stable. The clusters are correctly formed and the centroids are located at the centre of each cluster. \n",
    "\n",
    "The stdev of the clusters is approximated with reasonable accuracy. "
   ]
  },
  {
   "cell_type": "markdown",
   "metadata": {},
   "source": [
    "## Part 3"
   ]
  },
  {
   "cell_type": "markdown",
   "metadata": {},
   "source": [
    "So far we have been working on 1-D data points. Let's add another dimension so that they can be properly displayed on the screen. The following k-means code, is good for general-purpose clustering - note there are quite a few changes made to the previous code, mainly to deal with arrays of higher dimensionality. The algorithm is simplified, without looking at stdev of the clusters. "
   ]
  },
  {
   "cell_type": "code",
   "execution_count": 17,
   "metadata": {},
   "outputs": [
    {
     "data": {
      "image/png": "[encoded data removed]",
      "text/plain": [
       "<matplotlib.figure.Figure at 0x106c8f250>"
      ]
     },
     "metadata": {},
     "output_type": "display_data"
    }
   ],
   "source": [
    "## generate two random data 'clouds' around [2,2] and [8,8], each with 100 points\n",
    "d1 = np.random.randn(100,2)+2\n",
    "d2 = np.random.randn(100,2)+5\n",
    "## show them up on the screen. \n",
    "plt.plot(d1[:,0],d1[:,1],'g+')\n",
    "plt.plot(d2[:,0],d2[:,1],'bx')\n",
    "plt.grid(b=True)"
   ]
  },
  {
   "cell_type": "markdown",
   "metadata": {},
   "source": [
    "Again, stack the two sets and shuffle it so it doesn't have any particular order."
   ]
  },
  {
   "cell_type": "code",
   "execution_count": 18,
   "metadata": {
    "collapsed": true
   },
   "outputs": [],
   "source": [
    "## mix two data clouds into one array (200 points)\n",
    "data=np.vstack((d1,d2))\n",
    "data=np.random.permutation(data)\n",
    "nrow,ncol=data.shape"
   ]
  },
  {
   "cell_type": "markdown",
   "metadata": {},
   "source": [
    "We then define a random initialization function:"
   ]
  },
  {
   "cell_type": "code",
   "execution_count": 19,
   "metadata": {
    "collapsed": true
   },
   "outputs": [],
   "source": [
    "def randInitWithData(data, k):\n",
    "    nrow,dim=data.shape\n",
    "    centres=np.zeros((k,dim))\n",
    "    for i in range(k):\n",
    "        centres[i]=data[np.random.randint(nrow)].copy()\n",
    "    return centres"
   ]
  },
  {
   "cell_type": "markdown",
   "metadata": {},
   "source": [
    "and test the function out with k=2:"
   ]
  },
  {
   "cell_type": "code",
   "execution_count": 20,
   "metadata": {
    "collapsed": true
   },
   "outputs": [],
   "source": [
    "centres=randInitWithData(data,k=2)"
   ]
  },
  {
   "cell_type": "code",
   "execution_count": 21,
   "metadata": {},
   "outputs": [
    {
     "name": "stdout",
     "output_type": "stream",
     "text": [
      "[[ 2.28051066  1.20278865]\n",
      " [ 1.07268518  1.74991794]]\n"
     ]
    }
   ],
   "source": [
    "print centres      # Where are the initial centres?"
   ]
  },
  {
   "cell_type": "markdown",
   "metadata": {},
   "source": [
    "Now we define a function for going through an iteration of finding membership and update centres:"
   ]
  },
  {
   "cell_type": "code",
   "execution_count": 22,
   "metadata": {
    "collapsed": true
   },
   "outputs": [],
   "source": [
    "def iterate(centres,data):\n",
    "    k,dim=centres.shape\n",
    "    nrow,dim=data.shape\n",
    "    ## Compute distances between centres and data points. \n",
    "    ## Start with the first centre and then stack the rest vertically\n",
    "    distances = np.sum((data-centres[0,:])**2,axis=1)\n",
    "    for j in range(k-1):\n",
    "        distances = np.vstack((distances, np.sum((data-centres[j+1,:])**2,axis=1)))\n",
    "        ## 'distances' is a 2D array: row for centres, column for data items\n",
    "        ## Identify the closest cluster for each data item\n",
    "        cluster = distances.argmin(axis=0)\n",
    "        ## Turn it into a single-column array\n",
    "        cluster = cluster.reshape((nrow,1))\n",
    "        ## Update the cluster centres as the mean of data items that are closest to them\n",
    "        for j in range(k):\n",
    "            thisCluster = np.where(cluster==j,1,0)      # decide membership\n",
    "            if np.sum(thisCluster)>0:\n",
    "                centres[j,:] = np.sum(data*thisCluster,axis=0)/np.sum(thisCluster)\n",
    "    return centres.copy()"
   ]
  },
  {
   "cell_type": "code",
   "execution_count": 23,
   "metadata": {
    "collapsed": true
   },
   "outputs": [],
   "source": [
    "oldcentres=centres.copy()      # keep track of the old centres "
   ]
  },
  {
   "cell_type": "markdown",
   "metadata": {},
   "source": [
    "Now we call iteratre() a number of times and see if it converges:"
   ]
  },
  {
   "cell_type": "code",
   "execution_count": 24,
   "metadata": {},
   "outputs": [
    {
     "name": "stdout",
     "output_type": "stream",
     "text": [
      "[[ 4.29788586  3.89430976]\n",
      " [ 1.37452205  2.63924517]]\n",
      "5.90006041531\n",
      "[[ 4.97385797  4.90389618]\n",
      " [ 1.71393994  1.88776464]]\n",
      "2.77645695129\n",
      "[[ 5.12944839  5.18611718]\n",
      " [ 1.9169405   1.93731811]]\n",
      "0.690365451963\n",
      "[[ 5.15273973  5.23324517]\n",
      " [ 1.9575529   1.95574022]]\n",
      "0.129453835709\n",
      "[[ 5.1541617   5.26537327]\n",
      " [ 1.987235    1.9573041 ]]\n",
      "0.0647960404076\n"
     ]
    }
   ],
   "source": [
    "\n",
    "# Modified so it will run until the cost is sufficiently low.\n",
    "while(True):\n",
    "    centres=iterate(centres,data)\n",
    "    cost = np.sum(np.abs(centres-oldcentres)) # calculate difference\n",
    "    \n",
    "    if cost < 0.0001:\n",
    "        break\n",
    "    \n",
    "    print centres\n",
    "    print cost\n",
    "      \n",
    "    oldcentres=centres.copy()"
   ]
  },
  {
   "cell_type": "markdown",
   "metadata": {},
   "source": [
    "Run the code. Do you think it manages to locate the cluster centers in the right places? \n",
    "\n",
    "You may want to write a few functions for the above k-means code to automatically stop iterations once convergence is reached.\n",
    "\n",
    "Let's show them up on the screen again:"
   ]
  },
  {
   "cell_type": "code",
   "execution_count": 25,
   "metadata": {},
   "outputs": [
    {
     "data": {
      "text/plain": [
       "[<matplotlib.lines.Line2D at 0x1073ed550>]"
      ]
     },
     "execution_count": 25,
     "metadata": {},
     "output_type": "execute_result"
    },
    {
     "data": {
      "image/png": "[encoded data removed]",
      "text/plain": [
       "<matplotlib.figure.Figure at 0x1071b90d0>"
      ]
     },
     "metadata": {},
     "output_type": "display_data"
    }
   ],
   "source": [
    "## show them up on the screen. \n",
    "plt.plot(d1[:,0],d1[:,1],'g+')\n",
    "plt.plot(d2[:,0],d2[:,1],'bx')\n",
    "plt.plot(centres[:,0],centres[:,1],'ro')"
   ]
  },
  {
   "cell_type": "markdown",
   "metadata": {},
   "source": [
    "## Part 4"
   ]
  },
  {
   "cell_type": "markdown",
   "metadata": {},
   "source": [
    "Let's experiment with another clustering algoithm and take a quick look of clustering evaluation. For this we turn to Scikit.learn, a package specialised for Machine Learning. First, some necessary imports:"
   ]
  },
  {
   "cell_type": "markdown",
   "metadata": {},
   "source": [
    "### DBSCAN"
   ]
  },
  {
   "cell_type": "code",
   "execution_count": 26,
   "metadata": {
    "collapsed": true
   },
   "outputs": [],
   "source": [
    "import numpy as np\n",
    "from sklearn.cluster import DBSCAN\n",
    "from sklearn.cluster import KMeans\n",
    "from sklearn import metrics\n",
    "from sklearn.datasets.samples_generator import make_blobs\n",
    "from sklearn.preprocessing import StandardScaler"
   ]
  },
  {
   "cell_type": "markdown",
   "metadata": {},
   "source": [
    "We use sklearn's data generators to make three blobs:"
   ]
  },
  {
   "cell_type": "code",
   "execution_count": 27,
   "metadata": {
    "collapsed": true
   },
   "outputs": [],
   "source": [
    "centers = [[1, 1], [-1, -1], [1, -1]]\n",
    "X, labels_true = make_blobs(n_samples=750, centers=centers, cluster_std=0.4,\n",
    "                            random_state=0)\n",
    "X = StandardScaler().fit_transform(X)"
   ]
  },
  {
   "cell_type": "markdown",
   "metadata": {},
   "source": [
    "Suppose we set Eps to 0.3, and the minimum number of neighbours needed for a data point to become core points is 10. The following cluster the dataset using DBSCAN, predict cluster labels for all data points, and mark out core points:"
   ]
  },
  {
   "cell_type": "code",
   "execution_count": 28,
   "metadata": {
    "collapsed": true
   },
   "outputs": [],
   "source": [
    "db = DBSCAN(eps=0.3, min_samples=10).fit(X)\n",
    "labels = db.labels_\n",
    "core_samples_mask = np.zeros_like(db.labels_, dtype=bool)\n",
    "core_samples_mask[db.core_sample_indices_] = True"
   ]
  },
  {
   "cell_type": "markdown",
   "metadata": {},
   "source": [
    "The <code>fit()</code> function will learn from the data, and label all data points. Note  DBSCAN will mark out core points, border points, and noise points. Noise points are not clustered, so in sklearn's implementation it takes a label of -1 (while others take 0, 1, ...). The number of clusters can be found by:"
   ]
  },
  {
   "cell_type": "code",
   "execution_count": 29,
   "metadata": {},
   "outputs": [
    {
     "name": "stdout",
     "output_type": "stream",
     "text": [
      "Estimated number of clusters: 3\n"
     ]
    }
   ],
   "source": [
    "# Number of clusters in labels, ignoring noise if present.\n",
    "n_clusters_ = len(set(labels)) - (1 if -1 in labels else 0)\n",
    "print('Estimated number of clusters: %d' % n_clusters_)\n",
    "\n",
    "\n",
    "\n"
   ]
  },
  {
   "cell_type": "markdown",
   "metadata": {},
   "source": [
    "### Visualization"
   ]
  },
  {
   "cell_type": "markdown",
   "metadata": {},
   "source": [
    "Using the learning outcome, we can visualize the clustering results. The following code colours the data points according to their cluster IDs, with core points displayed by large markers. Noisy points are displayed in black:"
   ]
  },
  {
   "cell_type": "code",
   "execution_count": 32,
   "metadata": {},
   "outputs": [
    {
     "ename": "ValueError",
     "evalue": "The truth value of an array with more than one element is ambiguous. Use a.any() or a.all()",
     "output_type": "error",
     "traceback": [
      "\u001b[0;31m---------------------------------------------------------------------------\u001b[0m",
      "\u001b[0;31mValueError\u001b[0m                                Traceback (most recent call last)",
      "\u001b[0;32m<ipython-input-32-16f3023e1085>\u001b[0m in \u001b[0;36m<module>\u001b[0;34m()\u001b[0m\n\u001b[1;32m     14\u001b[0m     \u001b[0mxy\u001b[0m \u001b[0;34m=\u001b[0m \u001b[0mX\u001b[0m\u001b[0;34m[\u001b[0m\u001b[0mclass_member_mask\u001b[0m \u001b[0;34m&\u001b[0m \u001b[0mcore_samples_mask\u001b[0m\u001b[0;34m]\u001b[0m\u001b[0;34m\u001b[0m\u001b[0m\n\u001b[1;32m     15\u001b[0m \u001b[0;34m\u001b[0m\u001b[0m\n\u001b[0;32m---> 16\u001b[0;31m     \u001b[0mplt\u001b[0m\u001b[0;34m.\u001b[0m\u001b[0mplot\u001b[0m\u001b[0;34m(\u001b[0m\u001b[0mxy\u001b[0m\u001b[0;34m[\u001b[0m\u001b[0;34m:\u001b[0m\u001b[0;34m,\u001b[0m \u001b[0;36m0\u001b[0m\u001b[0;34m]\u001b[0m\u001b[0;34m,\u001b[0m \u001b[0mxy\u001b[0m\u001b[0;34m[\u001b[0m\u001b[0;34m:\u001b[0m\u001b[0;34m,\u001b[0m \u001b[0;36m1\u001b[0m\u001b[0;34m]\u001b[0m\u001b[0;34m,\u001b[0m \u001b[0;34m'o'\u001b[0m\u001b[0;34m,\u001b[0m \u001b[0mmarkerfacecolor\u001b[0m\u001b[0;34m=\u001b[0m\u001b[0mcol\u001b[0m\u001b[0;34m)\u001b[0m\u001b[0;34m\u001b[0m\u001b[0m\n\u001b[0m\u001b[1;32m     17\u001b[0m      \u001b[0;31m#        markeredgecolor='k', markersize=14)\u001b[0m\u001b[0;34m\u001b[0m\u001b[0;34m\u001b[0m\u001b[0m\n\u001b[1;32m     18\u001b[0m     \u001b[0;31m# non-core points\u001b[0m\u001b[0;34m\u001b[0m\u001b[0;34m\u001b[0m\u001b[0m\n",
      "\u001b[0;32m/Users/theFlame/anaconda3/envs/ipykernel_py2/lib/python2.7/site-packages/matplotlib/pyplot.pyc\u001b[0m in \u001b[0;36mplot\u001b[0;34m(*args, **kwargs)\u001b[0m\n\u001b[1;32m   3315\u001b[0m                       mplDeprecation)\n\u001b[1;32m   3316\u001b[0m     \u001b[0;32mtry\u001b[0m\u001b[0;34m:\u001b[0m\u001b[0;34m\u001b[0m\u001b[0m\n\u001b[0;32m-> 3317\u001b[0;31m         \u001b[0mret\u001b[0m \u001b[0;34m=\u001b[0m \u001b[0max\u001b[0m\u001b[0;34m.\u001b[0m\u001b[0mplot\u001b[0m\u001b[0;34m(\u001b[0m\u001b[0;34m*\u001b[0m\u001b[0margs\u001b[0m\u001b[0;34m,\u001b[0m \u001b[0;34m**\u001b[0m\u001b[0mkwargs\u001b[0m\u001b[0;34m)\u001b[0m\u001b[0;34m\u001b[0m\u001b[0m\n\u001b[0m\u001b[1;32m   3318\u001b[0m     \u001b[0;32mfinally\u001b[0m\u001b[0;34m:\u001b[0m\u001b[0;34m\u001b[0m\u001b[0m\n\u001b[1;32m   3319\u001b[0m         \u001b[0max\u001b[0m\u001b[0;34m.\u001b[0m\u001b[0m_hold\u001b[0m \u001b[0;34m=\u001b[0m \u001b[0mwashold\u001b[0m\u001b[0;34m\u001b[0m\u001b[0m\n",
      "\u001b[0;32m/Users/theFlame/anaconda3/envs/ipykernel_py2/lib/python2.7/site-packages/matplotlib/__init__.pyc\u001b[0m in \u001b[0;36minner\u001b[0;34m(ax, *args, **kwargs)\u001b[0m\n\u001b[1;32m   1896\u001b[0m                     warnings.warn(msg % (label_namer, func.__name__),\n\u001b[1;32m   1897\u001b[0m                                   RuntimeWarning, stacklevel=2)\n\u001b[0;32m-> 1898\u001b[0;31m             \u001b[0;32mreturn\u001b[0m \u001b[0mfunc\u001b[0m\u001b[0;34m(\u001b[0m\u001b[0max\u001b[0m\u001b[0;34m,\u001b[0m \u001b[0;34m*\u001b[0m\u001b[0margs\u001b[0m\u001b[0;34m,\u001b[0m \u001b[0;34m**\u001b[0m\u001b[0mkwargs\u001b[0m\u001b[0;34m)\u001b[0m\u001b[0;34m\u001b[0m\u001b[0m\n\u001b[0m\u001b[1;32m   1899\u001b[0m         \u001b[0mpre_doc\u001b[0m \u001b[0;34m=\u001b[0m \u001b[0minner\u001b[0m\u001b[0;34m.\u001b[0m\u001b[0m__doc__\u001b[0m\u001b[0;34m\u001b[0m\u001b[0m\n\u001b[1;32m   1900\u001b[0m         \u001b[0;32mif\u001b[0m \u001b[0mpre_doc\u001b[0m \u001b[0;32mis\u001b[0m \u001b[0mNone\u001b[0m\u001b[0;34m:\u001b[0m\u001b[0;34m\u001b[0m\u001b[0m\n",
      "\u001b[0;32m/Users/theFlame/anaconda3/envs/ipykernel_py2/lib/python2.7/site-packages/matplotlib/axes/_axes.pyc\u001b[0m in \u001b[0;36mplot\u001b[0;34m(self, *args, **kwargs)\u001b[0m\n\u001b[1;32m   1404\u001b[0m         \u001b[0mkwargs\u001b[0m \u001b[0;34m=\u001b[0m \u001b[0mcbook\u001b[0m\u001b[0;34m.\u001b[0m\u001b[0mnormalize_kwargs\u001b[0m\u001b[0;34m(\u001b[0m\u001b[0mkwargs\u001b[0m\u001b[0;34m,\u001b[0m \u001b[0m_alias_map\u001b[0m\u001b[0;34m)\u001b[0m\u001b[0;34m\u001b[0m\u001b[0m\n\u001b[1;32m   1405\u001b[0m \u001b[0;34m\u001b[0m\u001b[0m\n\u001b[0;32m-> 1406\u001b[0;31m         \u001b[0;32mfor\u001b[0m \u001b[0mline\u001b[0m \u001b[0;32min\u001b[0m \u001b[0mself\u001b[0m\u001b[0;34m.\u001b[0m\u001b[0m_get_lines\u001b[0m\u001b[0;34m(\u001b[0m\u001b[0;34m*\u001b[0m\u001b[0margs\u001b[0m\u001b[0;34m,\u001b[0m \u001b[0;34m**\u001b[0m\u001b[0mkwargs\u001b[0m\u001b[0;34m)\u001b[0m\u001b[0;34m:\u001b[0m\u001b[0;34m\u001b[0m\u001b[0m\n\u001b[0m\u001b[1;32m   1407\u001b[0m             \u001b[0mself\u001b[0m\u001b[0;34m.\u001b[0m\u001b[0madd_line\u001b[0m\u001b[0;34m(\u001b[0m\u001b[0mline\u001b[0m\u001b[0;34m)\u001b[0m\u001b[0;34m\u001b[0m\u001b[0m\n\u001b[1;32m   1408\u001b[0m             \u001b[0mlines\u001b[0m\u001b[0;34m.\u001b[0m\u001b[0mappend\u001b[0m\u001b[0;34m(\u001b[0m\u001b[0mline\u001b[0m\u001b[0;34m)\u001b[0m\u001b[0;34m\u001b[0m\u001b[0m\n",
      "\u001b[0;32m/Users/theFlame/anaconda3/envs/ipykernel_py2/lib/python2.7/site-packages/matplotlib/axes/_base.pyc\u001b[0m in \u001b[0;36m_grab_next_args\u001b[0;34m(self, *args, **kwargs)\u001b[0m\n\u001b[1;32m    405\u001b[0m                 \u001b[0;32mreturn\u001b[0m\u001b[0;34m\u001b[0m\u001b[0m\n\u001b[1;32m    406\u001b[0m             \u001b[0;32mif\u001b[0m \u001b[0mlen\u001b[0m\u001b[0;34m(\u001b[0m\u001b[0mremaining\u001b[0m\u001b[0;34m)\u001b[0m \u001b[0;34m<=\u001b[0m \u001b[0;36m3\u001b[0m\u001b[0;34m:\u001b[0m\u001b[0;34m\u001b[0m\u001b[0m\n\u001b[0;32m--> 407\u001b[0;31m                 \u001b[0;32mfor\u001b[0m \u001b[0mseg\u001b[0m \u001b[0;32min\u001b[0m \u001b[0mself\u001b[0m\u001b[0;34m.\u001b[0m\u001b[0m_plot_args\u001b[0m\u001b[0;34m(\u001b[0m\u001b[0mremaining\u001b[0m\u001b[0;34m,\u001b[0m \u001b[0mkwargs\u001b[0m\u001b[0;34m)\u001b[0m\u001b[0;34m:\u001b[0m\u001b[0;34m\u001b[0m\u001b[0m\n\u001b[0m\u001b[1;32m    408\u001b[0m                     \u001b[0;32myield\u001b[0m \u001b[0mseg\u001b[0m\u001b[0;34m\u001b[0m\u001b[0m\n\u001b[1;32m    409\u001b[0m                 \u001b[0;32mreturn\u001b[0m\u001b[0;34m\u001b[0m\u001b[0m\n",
      "\u001b[0;32m/Users/theFlame/anaconda3/envs/ipykernel_py2/lib/python2.7/site-packages/matplotlib/axes/_base.pyc\u001b[0m in \u001b[0;36m_plot_args\u001b[0;34m(self, tup, kwargs)\u001b[0m\n\u001b[1;32m    393\u001b[0m         \u001b[0mncx\u001b[0m\u001b[0;34m,\u001b[0m \u001b[0mncy\u001b[0m \u001b[0;34m=\u001b[0m \u001b[0mx\u001b[0m\u001b[0;34m.\u001b[0m\u001b[0mshape\u001b[0m\u001b[0;34m[\u001b[0m\u001b[0;36m1\u001b[0m\u001b[0;34m]\u001b[0m\u001b[0;34m,\u001b[0m \u001b[0my\u001b[0m\u001b[0;34m.\u001b[0m\u001b[0mshape\u001b[0m\u001b[0;34m[\u001b[0m\u001b[0;36m1\u001b[0m\u001b[0;34m]\u001b[0m\u001b[0;34m\u001b[0m\u001b[0m\n\u001b[1;32m    394\u001b[0m         \u001b[0;32mfor\u001b[0m \u001b[0mj\u001b[0m \u001b[0;32min\u001b[0m \u001b[0mxrange\u001b[0m\u001b[0;34m(\u001b[0m\u001b[0mmax\u001b[0m\u001b[0;34m(\u001b[0m\u001b[0mncx\u001b[0m\u001b[0;34m,\u001b[0m \u001b[0mncy\u001b[0m\u001b[0;34m)\u001b[0m\u001b[0;34m)\u001b[0m\u001b[0;34m:\u001b[0m\u001b[0;34m\u001b[0m\u001b[0m\n\u001b[0;32m--> 395\u001b[0;31m             \u001b[0mseg\u001b[0m \u001b[0;34m=\u001b[0m \u001b[0mfunc\u001b[0m\u001b[0;34m(\u001b[0m\u001b[0mx\u001b[0m\u001b[0;34m[\u001b[0m\u001b[0;34m:\u001b[0m\u001b[0;34m,\u001b[0m \u001b[0mj\u001b[0m \u001b[0;34m%\u001b[0m \u001b[0mncx\u001b[0m\u001b[0;34m]\u001b[0m\u001b[0;34m,\u001b[0m \u001b[0my\u001b[0m\u001b[0;34m[\u001b[0m\u001b[0;34m:\u001b[0m\u001b[0;34m,\u001b[0m \u001b[0mj\u001b[0m \u001b[0;34m%\u001b[0m \u001b[0mncy\u001b[0m\u001b[0;34m]\u001b[0m\u001b[0;34m,\u001b[0m \u001b[0mkw\u001b[0m\u001b[0;34m,\u001b[0m \u001b[0mkwargs\u001b[0m\u001b[0;34m)\u001b[0m\u001b[0;34m\u001b[0m\u001b[0m\n\u001b[0m\u001b[1;32m    396\u001b[0m             \u001b[0mret\u001b[0m\u001b[0;34m.\u001b[0m\u001b[0mappend\u001b[0m\u001b[0;34m(\u001b[0m\u001b[0mseg\u001b[0m\u001b[0;34m)\u001b[0m\u001b[0;34m\u001b[0m\u001b[0m\n\u001b[1;32m    397\u001b[0m         \u001b[0;32mreturn\u001b[0m \u001b[0mret\u001b[0m\u001b[0;34m\u001b[0m\u001b[0m\n",
      "\u001b[0;32m/Users/theFlame/anaconda3/envs/ipykernel_py2/lib/python2.7/site-packages/matplotlib/axes/_base.pyc\u001b[0m in \u001b[0;36m_makeline\u001b[0;34m(self, x, y, kw, kwargs)\u001b[0m\n\u001b[1;32m    300\u001b[0m         \u001b[0mdefault_dict\u001b[0m \u001b[0;34m=\u001b[0m \u001b[0mself\u001b[0m\u001b[0;34m.\u001b[0m\u001b[0m_getdefaults\u001b[0m\u001b[0;34m(\u001b[0m\u001b[0mNone\u001b[0m\u001b[0;34m,\u001b[0m \u001b[0mkw\u001b[0m\u001b[0;34m)\u001b[0m\u001b[0;34m\u001b[0m\u001b[0m\n\u001b[1;32m    301\u001b[0m         \u001b[0mself\u001b[0m\u001b[0;34m.\u001b[0m\u001b[0m_setdefaults\u001b[0m\u001b[0;34m(\u001b[0m\u001b[0mdefault_dict\u001b[0m\u001b[0;34m,\u001b[0m \u001b[0mkw\u001b[0m\u001b[0;34m)\u001b[0m\u001b[0;34m\u001b[0m\u001b[0m\n\u001b[0;32m--> 302\u001b[0;31m         \u001b[0mseg\u001b[0m \u001b[0;34m=\u001b[0m \u001b[0mmlines\u001b[0m\u001b[0;34m.\u001b[0m\u001b[0mLine2D\u001b[0m\u001b[0;34m(\u001b[0m\u001b[0mx\u001b[0m\u001b[0;34m,\u001b[0m \u001b[0my\u001b[0m\u001b[0;34m,\u001b[0m \u001b[0;34m**\u001b[0m\u001b[0mkw\u001b[0m\u001b[0;34m)\u001b[0m\u001b[0;34m\u001b[0m\u001b[0m\n\u001b[0m\u001b[1;32m    303\u001b[0m         \u001b[0;32mreturn\u001b[0m \u001b[0mseg\u001b[0m\u001b[0;34m\u001b[0m\u001b[0m\n\u001b[1;32m    304\u001b[0m \u001b[0;34m\u001b[0m\u001b[0m\n",
      "\u001b[0;32m/Users/theFlame/anaconda3/envs/ipykernel_py2/lib/python2.7/site-packages/matplotlib/lines.pyc\u001b[0m in \u001b[0;36m__init__\u001b[0;34m(self, xdata, ydata, linewidth, linestyle, color, marker, markersize, markeredgewidth, markeredgecolor, markerfacecolor, markerfacecoloralt, fillstyle, antialiased, dash_capstyle, solid_capstyle, dash_joinstyle, solid_joinstyle, pickradius, drawstyle, markevery, **kwargs)\u001b[0m\n\u001b[1;32m    418\u001b[0m         \u001b[0mself\u001b[0m\u001b[0;34m.\u001b[0m\u001b[0m_markerfacecoloralt\u001b[0m \u001b[0;34m=\u001b[0m \u001b[0mNone\u001b[0m\u001b[0;34m\u001b[0m\u001b[0m\n\u001b[1;32m    419\u001b[0m \u001b[0;34m\u001b[0m\u001b[0m\n\u001b[0;32m--> 420\u001b[0;31m         \u001b[0mself\u001b[0m\u001b[0;34m.\u001b[0m\u001b[0mset_markerfacecolor\u001b[0m\u001b[0;34m(\u001b[0m\u001b[0mmarkerfacecolor\u001b[0m\u001b[0;34m)\u001b[0m\u001b[0;34m\u001b[0m\u001b[0m\n\u001b[0m\u001b[1;32m    421\u001b[0m         \u001b[0mself\u001b[0m\u001b[0;34m.\u001b[0m\u001b[0mset_markerfacecoloralt\u001b[0m\u001b[0;34m(\u001b[0m\u001b[0mmarkerfacecoloralt\u001b[0m\u001b[0;34m)\u001b[0m\u001b[0;34m\u001b[0m\u001b[0m\n\u001b[1;32m    422\u001b[0m         \u001b[0mself\u001b[0m\u001b[0;34m.\u001b[0m\u001b[0mset_markeredgecolor\u001b[0m\u001b[0;34m(\u001b[0m\u001b[0mmarkeredgecolor\u001b[0m\u001b[0;34m)\u001b[0m\u001b[0;34m\u001b[0m\u001b[0m\n",
      "\u001b[0;32m/Users/theFlame/anaconda3/envs/ipykernel_py2/lib/python2.7/site-packages/matplotlib/lines.pyc\u001b[0m in \u001b[0;36mset_markerfacecolor\u001b[0;34m(self, fc)\u001b[0m\n\u001b[1;32m   1204\u001b[0m         \u001b[0;32mif\u001b[0m \u001b[0mfc\u001b[0m \u001b[0;32mis\u001b[0m \u001b[0mNone\u001b[0m\u001b[0;34m:\u001b[0m\u001b[0;34m\u001b[0m\u001b[0m\n\u001b[1;32m   1205\u001b[0m             \u001b[0mfc\u001b[0m \u001b[0;34m=\u001b[0m \u001b[0;34m'auto'\u001b[0m\u001b[0;34m\u001b[0m\u001b[0m\n\u001b[0;32m-> 1206\u001b[0;31m         \u001b[0;32mif\u001b[0m \u001b[0mself\u001b[0m\u001b[0;34m.\u001b[0m\u001b[0m_markerfacecolor\u001b[0m \u001b[0;34m!=\u001b[0m \u001b[0mfc\u001b[0m\u001b[0;34m:\u001b[0m\u001b[0;34m\u001b[0m\u001b[0m\n\u001b[0m\u001b[1;32m   1207\u001b[0m             \u001b[0mself\u001b[0m\u001b[0;34m.\u001b[0m\u001b[0mstale\u001b[0m \u001b[0;34m=\u001b[0m \u001b[0mTrue\u001b[0m\u001b[0;34m\u001b[0m\u001b[0m\n\u001b[1;32m   1208\u001b[0m         \u001b[0mself\u001b[0m\u001b[0;34m.\u001b[0m\u001b[0m_markerfacecolor\u001b[0m \u001b[0;34m=\u001b[0m \u001b[0mfc\u001b[0m\u001b[0;34m\u001b[0m\u001b[0m\n",
      "\u001b[0;31mValueError\u001b[0m: The truth value of an array with more than one element is ambiguous. Use a.any() or a.all()"
     ]
    },
    {
     "data": {
      "image/png": "[encoded data removed]",
      "text/plain": [
       "<matplotlib.figure.Figure at 0x1071d9f10>"
      ]
     },
     "metadata": {},
     "output_type": "display_data"
    }
   ],
   "source": [
    "# Black removed and is used for noise instead.\n",
    "unique_labels = set(labels)\n",
    "colors = plt.cm.Spectral(np.linspace(0, 1, len(unique_labels)))\n",
    "\n",
    "\n",
    "for k, col in zip(unique_labels, colors):\n",
    "    if k == -1:\n",
    "        # Black used for noise.\n",
    "        col = 'k'\n",
    "\n",
    "    class_member_mask = (labels == k)\n",
    "\n",
    "    # plot core points \n",
    "    xy = X[class_member_mask & core_samples_mask]\n",
    "    \n",
    "    plt.plot(xy[:, 0], xy[:, 1], 'o', markerfacecolor=col)\n",
    "     #        markeredgecolor='k', markersize=14)\n",
    "    # non-core points\n",
    "    xy = X[class_member_mask & ~core_samples_mask]\n",
    "    plt.plot(xy[:, 0], xy[:, 1], 'o', markerfacecolor=col)\n",
    "           #  markeredgecolor='k', markersize=6)\n",
    "\n",
    "plt.title('Estimated number of clusters: %d' % n_clusters_)"
   ]
  },
  {
   "cell_type": "markdown",
   "metadata": {},
   "source": [
    "See if you can tell the data point types apart: core points, border points, and noise points. "
   ]
  },
  {
   "cell_type": "markdown",
   "metadata": {},
   "source": [
    "### Evaluation"
   ]
  },
  {
   "cell_type": "markdown",
   "metadata": {},
   "source": [
    "To evaluate the clustering outcome, there are a number of indeces one can use. Here we take a quick look on Silhouette Score.\n",
    "\n",
    "For a data point with a cluster, its Silhouette Coefficient is decided by two scores:\n",
    "- a: The mean distance between a sample and all other points in the same cluster.\n",
    "- b: The mean distance between a sample and all other points in the next nearest cluster.\n",
    "The Silhouette Coefficient $s$ for the data point is then given as:\n",
    "$s = \\displaystyle\\frac{b - a}{max(a, b)}$"
   ]
  },
  {
   "cell_type": "markdown",
   "metadata": {},
   "source": [
    "The average Silhouette Coefficient of the overall clustering outcome is reported by:"
   ]
  },
  {
   "cell_type": "code",
   "execution_count": null,
   "metadata": {
    "collapsed": true
   },
   "outputs": [],
   "source": [
    "metrics.silhouette_score(X, labels, metric='euclidean')"
   ]
  },
  {
   "cell_type": "markdown",
   "metadata": {},
   "source": [
    "The score is bounded between -1 for incorrect clustering and +1 for highly dense clustering. Scores around zero indicate overlapping clusters."
   ]
  },
  {
   "cell_type": "markdown",
   "metadata": {},
   "source": [
    "**Task C**. Parameters play important part in clustering algorithms. How does the setting of Eps affect the clustering outcome? Print out the number of clusters found, and the Silhouette Score when eps takes value from this list: [0.1,0.15,0.2,0.25,0.3,0.35,0.4]."
   ]
  },
  {
   "cell_type": "code",
   "execution_count": null,
   "metadata": {
    "collapsed": true
   },
   "outputs": [],
   "source": [
    "# Your code here\n",
    "\n",
    "eps_list = [0.1,0.15,0.2,0.25,0.3,0.35,0.4]\n",
    "\n",
    "for i in range(0,len(eps_list)):\n",
    "    db = DBSCAN(eps=eps_list[i], min_samples=10).fit(X)\n",
    "    labels = db.labels_\n",
    "    core_samples_mask = np.zeros_like(db.labels_, dtype=bool)\n",
    "    core_samples_mask[db.core_sample_indices_] = True\n",
    "    \n",
    "    # Number of clusters in labels, ignoring noise if present.\n",
    "    n_clusters_ = len(set(labels)) - (1 if -1 in labels else 0)\n",
    "    silhouette_score =  metrics.silhouette_score(X, labels, metric='euclidean')\n",
    "    print( 'eps value: %.2f' % eps_list[i], 'Estimated number of clusters found: %d.' % n_clusters_,\n",
    "          \" Silhouette score: %f\" % silhouette_score)\n",
    "    \n",
    "\n",
    "\n",
    "\n",
    "\n",
    "\n"
   ]
  },
  {
   "cell_type": "markdown",
   "metadata": {},
   "source": [
    "Comment on your findings: \n",
    "\n",
    "The larger the eps value, the lower the number of clusters found. In this scenario the optimal eps score is 0.3, as this gives us the highest Silhouette score. The Silhouette score goes down when the eps values goes either way from the optimal value. \n",
    "\n",
    "\n",
    "\n",
    "\n"
   ]
  },
  {
   "cell_type": "markdown",
   "metadata": {},
   "source": [
    "**Task D**. Use the Sklearn K-means function to redo the clustering with k=2, 3, 4, 5. Compare the outcomes of using two initialization schemes: plain random initialization, and k-means++. Report the Silhouette Scores. "
   ]
  },
  {
   "cell_type": "code",
   "execution_count": 214,
   "metadata": {
    "scrolled": true
   },
   "outputs": [
    {
     "name": "stdout",
     "output_type": "stream",
     "text": [
      "K-Means clustering using k-mean++ for initialization: \n",
      "\n",
      "('K value: 2', ' Silhouette score: 0.516770')\n",
      "('K value: 3', ' Silhouette score: 0.649608')\n",
      "('K value: 4', ' Silhouette score: 0.528301')\n",
      "('K value: 5', ' Silhouette score: 0.432990')\n",
      "\n",
      "K-Means clustering using random initialization: \n",
      "\n",
      "('K value: 2', ' Silhouette score: 0.516770')\n",
      "('K value: 3', ' Silhouette score: 0.649608')\n",
      "('K value: 4', ' Silhouette score: 0.528301')\n",
      "('K value: 5', ' Silhouette score: 0.432990')\n"
     ]
    }
   ],
   "source": [
    "# Your code\n",
    "k_values=[2, 3, 4, 5]\n",
    "\n",
    "\n",
    "print(\"K-Means clustering using k-mean++ for initialization: \\n\")\n",
    "for i in range(0,len(k_values)):\n",
    "    kmeans = KMeans(n_clusters=k_values[i], max_iter = 50, init='k-means++').fit(X)\n",
    "    labels = kmeans.labels_   \n",
    "\n",
    "    n_clusters_ = len(set(labels)) - (1 if -1 in labels else 0)\n",
    "    silhouette_score =  metrics.silhouette_score(X, labels, metric='euclidean')\n",
    "    print('K value: %d' % k_values[i], \n",
    "          \" Silhouette score: %f\" % silhouette_score)\n",
    "    \n",
    "print(\"\\nK-Means clustering using random initialization: \\n\")\n",
    "for i in range(0,len(k_values)):\n",
    "    kmeans = KMeans(n_clusters=k_values[i], max_iter = 50, init='random').fit(X)\n",
    "    labels = kmeans.labels_   \n",
    "\n",
    "    n_clusters_ = len(set(labels)) - (1 if -1 in labels else 0)\n",
    "    silhouette_score =  metrics.silhouette_score(X, labels, metric='euclidean')\n",
    "    print('K value: %d' % k_values[i], \n",
    "          \" Silhouette score: %f\" % silhouette_score)\n",
    "\n",
    "\n"
   ]
  },
  {
   "cell_type": "markdown",
   "metadata": {},
   "source": [
    "Comment on your findings:\n",
    "\n",
    "I ran the Kmeans function for 50 iterations using Kmeans++ and randomization as initialization methods. \n",
    "\n",
    "The Silhouette score for these results are very similar regardless of the method of initialization.  \n",
    "\n",
    "Perhaps randomized initialization is just as good as Kmeans++? "
   ]
  },
  {
   "cell_type": "markdown",
   "metadata": {},
   "source": [
    "END OF LAB 2."
   ]
  }
 ],
 "metadata": {
  "kernelspec": {
   "display_name": "Python 2",
   "language": "python",
   "name": "python2"
  },
  "language_info": {
   "codemirror_mode": {
    "name": "ipython",
    "version": 2
   },
   "file_extension": ".py",
   "mimetype": "text/x-python",
   "name": "python",
   "nbconvert_exporter": "python",
   "pygments_lexer": "ipython2",
   "version": "2.7.13"
  }
 },
 "nbformat": 4,
 "nbformat_minor": 1
}
