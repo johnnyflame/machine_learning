{
 "cells": [
  {
   "cell_type": "markdown",
   "metadata": {},
   "source": [
    "# Lab 4 - PCA and Classification"
   ]
  },
  {
   "cell_type": "markdown",
   "metadata": {},
   "source": [
    "## Objectives\n",
    "In this lab, we will take a look of a few topics - \n",
    "- Using PCA for visualisation\n",
    "- Employing PCA for classification tasks\n",
    "- Implementing the power method for PCA\n",
    "\n",
    "## Resources\n",
    "- Lecture notes on Dimension Reduction\n",
    "- Sklearn documentation page on PCA: http://scikit-learn.org/stable/modules/generated/sklearn.decomposition.PCA.html\n",
    "- Sklearn documentation on k-NN: http://scikit-learn.org/stable/modules/generated/sklearn.neighbors.KNeighborsClassifier.html#sklearn.neighbors.KNeighborsClassifier "
   ]
  },
  {
   "cell_type": "markdown",
   "metadata": {},
   "source": [
    "## Part A. PCA and Visualization"
   ]
  },
  {
   "cell_type": "code",
   "execution_count": 212,
   "metadata": {
    "collapsed": true
   },
   "outputs": [],
   "source": [
    "# business as usual\n",
    "import numpy as np\n",
    "import matplotlib.pylab as pl\n",
    "%matplotlib inline"
   ]
  },
  {
   "cell_type": "markdown",
   "metadata": {},
   "source": [
    "We are to use a Bank Telemarketing dataset from the UCI Repository. The data set is for prediction on whether a client is likely to subscribe to a term deposit. More information can be found from URL https://archive.ics.uci.edu/ml/datasets/Bank+Marketing. \n",
    "\n",
    "For our purposes we have included only numerical attributes in a reduced dataset. Load it in:"
   ]
  },
  {
   "cell_type": "code",
   "execution_count": 213,
   "metadata": {
    "collapsed": true
   },
   "outputs": [],
   "source": [
    "bank=np.loadtxt('bank_new.txt')"
   ]
  },
  {
   "cell_type": "markdown",
   "metadata": {},
   "source": [
    "In case the data is ordered (and our classifiers might be order-sensitive), we shuffle it before further experiments:"
   ]
  },
  {
   "cell_type": "code",
   "execution_count": 214,
   "metadata": {
    "collapsed": true
   },
   "outputs": [],
   "source": [
    "bank=np.random.permutation(bank)"
   ]
  },
  {
   "cell_type": "markdown",
   "metadata": {},
   "source": [
    "We then separate the data attributes (first 10 columns) from the class labels (last column):"
   ]
  },
  {
   "cell_type": "code",
   "execution_count": 215,
   "metadata": {
    "collapsed": true
   },
   "outputs": [],
   "source": [
    "data=bank[:,0:-1]\n",
    "label=bank[:,-1]"
   ]
  },
  {
   "cell_type": "code",
   "execution_count": 216,
   "metadata": {
    "collapsed": false
   },
   "outputs": [
    {
     "data": {
      "text/plain": [
       "(4334, 11)"
      ]
     },
     "execution_count": 216,
     "metadata": {},
     "output_type": "execute_result"
    }
   ],
   "source": [
    "data.shape        # check on the dimensionality of data"
   ]
  },
  {
   "cell_type": "markdown",
   "metadata": {},
   "source": [
    "To visualize the data sets, we construct two subsets according to the class labels, and choose two attributes to do a scatter plot, e.g., attributes 0 and 4:"
   ]
  },
  {
   "cell_type": "code",
   "execution_count": 217,
   "metadata": {
    "collapsed": true
   },
   "outputs": [],
   "source": [
    "# Get the subset indeces for class '0' and '1' respectively\n",
    "sub0=label[:]==0\n",
    "sub1=label[:]==1"
   ]
  },
  {
   "cell_type": "code",
   "execution_count": 218,
   "metadata": {
    "collapsed": false
   },
   "outputs": [
    {
     "data": {
      "text/plain": [
       "[<matplotlib.lines.Line2D at 0x11e597390>]"
      ]
     },
     "execution_count": 218,
     "metadata": {},
     "output_type": "execute_result"
    },
    {
     "data": {
      "image/png": "[encoded data removed]",
      "text/plain": [
       "<matplotlib.figure.Figure at 0x11e5ac550>"
      ]
     },
     "metadata": {},
     "output_type": "display_data"
    }
   ],
   "source": [
    "# Plot out the data using two attributes \n",
    "pl.plot(data[sub0,0],data[sub0,4],'cx')\n",
    "pl.plot(data[sub1,0],data[sub1,4],'mo')"
   ]
  },
  {
   "cell_type": "markdown",
   "metadata": {},
   "source": [
    "With 11 attributes, there are $11\\times(11-1)/2=55$ options for a 2-attribute scatter plot. We may be lucky to hit on a good choice, but even that has the information of 9 other attributes left out.\n",
    "\n",
    "Let's then consider using PCA and getting a linear projection of *all* attributes onto the first two principal components. \n",
    "We import the PCA module in Sklearn, and *fit and transform* the data to the first two PCs:"
   ]
  },
  {
   "cell_type": "code",
   "execution_count": 219,
   "metadata": {
    "collapsed": true
   },
   "outputs": [],
   "source": [
    "from sklearn.decomposition import PCA"
   ]
  },
  {
   "cell_type": "code",
   "execution_count": 220,
   "metadata": {
    "collapsed": false
   },
   "outputs": [
    {
     "data": {
      "text/plain": [
       "array([[  268.72744934,  -243.24814487],\n",
       "       [ -345.78336204,   141.66150729],\n",
       "       [ -824.99787511,   223.06975141],\n",
       "       ..., \n",
       "       [-1339.40520338,  -159.72979266],\n",
       "       [ -894.29730815,   414.96342147],\n",
       "       [-1368.41846753,  -151.77465435]])"
      ]
     },
     "execution_count": 220,
     "metadata": {},
     "output_type": "execute_result"
    }
   ],
   "source": [
    "pca=PCA(n_components=2)\n",
    "x=pca.fit_transform(data)\n",
    "\n",
    "x"
   ]
  },
  {
   "cell_type": "markdown",
   "metadata": {},
   "source": [
    "How well do the two PCs *summarize* the data? We can print out the variance they have explained:"
   ]
  },
  {
   "cell_type": "code",
   "execution_count": 221,
   "metadata": {
    "collapsed": false
   },
   "outputs": [
    {
     "name": "stdout",
     "output_type": "stream",
     "text": [
      "[ 0.99146531  0.00742884]\n"
     ]
    }
   ],
   "source": [
    "print(pca.explained_variance_ratio_)"
   ]
  },
  {
   "cell_type": "markdown",
   "metadata": {},
   "source": [
    "Now, replot the plot using the two PCs - does it look better?"
   ]
  },
  {
   "cell_type": "code",
   "execution_count": 222,
   "metadata": {
    "collapsed": false
   },
   "outputs": [
    {
     "data": {
      "text/plain": [
       "[<matplotlib.lines.Line2D at 0x11e9bec90>]"
      ]
     },
     "execution_count": 222,
     "metadata": {},
     "output_type": "execute_result"
    },
    {
     "data": {
      "image/png": "[encoded data removed]",
      "text/plain": [
       "<matplotlib.figure.Figure at 0x11e9bed10>"
      ]
     },
     "metadata": {},
     "output_type": "display_data"
    }
   ],
   "source": [
    "pl.plot(x[sub0,0],x[sub0,1],'bx')\n",
    "pl.plot(x[sub1,0],x[sub1,1],'g+')"
   ]
  },
  {
   "cell_type": "markdown",
   "metadata": {},
   "source": [
    "## Part B. Classification"
   ]
  },
  {
   "cell_type": "markdown",
   "metadata": {},
   "source": [
    "For this part we will experiment with the k-NN classifier implemented in the Sklearn package."
   ]
  },
  {
   "cell_type": "code",
   "execution_count": 223,
   "metadata": {
    "collapsed": true
   },
   "outputs": [],
   "source": [
    "from sklearn.neighbors import KNeighborsClassifier"
   ]
  },
  {
   "cell_type": "markdown",
   "metadata": {},
   "source": [
    "The following lines start a \"KNeighborsClassifier\", fit it with the first 1000 entries of the dataset, and test it against the rest of the dataset, reporting an accuracy score:"
   ]
  },
  {
   "cell_type": "code",
   "execution_count": 224,
   "metadata": {
    "collapsed": false
   },
   "outputs": [
    {
     "data": {
      "text/plain": [
       "0.87492501499700059"
      ]
     },
     "execution_count": 224,
     "metadata": {},
     "output_type": "execute_result"
    }
   ],
   "source": [
    "neigh = KNeighborsClassifier(n_neighbors=3,weights='uniform')\n",
    "neigh.fit(data[:1000], label[:1000])\n",
    "neigh.score(data[1000:],label[1000:])"
   ]
  },
  {
   "cell_type": "code",
   "execution_count": 225,
   "metadata": {
    "collapsed": false
   },
   "outputs": [
    {
     "data": {
      "text/plain": [
       "0.85482903419316136"
      ]
     },
     "execution_count": 225,
     "metadata": {},
     "output_type": "execute_result"
    }
   ],
   "source": [
    "neigh = KNeighborsClassifier(n_neighbors=3)\n",
    "neigh.fit(x[:1000], label[:1000])\n",
    "neigh.score(x[1000:],label[1000:])"
   ]
  },
  {
   "cell_type": "markdown",
   "metadata": {},
   "source": [
    "One question we can ask is - how does the number of neighbours (k) affect the classification accuracy? \n",
    "\n",
    "**Task 1a**. Taking the same split of the 'data' array (first 1000 vs the rest) for training and testing, carry out k-NN classification using different $k$ (n_neighbors) values. Use a \"for\" loop to collect the performance data into a list; print out or display the list. \n",
    "\n",
    "Add another list to collect performance data using distance-based weighting for k-NN. From the two accuracy lists, generate two performance curves for comparison."
   ]
  },
  {
   "cell_type": "code",
   "execution_count": 226,
   "metadata": {
    "collapsed": false
   },
   "outputs": [
    {
     "data": {
      "image/png": "[encoded data removed]",
      "text/plain": [
       "<matplotlib.figure.Figure at 0x11fc5be50>"
      ]
     },
     "metadata": {},
     "output_type": "display_data"
    }
   ],
   "source": [
    "# your task1a code here\n",
    "\n",
    "uniform_results = []\n",
    "distance_results = []\n",
    "k = 51\n",
    "\n",
    "\n",
    "def print_results(x):\n",
    "    for i in range(0, len(x)):\n",
    "        print \"k \", i+1 , \" :\" , x[i]\n",
    "\n",
    "        \n",
    "def run_knn_classifier(mode,kvalue,input_data,results):\n",
    "    for i in range (1,kvalue):\n",
    "        neigh = KNeighborsClassifier(n_neighbors=i,weights=mode)\n",
    "        neigh.fit(input_data[:1000], label[:1000])\n",
    "        results.append(neigh.score(input_data[1000:],label[1000:]))\n",
    "    return results\n",
    "    \n",
    "        \n",
    "\n",
    "uniform_results = run_knn_classifier('uniform',k,data,uniform_results)       \n",
    "distance_results = run_knn_classifier('distance',k,data,distance_results)       \n",
    "\n",
    "pl.plot(uniform_results,'-ro',label=\"uniform weights\")\n",
    "pl.plot(distance_results,'-g+',label='distance based weights')\n",
    "pl.ylabel('accuracy score')\n",
    "pl.xlabel('k value')\n",
    "pl.legend(loc='center right')\n",
    "pl.show()"
   ]
  },
  {
   "cell_type": "markdown",
   "metadata": {},
   "source": [
    "**Task 1b**. Note that the 'x' array contains the 2-D PCA-transformed data. Carry out the same study as above for the dimension-reduced dataset. "
   ]
  },
  {
   "cell_type": "code",
   "execution_count": 228,
   "metadata": {
    "collapsed": false,
    "scrolled": true
   },
   "outputs": [
    {
     "data": {
      "image/png": "[encoded data removed]",
      "text/plain": [
       "<matplotlib.figure.Figure at 0x11f08f810>"
      ]
     },
     "metadata": {},
     "output_type": "display_data"
    }
   ],
   "source": [
    "# your task1b code here\n",
    "uniform_PCA_transformed = []\n",
    "distance_PCA_transformed = []\n",
    "\n",
    "\n",
    "uniform_PCA_transformed = run_knn_classifier('uniform',k,x,uniform_PCA_transformed)       \n",
    "distance_PCA_transformed = run_knn_classifier('distance',k,x,distance_PCA_transformed)       \n",
    "\n",
    "\n",
    "pl.plot(uniform_results,'-ro',label=\"uniform weights, raw data\")\n",
    "pl.plot(distance_results,'-g+',label='distance based weights, raw data')\n",
    "pl.plot(uniform_PCA_transformed,'-bo',label=\"uniform weights, PCA-transformed data\")\n",
    "pl.plot(distance_PCA_transformed,'-c+',label='distance based weights, PCA-transformed data')\n",
    "pl.ylabel('accuracy score')\n",
    "pl.xlabel('k value')\n",
    "pl.legend(loc='center right')\n",
    "pl.show()\n"
   ]
  },
  {
   "cell_type": "markdown",
   "metadata": {},
   "source": [
    "Comment on the findings from the classification experiments above:\n",
    "\n",
    "Up to a threshold, as k increases the accuracy score increases. After that, the increase in accuracy smoothes out/converges to a similar value, around 0.885, regardless of increase in k value. The threshold is approximately k=10-15.\n",
    "\n",
    "As a generalization, the accuracy of KNN and the number of k appear to have a logarithmic relationship. \n",
    "\n",
    "Comparing the different initialization against each other, it appears that in general, uniform weights perform better than distance-bases weights, for both raw data and dimension reduced/PCA transformed data. \n",
    "\n",
    "Over a high number of k-values, (eg, k=50), the accuracy score of the different initialization methods converges to a similar value, with the exception of using distance based weight initialization with PCA transformed data performing slightly worse than the other initialization methods. That said, all iterations converges eventually. \n",
    "\n",
    "<p><font color=\"red\">**JD**: nice graph! Note I won't read too deep into the curves and suggest the accuracy follow a logarithmic relationship in terms of k... What's more important is that there's a range for good $k$ values, after that increasing $k$ may not help. Also, distance-based weighting for kNN may not work better (some times it does).</font>"
   ]
  },
  {
   "cell_type": "markdown",
   "metadata": {},
   "source": [
    "## Part C. Power PCA"
   ]
  },
  {
   "cell_type": "markdown",
   "metadata": {},
   "source": [
    "### Implementation"
   ]
  },
  {
   "cell_type": "markdown",
   "metadata": {},
   "source": [
    "We can also conduct PCA using the power method. First we transform the data array into a matrix, which will make further operations easier:"
   ]
  },
  {
   "cell_type": "code",
   "execution_count": 180,
   "metadata": {
    "collapsed": false
   },
   "outputs": [
    {
     "name": "stdout",
     "output_type": "stream",
     "text": [
      "4334 11\n"
     ]
    }
   ],
   "source": [
    "X=np.matrix(data)\n",
    "nr,dim=X.shape\n",
    "print nr,dim"
   ]
  },
  {
   "cell_type": "markdown",
   "metadata": {},
   "source": [
    "We need to do some pre-processing on the raw data: making it zero-meaned:"
   ]
  },
  {
   "cell_type": "code",
   "execution_count": 181,
   "metadata": {
    "collapsed": true
   },
   "outputs": [],
   "source": [
    "m=np.mean(X,axis=0)\n",
    "X-=m"
   ]
  },
  {
   "cell_type": "markdown",
   "metadata": {},
   "source": [
    "Then we calculate the covariance matrix $R=X^TX/n$. Note its dimensionality."
   ]
  },
  {
   "cell_type": "code",
   "execution_count": 182,
   "metadata": {
    "collapsed": false
   },
   "outputs": [
    {
     "name": "stdout",
     "output_type": "stream",
     "text": [
      "Covar mat.\n",
      "[[  1.10337498e+02   3.27027129e+00  -1.33308102e+00  -2.22451489e-02\n",
      "    2.71687501e+03  -1.01615243e+00  -2.08759193e-02  -1.26908051e+01\n",
      "    1.20919596e-03  -1.27370826e+01  -1.68337667e-02]\n",
      " [  3.27027129e+00   7.59085234e-01  -9.94995836e-02  -3.17735364e-03\n",
      "    1.32897089e+01   1.93622549e-02   1.39668974e-02  -8.51333187e+00\n",
      "    5.36409613e-02  -2.16095749e+00  -3.88618641e-02]\n",
      " [ -1.33308102e+00  -9.94995836e-02   4.43886557e-01  -9.96509926e-04\n",
      "    1.13485600e+02  -2.39758648e-02  -6.01206715e-03  -1.94341721e+00\n",
      "    2.02536729e-02   7.67675514e-01   3.44681273e-02]\n",
      " [ -2.22451489e-02  -3.17735364e-03  -9.96509926e-04   1.65598569e-02\n",
      "   -2.70921871e+01   2.98878445e-04   2.87932700e-03  -4.96939078e-01\n",
      "   -5.05351596e-03  -3.23484329e-01  -5.70307348e-03]\n",
      " [  2.71687501e+03   1.32897089e+01   1.13485600e+02  -2.70921871e+01\n",
      "    9.06169384e+06  -7.59308936e+01  -8.32773562e+01  -1.39459668e+04\n",
      "   -7.63231191e+01   2.51159093e+03   1.17635841e+02]\n",
      " [ -1.01615243e+00   1.93622549e-02  -2.39758648e-02   2.98878445e-04\n",
      "   -7.59308936e+01   2.44916777e-01   3.05330897e-03   1.75895501e+00\n",
      "   -5.49714868e-03   5.84302472e+00   3.25063050e-02]\n",
      " [ -2.08759193e-02   1.39668974e-02  -6.01206715e-03   2.87932700e-03\n",
      "   -8.32773562e+01   3.05330897e-03   1.32914130e-01  -4.35694924e-01\n",
      "    1.98654610e-02  -1.16242409e+00  -1.43387120e-02]\n",
      " [ -1.26908051e+01  -8.51333187e+00  -1.94341721e+00  -4.96939078e-01\n",
      "   -1.39459668e+04   1.75895501e+00  -4.35694924e-01   6.79186509e+04\n",
      "   -5.76724550e+01   1.50356524e+02   7.49089491e+00]\n",
      " [  1.20919596e-03   5.36409613e-02   2.02536729e-02  -5.05351596e-03\n",
      "   -7.63231191e+01  -5.49714868e-03   1.98654610e-02  -5.76724550e+01\n",
      "    9.79265231e+00  -2.90233953e+01  -3.53625586e-01]\n",
      " [ -1.27370826e+01  -2.16095749e+00   7.67675514e-01  -3.23484329e-01\n",
      "    2.51159093e+03   5.84302472e+00  -1.16242409e+00   1.50356524e+02\n",
      "   -2.90233953e+01   9.98451242e+03   9.79939649e+01]\n",
      " [ -1.68337667e-02  -3.88618641e-02   3.44681273e-02  -5.70307348e-03\n",
      "    1.17635841e+02   3.25063050e-02  -1.43387120e-02   7.49089491e+00\n",
      "   -3.53625586e-01   9.79939649e+01   2.89688108e+00]]\n"
     ]
    }
   ],
   "source": [
    "R=X.T*X/nr\n",
    "print 'Covar mat.'\n",
    "print R"
   ]
  },
  {
   "cell_type": "markdown",
   "metadata": {},
   "source": [
    "We now initialize a column vector $\\vec w$ (simply using an all-1), to be multiplied with $R$:"
   ]
  },
  {
   "cell_type": "code",
   "execution_count": 183,
   "metadata": {
    "collapsed": true
   },
   "outputs": [],
   "source": [
    "w=np.matrix(np.ones(dim)).T"
   ]
  },
  {
   "cell_type": "code",
   "execution_count": 184,
   "metadata": {
    "collapsed": false
   },
   "outputs": [
    {
     "name": "stdout",
     "output_type": "stream",
     "text": [
      "(11, 11) (11, 1) 11\n"
     ]
    }
   ],
   "source": [
    "# check on dimensionality\n",
    "print R.shape,w.shape,dim"
   ]
  },
  {
   "cell_type": "markdown",
   "metadata": {},
   "source": [
    "**Run** the following iteration a number of times and see if the power iteration + normalization process converges or not:"
   ]
  },
  {
   "cell_type": "code",
   "execution_count": 188,
   "metadata": {
    "collapsed": false
   },
   "outputs": [
    {
     "name": "stdout",
     "output_type": "stream",
     "text": [
      "[[  2.99824056e-04]\n",
      " [  1.46807374e-06]\n",
      " [  1.25239274e-05]\n",
      " [ -2.98966283e-06]\n",
      " [  9.99998714e-01]\n",
      " [ -8.37945042e-06]\n",
      " [ -9.18996967e-06]\n",
      " [ -1.55061092e-03]\n",
      " [ -8.41361043e-06]\n",
      " [  2.77444381e-04]\n",
      " [  1.29833343e-05]]\n"
     ]
    }
   ],
   "source": [
    "w=R*w\n",
    "norm=w.T*w\n",
    "w/=np.sqrt(norm)\n",
    "print w"
   ]
  },
  {
   "cell_type": "markdown",
   "metadata": {},
   "source": [
    "Now we can generate the first PC for the entire dataset X:"
   ]
  },
  {
   "cell_type": "code",
   "execution_count": 70,
   "metadata": {
    "collapsed": true
   },
   "outputs": [],
   "source": [
    "y1=X*w"
   ]
  },
  {
   "cell_type": "markdown",
   "metadata": {},
   "source": [
    "To get the second eigenvector, one needs to deflate the correlation matrix $R$ with ${\\vec w}$ (right now converged to the first eigenvector):"
   ]
  },
  {
   "cell_type": "code",
   "execution_count": 112,
   "metadata": {
    "collapsed": false
   },
   "outputs": [
    {
     "data": {
      "text/plain": [
       "matrix([[ -1.14488906],\n",
       "        [ -4.31613532],\n",
       "        [  0.95113068],\n",
       "        ..., \n",
       "        [ -8.95821978],\n",
       "        [-14.23184837],\n",
       "        [  5.6454795 ]])"
      ]
     },
     "execution_count": 112,
     "metadata": {},
     "output_type": "execute_result"
    }
   ],
   "source": [
    "R=R-w*w.T*R\n"
   ]
  },
  {
   "cell_type": "markdown",
   "metadata": {},
   "source": [
    "What then? We can repeat the iterations using another initialized w. If w converges, you can stack it alongside the first w to make a transform matrix using numpy's hstack(). The projection on the 2-D dataset can be generated simply by 'y=X*W'. This our next task."
   ]
  },
  {
   "cell_type": "markdown",
   "metadata": {},
   "source": [
    "**Task 2**: Write a powerPCA(data, n_pcs) function, use it to derive the 1st and 2nd eigenvectors.  and test it by using the \"Bank\" data for visualisation.\n",
    "\n",
    "Inputs: \n",
    "- data: raw data as a 2-D array\n",
    "- n_pcs: number of principal components to be extracted\n",
    "\n",
    "Procedure: \n",
    "1. Decentralize data\n",
    "2. Get covariance matrix\n",
    "3. Initialize w\n",
    "4. Do power method iterations (e.g., 30 times) and get w (converged)\n",
    "5. Assign transform matrix W=w\n",
    "6. for other eigenvectors:\n",
    "    repeat steps 3 and 4;\n",
    "    hstack w to W\n",
    "7. return X*W"
   ]
  },
  {
   "cell_type": "code",
   "execution_count": 194,
   "metadata": {
    "collapsed": false
   },
   "outputs": [
    {
     "data": {
      "text/plain": [
       "[<matplotlib.lines.Line2D at 0x11b407250>]"
      ]
     },
     "execution_count": 194,
     "metadata": {},
     "output_type": "execute_result"
    },
    {
     "data": {
      "image/png": "[encoded data removed]",
      "text/plain": [
       "<matplotlib.figure.Figure at 0x11bb501d0>"
      ]
     },
     "metadata": {},
     "output_type": "display_data"
    }
   ],
   "source": [
    "# your code (function definition, plus testing) here\n",
    "\n",
    "def powerPCA(data, n_pcs):\n",
    "    \n",
    "    W=None  \n",
    "    X=np.matrix(data)\n",
    "    nr,dim=X.shape\n",
    "    \n",
    "    # data preprocessing\n",
    "    m=np.mean(X,axis=0)\n",
    "    X-=m\n",
    "    \n",
    "    # Compute covariance matrix, R\n",
    "    R=X.T*X/nr\n",
    "    \n",
    "    # Power method iteration begins here\n",
    "    for i in range(0,n_pcs):\n",
    "\n",
    "        \n",
    "        #initialize w\n",
    "        w=np.matrix(np.ones(dim)).T   \n",
    "        \n",
    "        for j in range(0,30):\n",
    "            w=R*w\n",
    "            norm=w.T*w\n",
    "            w/=np.sqrt(norm)\n",
    "                  \n",
    "        R=R-w*w.T*R\n",
    "        \n",
    "        if W is None:\n",
    "            W = w\n",
    "        else:\n",
    "            W = np.hstack((W,w))\n",
    "            \n",
    "\n",
    "    return X*W\n",
    "        \n",
    "    \n",
    "Y = powerPCA(data,2)\n",
    "\n",
    "\n",
    "# Plot out the data using two attributes \n",
    "pl.plot(Y[sub0,0],Y[sub0,1],'bx')\n",
    "pl.plot(Y[sub1,0],Y[sub1,1],'g+')\n"
   ]
  },
  {
   "cell_type": "markdown",
   "metadata": {},
   "source": [
    "Your comments:\n",
    "\n"
   ]
  },
  {
   "cell_type": "markdown",
   "metadata": {
    "collapsed": true
   },
   "source": [
    "<p><font color=\"red\">**JD**: Excellent work!\n",
    "\n",
    "<p>**Mark: 95%**</font>"
   ]
  },
  {
   "cell_type": "code",
   "execution_count": null,
   "metadata": {
    "collapsed": true
   },
   "outputs": [],
   "source": []
  }
 ],
 "metadata": {
  "kernelspec": {
   "display_name": "Python 2",
   "language": "python",
   "name": "python2"
  },
  "language_info": {
   "codemirror_mode": {
    "name": "ipython",
    "version": 2
   },
   "file_extension": ".py",
   "mimetype": "text/x-python",
   "name": "python",
   "nbconvert_exporter": "python",
   "pygments_lexer": "ipython2",
   "version": "2.7.12"
  }
 },
 "nbformat": 4,
 "nbformat_minor": 1
}
