{
 "cells": [
  {
   "cell_type": "markdown",
   "metadata": {},
   "source": [
    "# Lab 3"
   ]
  },
  {
   "cell_type": "markdown",
   "metadata": {},
   "source": [
    "## Objectives"
   ]
  },
  {
   "cell_type": "markdown",
   "metadata": {},
   "source": [
    "* Master more array manipulation skills \n",
    "* Understand the SOM algorithm and its implementation\n",
    "* Learn to manipulate image data using the PIL package\n",
    "* Get familiar with Numpy / Sklearn / Matplotlab utilities"
   ]
  },
  {
   "cell_type": "markdown",
   "metadata": {},
   "source": [
    "## A. Colour mapping using SOM"
   ]
  },
  {
   "cell_type": "markdown",
   "metadata": {},
   "source": [
    "As usual, import some important stuff first:"
   ]
  },
  {
   "cell_type": "code",
   "execution_count": 2,
   "metadata": {
    "collapsed": true
   },
   "outputs": [],
   "source": [
    "import numpy as np\n",
    "import matplotlib.pyplot as pl\n",
    "%matplotlib inline"
   ]
  },
  {
   "cell_type": "markdown",
   "metadata": {},
   "source": [
    "We start with a toy task: randomly generate a color pixel population, display it as an image, and then use the SOM algorithm to organize a color map. \n",
    "\n",
    "In the following code, we form a pixel array of $64\\times64=4096$ pixels, and use it to train a SOM map with a $16\\times16$ grid. From a data quantization / compression perspective, we are to create a 256-entry codebook to represent a sample of the 24-bit colour space (well actually we only use 4096 colours as our raw data). "
   ]
  },
  {
   "cell_type": "code",
   "execution_count": 3,
   "metadata": {},
   "outputs": [
    {
     "data": {
      "text/plain": [
       "<matplotlib.image.AxesImage at 0x1158f0fd0>"
      ]
     },
     "execution_count": 3,
     "metadata": {},
     "output_type": "execute_result"
    },
    {
     "data": {
      "image/png": "[encoded data removed]",
      "text/plain": [
       "<matplotlib.figure.Figure at 0x112580e50>"
      ]
     },
     "metadata": {},
     "output_type": "display_data"
    }
   ],
   "source": [
    "# first the random pixel array, and displaying it as an image\n",
    "ar=np.random.randint(1,256, size=(64, 64,3))\n",
    "pl.imshow(ar.astype(\"uint8\"),interpolation='nearest')"
   ]
  },
  {
   "cell_type": "markdown",
   "metadata": {},
   "source": [
    "Quite messy, isn't it? Our intention is to employ an 2D SOM, so its topology preserving capability will draw similar colors (in the 3-D RGB space) into neighbourhood on a 2D grid."
   ]
  },
  {
   "cell_type": "code",
   "execution_count": 4,
   "metadata": {
    "collapsed": true
   },
   "outputs": [],
   "source": [
    "# reshape it into a long array colour pixels (each as a 3-D RGB vectors) - this is the input data to be clustered\n",
    "data=ar.reshape(64*64,3)"
   ]
  },
  {
   "cell_type": "code",
   "execution_count": 5,
   "metadata": {},
   "outputs": [
    {
     "data": {
      "text/plain": [
       "array([[ 78,  20, 121],\n",
       "       [116, 223, 255],\n",
       "       [116, 111, 240],\n",
       "       ..., \n",
       "       [ 83, 233,  47],\n",
       "       [153, 148, 135],\n",
       "       [224, 184, 194]])"
      ]
     },
     "execution_count": 5,
     "metadata": {},
     "output_type": "execute_result"
    }
   ],
   "source": [
    "# Take a look of the array. Each line represents the R G B value of a pixel.\n",
    "data"
   ]
  },
  {
   "cell_type": "markdown",
   "metadata": {},
   "source": [
    "Next, we get ready for a SOM and carry out random initialization of the weight vectors. We randomly assign data vectors to initial weights. Note that Python's array assignment is in fact referencing, so to avoid changing the original data while changing the weights (later), we need to employ the copy() function. "
   ]
  },
  {
   "cell_type": "code",
   "execution_count": 6,
   "metadata": {
    "collapsed": true
   },
   "outputs": [],
   "source": [
    "# randomly init SOM weight vectors by copying random input vectors\n",
    "mapsize=16\n",
    "ninput=data.shape[0]\n",
    "w=data[np.random.randint(ninput)].copy() \n",
    "# randomly picks more data vectors, and vertically stack them under\n",
    "for i in range(mapsize*mapsize-1):\n",
    "    w=np.vstack((w,data[np.random.randint(ninput)].copy()))"
   ]
  },
  {
   "cell_type": "markdown",
   "metadata": {},
   "source": [
    "Now, the the weight array remains 1-D (with index 0..16$\\times$16-1), we need to arrange them onto to a $16\\times16$ grid so as to do SOM:"
   ]
  },
  {
   "cell_type": "code",
   "execution_count": 7,
   "metadata": {},
   "outputs": [
    {
     "data": {
      "text/plain": [
       "(16, 16, 3)"
      ]
     },
     "execution_count": 7,
     "metadata": {},
     "output_type": "execute_result"
    }
   ],
   "source": [
    "# reshape weight vectors so they map onto a 16x16 grid (now they are referred to as \"nodes\"). Check on the shape. \n",
    "nodes=w.reshape(mapsize,mapsize,-1).astype(float)\n",
    "nodes.shape"
   ]
  },
  {
   "cell_type": "markdown",
   "metadata": {},
   "source": [
    "We define two functions for SOM learning. The algorithm is simplified. "
   ]
  },
  {
   "cell_type": "code",
   "execution_count": 8,
   "metadata": {
    "collapsed": true
   },
   "outputs": [],
   "source": [
    "# Define two functions of the SOM algorithm\n",
    "def findBMU(x,nodes):\n",
    "    bmu=np.argmin(np.linalg.norm(nodes-x,axis=2))\n",
    "    return bmu/mapsize, bmu%mapsize\n",
    "\n",
    "def updateNodes(x, nodes, i, j, nei, gamma):\n",
    "    for m in range(-nei,nei+1):\n",
    "        for n in range(-nei,nei+1):\n",
    "            if (i+m)<0 or (i+m)>=mapsize: continue\n",
    "            if (j+n)<0 or (j+n)>=mapsize: continue\n",
    "            # update the node, and the neighbourhood, defined by a bubble function\n",
    "            nodes[i+m,j+n]+=gamma*(x-nodes[i+m,j+n])"
   ]
  },
  {
   "cell_type": "markdown",
   "metadata": {},
   "source": [
    "Now let the learning begin - the main code follows. Feel free to tune the parameter settings for possible improvement. "
   ]
  },
  {
   "cell_type": "code",
   "execution_count": 9,
   "metadata": {},
   "outputs": [
    {
     "name": "stdout",
     "output_type": "stream",
     "text": [
      "done\n"
     ]
    }
   ],
   "source": [
    "# Now the main program - train the map\n",
    "\"\"\"\n",
    "niters=6000  # number of total iterations\n",
    "neigh=4      # initial neighbour radius\n",
    "gamma=0.05   # initial learning rate\n",
    "\"\"\"\n",
    "\n",
    "niters=60000  # number of total iterations\n",
    "neigh=10    # initial neighbour radius\n",
    "gamma=0.5   # initial learning rate\n",
    "\n",
    "for t in range(niters):\n",
    "    # randomly pick a row from the \"data\" array for online training\n",
    "    x=data[np.random.randint(data.shape[0])]\n",
    "    i,j=findBMU(x,nodes)\n",
    "    updateNodes(x,nodes,i,j,neigh*(niters-t)/niters, gamma*(niters-t)/niters)\n",
    "    \n",
    "print (\"done\")"
   ]
  },
  {
   "cell_type": "markdown",
   "metadata": {},
   "source": [
    "**Task A1**. \n",
    "Question: Explain the SOM implementation given above. \n",
    "    - What neighbourhood function is used?\n",
    "    - How are the neighbourhood size and the learning rate adapted over time?\n",
    "\n",
    "\n",
    "\n",
    "Type in your answer below -\n",
    "\n",
    "Explaination:\n",
    "\n",
    "A bubble function is used as the neighbourhood function. \n",
    "\n",
    "The neighbourhood size and the learning rate both decreases over time as the number of iterations increase, stabilizing the result. \n",
    "\n"
   ]
  },
  {
   "cell_type": "markdown",
   "metadata": {},
   "source": [
    "**Task A2**. Display the learning outcome. \n",
    "\n",
    "Note the SOM weights are now a float array. Convert it into the 'uint8' type (8-bit unsigned integer) (so that matplotlib can render it properly). Then use the \"pl.imshow()\" function. "
   ]
  },
  {
   "cell_type": "code",
   "execution_count": 14,
   "metadata": {
    "scrolled": true
   },
   "outputs": [
    {
     "data": {
      "text/plain": [
       "<matplotlib.image.AxesImage at 0x115d4bf10>"
      ]
     },
     "execution_count": 14,
     "metadata": {},
     "output_type": "execute_result"
    },
    {
     "data": {
      "image/png": "[encoded data removed]",
      "text/plain": [
       "<matplotlib.figure.Figure at 0x1159414d0>"
      ]
     },
     "metadata": {},
     "output_type": "display_data"
    }
   ],
   "source": [
    "# Your code display the learned color map\n",
    "\n",
    "\n",
    "pl.imshow(nodes.astype(\"uint8\"),interpolation='nearest')\n",
    "\n"
   ]
  },
  {
   "cell_type": "markdown",
   "metadata": {},
   "source": [
    "If everything works well, we'll see an ordered color map displayed above. \n",
    "\n",
    "Now, let's take a look of the numerical quality of the learned map - how well does it quantize the original pixels?\n",
    "\n",
    "**Task A3.** Write a function to return the overall average quantization of a codebook, given the data array, and the nodes array of a SOM. Test it on the color map. "
   ]
  },
  {
   "cell_type": "code",
   "execution_count": 15,
   "metadata": {},
   "outputs": [
    {
     "name": "stdout",
     "output_type": "stream",
     "text": [
      "quantization erro:  27.0651218903\n"
     ]
    },
    {
     "data": {
      "image/png": "[encoded data removed]",
      "text/plain": [
       "<matplotlib.figure.Figure at 0x10bd91f90>"
      ]
     },
     "metadata": {},
     "output_type": "display_data"
    }
   ],
   "source": [
    "# your code for Task A3.\n",
    "\n",
    "# Function calculating quantization error.      \n",
    "def quant_error(dataIn, codebook):\n",
    "    total_difference = [] \n",
    "    for pixel in dataIn:\n",
    "        i,j=findBMU(pixel,nodes)\n",
    "        \n",
    "        code_book_entry = nodes[i][j]\n",
    "        error = np.linalg.norm(code_book_entry-pixel)\n",
    "        #print (\"Pixel:\", pixel, \" codebook entry: \", code_book_entry, \"error: \", error)\n",
    "        total_difference.append(error)\n",
    "    \n",
    "    total_error = sum(total_difference)\n",
    "    return total_error / len(dataIn) \n",
    "\n",
    "\n",
    "\n",
    "# Test function\n",
    "def test_SOM(niters,neigh,gamma):\n",
    "    for t in range(niters):\n",
    "        # randomly pick a row from the \"data\" array for online training\n",
    "        x=data[np.random.randint(data.shape[0])]\n",
    "        i,j=findBMU(x,nodes)\n",
    "        updateNodes(x,nodes,i,j,neigh*(niters-t)/niters, gamma*(niters-t)/niters)\n",
    "    pl.imshow(nodes.astype(\"uint8\"),interpolation='nearest')    \n",
    "    print \"quantization erro: \", quant_error(data,nodes)\n",
    "\n",
    "    \n",
    "#tesing code here\n",
    "\n",
    "niters=6000  # number of total iterations\n",
    "neigh=10    # initial neighbour radius\n",
    "gamma=0.5   # initial learning rate\n",
    "\n",
    "test_SOM(niters=niters,neigh=neigh,gamma=gamma)\n",
    "        \n",
    "    \n",
    "   \n",
    "\n",
    "    \n"
   ]
  },
  {
   "cell_type": "markdown",
   "metadata": {},
   "source": [
    "** Task A4. ** Try tuning the parameter scheme in the SOM code, and observe the effect on the generated colour map, as well as the quantization error. Report your findings. "
   ]
  },
  {
   "cell_type": "markdown",
   "metadata": {},
   "source": [
    "\n",
    "\n",
    "\n",
    "Observations:\n",
    "\n",
    "1. Smaller neighbourhood leads to smaller quantization error (as the clusters get smaller, values are less spread). However, it also leads to a loss of clustering effect when the value gets too small.\n",
    "\n",
    "\n",
    "2. Larger neighbourhood leads to better generalization of the input, while smaller neighbourhood gives less information about the correlation between the datapoints, in exchange for lower quantization error? \n",
    "\n",
    "3. Larger neighbourhood with high number of iteration and high initial gamma value leads to smoother quantization, and low quantization error.（I used the configuration of neigh=10,gamma=0.5,iter=600000, which result in quantization error of 17.8) This is more computationally expensive, however. \n",
    "\n",
    "\n",
    "..."
   ]
  },
  {
   "cell_type": "markdown",
   "metadata": {},
   "source": [
    "## B. Image segmentation"
   ]
  },
  {
   "cell_type": "markdown",
   "metadata": {},
   "source": [
    "For the 2nd part of the lab we will play with image segmentation as a practial application of clustering. The purpose of image segmentation is to extract homogeneous \"regions\" for further classification or shape analysis. Hence it is intended that each pixel is used as a data point.\n",
    "\n",
    "The large size of the dataset (with 500x300 rows of 3-D vectors) will cause some memory issue to the silhouette coefficient implementatoin in Sklearn, but this is overcome by using sampling as we'll see."
   ]
  },
  {
   "cell_type": "markdown",
   "metadata": {},
   "source": [
    "We employ the PIL package to read in an image. The \"pix\" array contains a RGB color vector for each pixel:"
   ]
  },
  {
   "cell_type": "code",
   "execution_count": 17,
   "metadata": {},
   "outputs": [
    {
     "ename": "IOError",
     "evalue": "[Errno 2] No such file or directory: 'africa.jpg'",
     "output_type": "error",
     "traceback": [
      "\u001b[0;31m---------------------------------------------------------------------------\u001b[0m",
      "\u001b[0;31mIOError\u001b[0m                                   Traceback (most recent call last)",
      "\u001b[0;32m<ipython-input-17-69e4a4729866>\u001b[0m in \u001b[0;36m<module>\u001b[0;34m()\u001b[0m\n\u001b[1;32m      1\u001b[0m \u001b[0;31m# Read the image into a pix array\u001b[0m\u001b[0;34m\u001b[0m\u001b[0;34m\u001b[0m\u001b[0m\n\u001b[1;32m      2\u001b[0m \u001b[0;32mfrom\u001b[0m \u001b[0mPIL\u001b[0m \u001b[0;32mimport\u001b[0m \u001b[0mImage\u001b[0m\u001b[0;34m\u001b[0m\u001b[0m\n\u001b[0;32m----> 3\u001b[0;31m \u001b[0mimg\u001b[0m\u001b[0;34m=\u001b[0m\u001b[0mImage\u001b[0m\u001b[0;34m.\u001b[0m\u001b[0mopen\u001b[0m\u001b[0;34m(\u001b[0m\u001b[0;34m\"africa.jpg\"\u001b[0m\u001b[0;34m)\u001b[0m\u001b[0;34m\u001b[0m\u001b[0m\n\u001b[0m\u001b[1;32m      4\u001b[0m \u001b[0mpix\u001b[0m\u001b[0;34m=\u001b[0m\u001b[0mnp\u001b[0m\u001b[0;34m.\u001b[0m\u001b[0marray\u001b[0m\u001b[0;34m(\u001b[0m\u001b[0mimg\u001b[0m\u001b[0;34m)\u001b[0m\u001b[0;34m[\u001b[0m\u001b[0;34m:\u001b[0m\u001b[0;34m,\u001b[0m\u001b[0;34m:\u001b[0m\u001b[0;34m,\u001b[0m\u001b[0;36m0\u001b[0m\u001b[0;34m:\u001b[0m\u001b[0;36m3\u001b[0m\u001b[0;34m]\u001b[0m\u001b[0;34m\u001b[0m\u001b[0m\n\u001b[1;32m      5\u001b[0m \u001b[0mpl\u001b[0m\u001b[0;34m.\u001b[0m\u001b[0mimshow\u001b[0m\u001b[0;34m(\u001b[0m\u001b[0mpix\u001b[0m\u001b[0;34m)\u001b[0m\u001b[0;34m\u001b[0m\u001b[0m\n",
      "\u001b[0;32m/Users/theFlame/anaconda3/envs/ipykernel_py2/lib/python2.7/site-packages/PIL/Image.pyc\u001b[0m in \u001b[0;36mopen\u001b[0;34m(fp, mode)\u001b[0m\n\u001b[1;32m   2280\u001b[0m \u001b[0;34m\u001b[0m\u001b[0m\n\u001b[1;32m   2281\u001b[0m     \u001b[0;32mif\u001b[0m \u001b[0mfilename\u001b[0m\u001b[0;34m:\u001b[0m\u001b[0;34m\u001b[0m\u001b[0m\n\u001b[0;32m-> 2282\u001b[0;31m         \u001b[0mfp\u001b[0m \u001b[0;34m=\u001b[0m \u001b[0mbuiltins\u001b[0m\u001b[0;34m.\u001b[0m\u001b[0mopen\u001b[0m\u001b[0;34m(\u001b[0m\u001b[0mfilename\u001b[0m\u001b[0;34m,\u001b[0m \u001b[0;34m\"rb\"\u001b[0m\u001b[0;34m)\u001b[0m\u001b[0;34m\u001b[0m\u001b[0m\n\u001b[0m\u001b[1;32m   2283\u001b[0m \u001b[0;34m\u001b[0m\u001b[0m\n\u001b[1;32m   2284\u001b[0m     \u001b[0;32mtry\u001b[0m\u001b[0;34m:\u001b[0m\u001b[0;34m\u001b[0m\u001b[0m\n",
      "\u001b[0;31mIOError\u001b[0m: [Errno 2] No such file or directory: 'africa.jpg'"
     ]
    }
   ],
   "source": [
    "# Read the image into a pix array\n",
    "from PIL import Image\n",
    "img=Image.open(\"africa.jpg\")\n",
    "pix=np.array(img)[:,:,0:3]\n",
    "pl.imshow(pix)"
   ]
  },
  {
   "cell_type": "markdown",
   "metadata": {
    "collapsed": true
   },
   "source": [
    "How many \"clusters\" should we try on this image? This depends on the visual or semantic granularity we use to assess the image. Let's run k-means with a range of cluster numbers and let the Silhouette Coefficients have a say on the quality of clustering. Please refer to Sklearn's <a href=\"http://scikit-learn.org/stable/modules/generated/sklearn.cluster.KMeans.html\">k-means page</a> for more information. "
   ]
  },
  {
   "cell_type": "code",
   "execution_count": null,
   "metadata": {
    "collapsed": true
   },
   "outputs": [],
   "source": [
    "from sklearn.cluster import KMeans    \n",
    "from sklearn import metrics"
   ]
  },
  {
   "cell_type": "code",
   "execution_count": null,
   "metadata": {},
   "outputs": [],
   "source": [
    "# reshape the pix array for clustering\n",
    "pix=pix.reshape((-1,3)).astype(float)\n",
    "print 'Plain k-means - k : silh. score'\n",
    "# loops through a few k's - takes a while to finish\n",
    "for k in range(2,10):\n",
    "    kmeans = KMeans(init='random', n_clusters=k, copy_x=False, n_init=10).fit(pix)\n",
    "    labels=kmeans.labels_\n",
    "    print k,':', metrics.silhouette_score(pix, labels, sample_size=3000, metric='euclidean')"
   ]
  },
  {
   "cell_type": "markdown",
   "metadata": {},
   "source": [
    "**Task B1**. How does the coefficients change when the number of clusters ($k$) increases? What do you think should be the best $k$?\n",
    "\n",
    "Initially, as the number of clusters (k) increases, the Silhouette Coefficient increases with it. This continues until the score peaks at around 5 clusters, then it declines. \n",
    "\n",
    "5 should be the best k value. \n",
    "\n",
    "- "
   ]
  },
  {
   "cell_type": "markdown",
   "metadata": {},
   "source": [
    "** Task B2**. Repeat the same process for k-means using k-means++ initialization. Report your findings."
   ]
  },
  {
   "cell_type": "code",
   "execution_count": null,
   "metadata": {},
   "outputs": [],
   "source": [
    "# your code ...\n",
    "\n",
    "# loops through a few k's - takes a while to finish\n",
    "for k in range(2,10):\n",
    "    kmeans = KMeans(init='k-means++', n_clusters=k, copy_x=False, n_init=10).fit(pix)\n",
    "    labels=kmeans.labels_\n",
    "    print k,':', metrics.silhouette_score(pix, labels, sample_size=3000, metric='euclidean')"
   ]
  },
  {
   "cell_type": "markdown",
   "metadata": {},
   "source": [
    "*Your comments* --\n",
    "\n",
    "I found that there is no significant difference between the s.score of k-means using k-means++ compared to that of random initialization. In some cases, random initialization performcne marginally better. \n",
    "\n",
    "\n",
    "- "
   ]
  },
  {
   "cell_type": "markdown",
   "metadata": {},
   "source": [
    "Now, pick a $k$ and conduct k-means clustering for multiple times to compare the initialization effects. We try with random initialization first, generating a boxplot of the silhouette coefficients. (This may take a while to run.)"
   ]
  },
  {
   "cell_type": "code",
   "execution_count": null,
   "metadata": {},
   "outputs": [],
   "source": [
    "# try a few k values and see the silhouette score ranges\n",
    "tt=10 # try 10 runs for each k\n",
    "k=5\n",
    "sscores=np.zeros((tt))\n",
    "\n",
    "\n",
    "for t in range(tt):\n",
    "    kmeans = KMeans(init='random', n_clusters=k, copy_x=False, n_init=1).fit(pix)\n",
    "    labels=kmeans.labels_\n",
    "    sscores[t]=metrics.silhouette_score(pix, labels, sample_size=3000, metric='euclidean')\n",
    "    print t, sscores[t]\n",
    "\n",
    "pl.boxplot(sscores)\n",
    "pl.xlabel('k')\n",
    "pl.ylabel('Silhouette coeff.')\n",
    "pl.title('Random init.')"
   ]
  },
  {
   "cell_type": "markdown",
   "metadata": {},
   "source": [
    "**Task B3**. Do the same using k-means++. "
   ]
  },
  {
   "cell_type": "code",
   "execution_count": null,
   "metadata": {},
   "outputs": [],
   "source": [
    "# your code ...\n",
    "\n",
    "\n",
    "tt=10 # try 10 runs for each k\n",
    "k=5\n",
    "sscores=np.zeros((tt))\n",
    "for t in range(tt):\n",
    "    kmeans = KMeans(init='k-means++', n_clusters=k, copy_x=False, n_init=1).fit(pix)\n",
    "    labels=kmeans.labels_\n",
    "    sscores[t]=metrics.silhouette_score(pix, labels, sample_size=3000, metric='euclidean')\n",
    "    print t, sscores[t]\n",
    "\n",
    "pl.boxplot(sscores)\n",
    "pl.xlabel('k')\n",
    "pl.ylabel('Silhouette coeff.')\n",
    "pl.title('k-means++.')"
   ]
  },
  {
   "cell_type": "markdown",
   "metadata": {},
   "source": [
    "**Compare** the s.c. boxplots.\n",
    "\n",
    "Your comments:\n",
    "\n",
    "\n",
    "\n",
    "\n",
    "S.score of random init for the same k value has a wider spread. K-means++ generates some outliers, but in general the results has a smaller spread. The median value fro K-means++ is also slightly higher than random initialization. \n",
    "\n",
    "\n",
    "\n",
    "\n",
    "\n",
    "- <font color=\"red\">**JD**: Better to show these two boxplots side by side. </font>"
   ]
  },
  {
   "cell_type": "markdown",
   "metadata": {},
   "source": [
    "## Extra"
   ]
  },
  {
   "cell_type": "markdown",
   "metadata": {},
   "source": [
    "We may wonder what the \"segmented\" image looks like. Complete the following code, so that the pixel values are replaced by the corresponding cluster centres' colour and displayed. "
   ]
  },
  {
   "cell_type": "code",
   "execution_count": 13,
   "metadata": {},
   "outputs": [
    {
     "ename": "NameError",
     "evalue": "name 'KMeans' is not defined",
     "output_type": "error",
     "traceback": [
      "\u001b[0;31m---------------------------------------------------------------------------\u001b[0m",
      "\u001b[0;31mNameError\u001b[0m                                 Traceback (most recent call last)",
      "\u001b[0;32m<ipython-input-13-36f559405d64>\u001b[0m in \u001b[0;36m<module>\u001b[0;34m()\u001b[0m\n\u001b[1;32m      1\u001b[0m \u001b[0;31m# visualization of segmentation result - assign cluster centre colours back to pixels\u001b[0m\u001b[0;34m\u001b[0m\u001b[0;34m\u001b[0m\u001b[0m\n\u001b[0;32m----> 2\u001b[0;31m \u001b[0mkmeans\u001b[0m \u001b[0;34m=\u001b[0m \u001b[0mKMeans\u001b[0m\u001b[0;34m(\u001b[0m\u001b[0minit\u001b[0m\u001b[0;34m=\u001b[0m\u001b[0;34m'random'\u001b[0m\u001b[0;34m,\u001b[0m \u001b[0mn_clusters\u001b[0m\u001b[0;34m=\u001b[0m\u001b[0;36m6\u001b[0m\u001b[0;34m)\u001b[0m\u001b[0;34m.\u001b[0m\u001b[0mfit\u001b[0m\u001b[0;34m(\u001b[0m\u001b[0mpix\u001b[0m\u001b[0;34m)\u001b[0m\u001b[0;34m\u001b[0m\u001b[0m\n\u001b[0m\u001b[1;32m      3\u001b[0m \u001b[0mlabels\u001b[0m\u001b[0;34m=\u001b[0m\u001b[0mkmeans\u001b[0m\u001b[0;34m.\u001b[0m\u001b[0mlabels_\u001b[0m\u001b[0;34m\u001b[0m\u001b[0m\n\u001b[1;32m      4\u001b[0m \u001b[0;34m\u001b[0m\u001b[0m\n\u001b[1;32m      5\u001b[0m \u001b[0;31m# create a pix2 with pixel colours replaced by prototypes (cluster centres)\u001b[0m\u001b[0;34m\u001b[0m\u001b[0;34m\u001b[0m\u001b[0m\n",
      "\u001b[0;31mNameError\u001b[0m: name 'KMeans' is not defined"
     ]
    }
   ],
   "source": [
    "# visualization of segmentation result - assign cluster centre colours back to pixels\n",
    "kmeans = KMeans(init='random', n_clusters=6).fit(pix)\n",
    "labels=kmeans.labels_\n",
    "\n",
    "# create a pix2 with pixel colours replaced by prototypes (cluster centres)\n",
    "\n",
    "\n",
    "def recreate_image(codebook, labels, w, h):\n",
    "    \"\"\"Recreate the (compressed) image from the code book & labels\n",
    "    source: http://scikit-learn.org/stable/auto_examples/cluster/plot_color_quantization.html\"\"\"\n",
    "    \n",
    "    d = codebook.shape[1]\n",
    "    image = np.zeros((w, h, d))\n",
    "    label_idx = 0\n",
    "    for i in range(w):\n",
    "        for j in range(h):\n",
    "            image[i][j] = codebook[labels[label_idx]].astype(uint8)\n",
    "            label_idx += 1\n",
    "    return image\n",
    "\n",
    "\n",
    "\n",
    "pix2=recreate_image(kmeans.cluster_centers_,labels,300,500)\n",
    "#pl.imshow(pix2.reshape((300,500,3)))\n",
    "pl.imshow(pix2)"
   ]
  },
  {
   "cell_type": "markdown",
   "metadata": {
    "collapsed": true
   },
   "source": [
    "End of Lab 3. "
   ]
  },
  {
   "cell_type": "markdown",
   "metadata": {
    "collapsed": true
   },
   "source": [
    "<p><font color=\"red\">**JD**: Colors are not quite right - cluster centres are of real values and need to be cast into unsigned integer. \n",
    "\n",
    "<p>Well done! \n",
    "Mark: **95%**</font>"
   ]
  },
  {
   "cell_type": "code",
   "execution_count": null,
   "metadata": {
    "collapsed": true
   },
   "outputs": [],
   "source": []
  }
 ],
 "metadata": {
  "kernelspec": {
   "display_name": "Python [default]",
   "language": "python",
   "name": "python2"
  },
  "language_info": {
   "codemirror_mode": {
    "name": "ipython",
    "version": 2
   },
   "file_extension": ".py",
   "mimetype": "text/x-python",
   "name": "python",
   "nbconvert_exporter": "python",
   "pygments_lexer": "ipython2",
   "version": "2.7.13"
  }
 },
 "nbformat": 4,
 "nbformat_minor": 1
}
