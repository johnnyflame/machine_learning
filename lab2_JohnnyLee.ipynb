{
 "cells": [
  {
   "cell_type": "markdown",
   "metadata": {},
   "source": [
    "# INFO411 Lab 2 - Clustering"
   ]
  },
  {
   "cell_type": "markdown",
   "metadata": {},
   "source": [
    "## Outline"
   ]
  },
  {
   "cell_type": "markdown",
   "metadata": {},
   "source": [
    "From our last lab we had our first encounter with Numpy, which is a handy tool for us to manipulate vectors and matrices. In this lab, we continue with the exploration of Numpy, and Pyplot (for visualization), but the main objectives are:\n",
    "- Gain more understanding of k-means, EM and DBSCAN by working on some simple data sets\n",
    "- Get started with Sklearn, a machine learning package"
   ]
  },
  {
   "cell_type": "markdown",
   "metadata": {},
   "source": [
    "## Part 1"
   ]
  },
  {
   "cell_type": "markdown",
   "metadata": {},
   "source": [
    "We begin with the simple k-means demo written in NumPy. As usual we import the packages:"
   ]
  },
  {
   "cell_type": "code",
   "execution_count": 1,
   "metadata": {
    "collapsed": true
   },
   "outputs": [],
   "source": [
    "import numpy as np"
   ]
  },
  {
   "cell_type": "raw",
   "metadata": {},
   "source": [
    "Now we generate two 1-D random data blobs using normal distributions, each with 100 points (what are the centre values?). Note the 'spread' for both Gaussians is 1. "
   ]
  },
  {
   "cell_type": "code",
   "execution_count": 2,
   "metadata": {
    "collapsed": true
   },
   "outputs": [],
   "source": [
    "d1 = np.random.randn(100)+2\n",
    "#d2 = np.random.randn(100)+8\n",
    "d2 = np.random.randn(100)*1.5+8"
   ]
  },
  {
   "cell_type": "markdown",
   "metadata": {},
   "source": [
    "Now show them up on the screen. Note that for better visibility the array index is used for the x-axis. "
   ]
  },
  {
   "cell_type": "code",
   "execution_count": 3,
   "metadata": {},
   "outputs": [
    {
     "data": {
      "text/plain": [
       "[<matplotlib.lines.Line2D at 0x109796210>]"
      ]
     },
     "execution_count": 3,
     "metadata": {},
     "output_type": "execute_result"
    },
    {
     "data": {
      "image/png": "[encoded data removed]",
      "text/plain": [
       "<matplotlib.figure.Figure at 0x1097748d0>"
      ]
     },
     "metadata": {},
     "output_type": "display_data"
    }
   ],
   "source": [
    "## import the plotting package; use inline display\n",
    "import matplotlib.pyplot as plt\n",
    "%matplotlib inline\n",
    "## plot two subsets using different markers\n",
    "plt.plot(d1,'g+')\n",
    "plt.plot(d2,'bx')"
   ]
  },
  {
   "cell_type": "markdown",
   "metadata": {},
   "source": [
    "Note for better visualization we \"expand\" the 1-D data for 2-D display using the array index for the x-axis.\n",
    "\n",
    "We then concatenate the two data clouds into one bigger array (with 200 points):"
   ]
  },
  {
   "cell_type": "code",
   "execution_count": 4,
   "metadata": {
    "collapsed": true
   },
   "outputs": [],
   "source": [
    "data=np.concatenate((d1,d2),axis=0)\n",
    "nrow=len(data)"
   ]
  },
  {
   "cell_type": "markdown",
   "metadata": {},
   "source": [
    "... and we shuffle the rows to get the data mixed up:"
   ]
  },
  {
   "cell_type": "code",
   "execution_count": 5,
   "metadata": {
    "collapsed": true
   },
   "outputs": [],
   "source": [
    "data=np.random.permutation(data)\n",
    "\n"
   ]
  },
  {
   "cell_type": "markdown",
   "metadata": {},
   "source": [
    "To do k-means clustering, now we randomly initialise the membership for Cluster 1 (and therefore for Cluster 2)"
   ]
  },
  {
   "cell_type": "code",
   "execution_count": 6,
   "metadata": {
    "collapsed": true
   },
   "outputs": [],
   "source": [
    "memb1=np.random.randint(0,2,nrow)\n",
    "memb2=1-memb1    # membership to Cluster 2"
   ]
  },
  {
   "cell_type": "markdown",
   "metadata": {},
   "source": [
    "Let the iterations begin: update centres; update membership; ... we run 20 iterations:"
   ]
  },
  {
   "cell_type": "code",
   "execution_count": 7,
   "metadata": {},
   "outputs": [
    {
     "name": "stdout",
     "output_type": "stream",
     "text": [
      "5.02459603555 5.11134302637\n",
      "1.91687028197 8.28886097625\n",
      "1.91687028197 8.28886097625\n",
      "1.91687028197 8.28886097625\n",
      "1.91687028197 8.28886097625\n",
      "1.91687028197 8.28886097625\n",
      "1.91687028197 8.28886097625\n",
      "1.91687028197 8.28886097625\n",
      "1.91687028197 8.28886097625\n",
      "1.91687028197 8.28886097625\n",
      "1.91687028197 8.28886097625\n",
      "1.91687028197 8.28886097625\n",
      "1.91687028197 8.28886097625\n",
      "1.91687028197 8.28886097625\n",
      "1.91687028197 8.28886097625\n",
      "1.91687028197 8.28886097625\n",
      "1.91687028197 8.28886097625\n",
      "1.91687028197 8.28886097625\n",
      "1.91687028197 8.28886097625\n",
      "1.91687028197 8.28886097625\n"
     ]
    }
   ],
   "source": [
    "## Iterate for a number of times and see if convergence is reached. \n",
    "## c1 and c2 are the two cluster centres. \n",
    "## This updates the centres, then membership, and loops around\n",
    "for it in range(20):\n",
    "    #update c1 and c2\n",
    "    c1=sum(data*memb1)/sum(memb1)\n",
    "    c2=sum(data*memb2)/sum(memb2)\n",
    "    \n",
    "    \n",
    "   # if distance to c1 is smaller it belongs to cluster 1, memb1=1; otherwise memb1=0\n",
    "    memb1=np.greater(np.abs(data-c2), np.abs(data-c1)).astype(int)\n",
    "    memb2=1-memb1\n",
    "    print c1,c2"
   ]
  },
  {
   "cell_type": "markdown",
   "metadata": {},
   "source": [
    "Now display the cluster centres:"
   ]
  },
  {
   "cell_type": "code",
   "execution_count": 8,
   "metadata": {},
   "outputs": [
    {
     "data": {
      "text/plain": [
       "[<matplotlib.lines.Line2D at 0x109936790>]"
      ]
     },
     "execution_count": 8,
     "metadata": {},
     "output_type": "execute_result"
    },
    {
     "data": {
      "image/png": "[encoded data removed]",
      "text/plain": [
       "<matplotlib.figure.Figure at 0x108573790>"
      ]
     },
     "metadata": {},
     "output_type": "display_data"
    }
   ],
   "source": [
    "## Display the cluster centers\n",
    "plt.plot(d1,'g+')\n",
    "plt.plot(d2,'bx')\n",
    "plt.plot(nrow/4,c1,'r^')\n",
    "plt.plot(nrow/4,c2,'r^')"
   ]
  },
  {
   "cell_type": "markdown",
   "metadata": {},
   "source": [
    "Does the algorithm seem to work? Why?\n",
    "\n",
    "Your Answer: It does, because the centres of the clusters are approximately in the middle of the cluster dimensions, and the membership appears to be correctly assigned. \n"
   ]
  },
  {
   "cell_type": "markdown",
   "metadata": {},
   "source": [
    "**Task A**. Suppose there is an outlier data point, data[80]=200. Insert it, repeat the experiement above and comment on the results."
   ]
  },
  {
   "cell_type": "code",
   "execution_count": 9,
   "metadata": {},
   "outputs": [
    {
     "name": "stdout",
     "output_type": "stream",
     "text": [
      "1.91687028197 10.2204969719\n",
      "2.10397082509 10.4511935238\n",
      "2.10397082509 10.4511935238\n",
      "2.10397082509 10.4511935238\n",
      "2.10397082509 10.4511935238\n",
      "2.10397082509 10.4511935238\n",
      "2.10397082509 10.4511935238\n",
      "2.10397082509 10.4511935238\n",
      "2.10397082509 10.4511935238\n",
      "2.10397082509 10.4511935238\n",
      "2.10397082509 10.4511935238\n",
      "2.10397082509 10.4511935238\n",
      "2.10397082509 10.4511935238\n",
      "2.10397082509 10.4511935238\n",
      "2.10397082509 10.4511935238\n",
      "2.10397082509 10.4511935238\n",
      "2.10397082509 10.4511935238\n",
      "2.10397082509 10.4511935238\n",
      "2.10397082509 10.4511935238\n",
      "2.10397082509 10.4511935238\n"
     ]
    },
    {
     "data": {
      "text/plain": [
       "[<matplotlib.lines.Line2D at 0x109bba790>]"
      ]
     },
     "execution_count": 9,
     "metadata": {},
     "output_type": "execute_result"
    },
    {
     "data": {
      "image/png": "[encoded data removed]",
      "text/plain": [
       "<matplotlib.figure.Figure at 0x10983f510>"
      ]
     },
     "metadata": {},
     "output_type": "display_data"
    }
   ],
   "source": [
    "# code for Task A ...\n",
    "\n",
    "# Introduce an outlier\n",
    "data[80] = 200\n",
    "\n",
    "\n",
    "\n",
    "# Repeat the iteration process\n",
    "for it in range(20):\n",
    "    c1=sum(data*memb1)/sum(memb1)\n",
    "    c2=sum(data*memb2)/sum(memb2)\n",
    "   # if distance to c1 is smaller it belongs to cluster 1, memb1=1; otherwise memb1=0\n",
    "    memb1=np.greater(np.abs(data-c2), np.abs(data-c1)).astype(int)\n",
    "    memb2=1-memb1\n",
    "    print c1,c2\n",
    "\n",
    "\n",
    "\n",
    "# Plot it out\n",
    "plt.plot(d1,'g+')\n",
    "plt.plot(d2,'bx')\n",
    "plt.plot(nrow/4,c1,'r^')\n",
    "plt.plot(nrow/4,c2,'r^')\n",
    "\n",
    "\n"
   ]
  },
  {
   "cell_type": "markdown",
   "metadata": {},
   "source": [
    "Your comments: \n",
    "\n",
    "Introducing this outlier made the result appear less stable. The membership is still correctly assigned, but the centroid is heavily affected by the introduction of an extreme outlier. \n",
    "\n",
    "This example demonstrates that a simple k-means clustering algorithm is not robust against outliers in the dataset.\n",
    "\n",
    "\n",
    "\n",
    "\n",
    "\n"
   ]
  },
  {
   "cell_type": "markdown",
   "metadata": {},
   "source": [
    "**Task A***. Use the fuzzy c-means scheme with r=2 to decide membership and repeat the experiment. Does it work better?"
   ]
  },
  {
   "cell_type": "code",
   "execution_count": 10,
   "metadata": {},
   "outputs": [
    {
     "name": "stdout",
     "output_type": "stream",
     "text": [
      "-2\n",
      "7.37956828559 4.85171259943\n",
      "7.86388829537 3.88880707144\n",
      "8.59804653442 3.38610800853\n",
      "9.00039461665 3.25993451378\n",
      "9.13404654582 3.2924320644\n",
      "9.15882660184 3.32582147422\n",
      "9.15679438495 3.3382842787\n",
      "9.15316997838 3.34054022079\n",
      "9.15168839152 3.34024247574\n",
      "9.15138964641 3.33985659473\n",
      "9.15141151109 3.33970814373\n",
      "9.15145441783 3.33968067645\n",
      "9.1514721564 3.33968401333\n",
      "9.15147578942 3.33968858013\n",
      "9.15147555543 3.33969035787\n",
      "9.15147504868 3.33969069282\n",
      "9.15147483653 3.33969065569\n",
      "9.15147479237 3.33969060167\n",
      "9.15147479484 3.33969058039\n",
      "9.15147480083 3.33969057631\n"
     ]
    },
    {
     "data": {
      "text/plain": [
       "[<matplotlib.lines.Line2D at 0x109d1bdd0>]"
      ]
     },
     "execution_count": 10,
     "metadata": {},
     "output_type": "execute_result"
    },
    {
     "data": {
      "image/png": "[encoded data removed]",
      "text/plain": [
       "<matplotlib.figure.Figure at 0x109b3a550>"
      ]
     },
     "metadata": {},
     "output_type": "display_data"
    }
   ],
   "source": [
    "# code for Task A* here... Run it.\n",
    "\n",
    "memb1=np.random.randint(0,2,nrow)\n",
    "memb2=1-memb1    # membership to Cluster 2\n",
    "\n",
    "r = 2\n",
    "exp = -2/(r-1)\n",
    "\n",
    "print (exp)\n",
    "\n",
    "for it in range(20):\n",
    "    c1=sum(data*memb1)/sum(memb1)\n",
    "    c2=sum(data*memb2)/sum(memb2)\n",
    "    \n",
    "    memb1_divisor = np.power(np.abs(data-c1),exp)\n",
    "    memb2_divisor = np.power(np.abs(data-c2),exp)\n",
    "    dividend = (np.power(np.abs(data-c1),exp)+ np.power(np.abs(data-c2),exp))\n",
    "    \n",
    "    memb1 = memb1_divisor / dividend\n",
    "    memb2 = memb2_divisor / dividend\n",
    "    \n",
    "   # print (\"dividend: \", dividend)\n",
    "                        \n",
    "    print c1,c2\n",
    "    \n",
    "    \n",
    "# Plot it out\n",
    "plt.plot(d1,'g+')\n",
    "plt.plot(d2,'bx')\n",
    "plt.plot(nrow/4,c1,'r^')\n",
    "plt.plot(nrow/4,c2,'r^')\n"
   ]
  },
  {
   "cell_type": "markdown",
   "metadata": {},
   "source": [
    "Comments on the outcome:\n",
    "\n",
    "The data points appear to have have correctly assigned membership (based on visualization). \n",
    "The centroid for the bottom cluster moves towards the top. \n",
    "\n"
   ]
  },
  {
   "cell_type": "markdown",
   "metadata": {},
   "source": [
    "## Part 2"
   ]
  },
  {
   "cell_type": "markdown",
   "metadata": {},
   "source": [
    "We can extend the code and do the clustering using EM instead. Let's cleanse the outlier out first."
   ]
  },
  {
   "cell_type": "code",
   "execution_count": 11,
   "metadata": {
    "collapsed": true
   },
   "outputs": [],
   "source": [
    "data[80]=np.random.randn()+2"
   ]
  },
  {
   "cell_type": "code",
   "execution_count": 12,
   "metadata": {
    "collapsed": true
   },
   "outputs": [],
   "source": [
    "## Try EM (simplified)\n",
    "## Random initialization again. Alternatively, k-means can be used.\n",
    "#memb1=np.random.randint(0,2,nrow)\n",
    "#memb2=1-memb1\n",
    "\n"
   ]
  },
  {
   "cell_type": "markdown",
   "metadata": {},
   "source": [
    "The following gives the iterations of a simplified EM process. First the two centres are updated using weighted average of members, then the variations. The memberships are then tuned as $e^-\\frac{(x-c)^2}{2s}$ and then normalized. This continues and after a number of iterations the outcome stablizes."
   ]
  },
  {
   "cell_type": "code",
   "execution_count": 14,
   "metadata": {},
   "outputs": [
    {
     "name": "stdout",
     "output_type": "stream",
     "text": [
      "it= 0 : 8.23597397105 / 1.25649459596 || 1.84453038933 / 1.01580569032\n",
      "it= 1 : 8.23597397105 / 1.25649459596 || 1.84453038933 / 1.01580569032\n",
      "it= 2 : 8.23597397105 / 1.25649459596 || 1.84453038933 / 1.01580569032\n",
      "it= 3 : 8.23597397105 / 1.25649459596 || 1.84453038933 / 1.01580569032\n",
      "it= 4 : 8.23597397105 / 1.25649459596 || 1.84453038933 / 1.01580569032\n",
      "it= 5 : 8.23597397105 / 1.25649459596 || 1.84453038933 / 1.01580569032\n",
      "it= 6 : 8.23597397105 / 1.25649459596 || 1.84453038933 / 1.01580569032\n",
      "it= 7 : 8.23597397105 / 1.25649459596 || 1.84453038933 / 1.01580569032\n",
      "it= 8 : 8.23597397105 / 1.25649459596 || 1.84453038933 / 1.01580569032\n",
      "it= 9 : 8.23597397105 / 1.25649459596 || 1.84453038933 / 1.01580569032\n",
      "it= 10 : 8.23597397105 / 1.25649459596 || 1.84453038933 / 1.01580569032\n",
      "it= 11 : 8.23597397105 / 1.25649459596 || 1.84453038933 / 1.01580569032\n",
      "it= 12 : 8.23597397105 / 1.25649459596 || 1.84453038933 / 1.01580569032\n",
      "it= 13 : 8.23597397105 / 1.25649459596 || 1.84453038933 / 1.01580569032\n",
      "it= 14 : 8.23597397105 / 1.25649459596 || 1.84453038933 / 1.01580569032\n",
      "it= 15 : 8.23597397105 / 1.25649459596 || 1.84453038933 / 1.01580569032\n",
      "it= 16 : 8.23597397105 / 1.25649459596 || 1.84453038933 / 1.01580569032\n",
      "it= 17 : 8.23597397105 / 1.25649459596 || 1.84453038933 / 1.01580569032\n",
      "it= 18 : 8.23597397105 / 1.25649459596 || 1.84453038933 / 1.01580569032\n",
      "it= 19 : 8.23597397105 / 1.25649459596 || 1.84453038933 / 1.01580569032\n",
      "it= 20 : 8.23597397105 / 1.25649459596 || 1.84453038933 / 1.01580569032\n",
      "it= 21 : 8.23597397105 / 1.25649459596 || 1.84453038933 / 1.01580569032\n",
      "it= 22 : 8.23597397105 / 1.25649459596 || 1.84453038933 / 1.01580569032\n",
      "it= 23 : 8.23597397105 / 1.25649459596 || 1.84453038933 / 1.01580569032\n",
      "it= 24 : 8.23597397105 / 1.25649459596 || 1.84453038933 / 1.01580569032\n",
      "it= 25 : 8.23597397105 / 1.25649459596 || 1.84453038933 / 1.01580569032\n",
      "it= 26 : 8.23597397105 / 1.25649459596 || 1.84453038933 / 1.01580569032\n",
      "it= 27 : 8.23597397105 / 1.25649459596 || 1.84453038933 / 1.01580569032\n",
      "it= 28 : 8.23597397105 / 1.25649459596 || 1.84453038933 / 1.01580569032\n",
      "it= 29 : 8.23597397105 / 1.25649459596 || 1.84453038933 / 1.01580569032\n",
      "it= 30 : 8.23597397105 / 1.25649459596 || 1.84453038933 / 1.01580569032\n",
      "it= 31 : 8.23597397105 / 1.25649459596 || 1.84453038933 / 1.01580569032\n",
      "it= 32 : 8.23597397105 / 1.25649459596 || 1.84453038933 / 1.01580569032\n",
      "it= 33 : 8.23597397105 / 1.25649459596 || 1.84453038933 / 1.01580569032\n",
      "it= 34 : 8.23597397105 / 1.25649459596 || 1.84453038933 / 1.01580569032\n",
      "it= 35 : 8.23597397105 / 1.25649459596 || 1.84453038933 / 1.01580569032\n",
      "it= 36 : 8.23597397105 / 1.25649459596 || 1.84453038933 / 1.01580569032\n",
      "it= 37 : 8.23597397105 / 1.25649459596 || 1.84453038933 / 1.01580569032\n",
      "it= 38 : 8.23597397105 / 1.25649459596 || 1.84453038933 / 1.01580569032\n",
      "it= 39 : 8.23597397105 / 1.25649459596 || 1.84453038933 / 1.01580569032\n",
      "it= 40 : 8.23597397105 / 1.25649459596 || 1.84453038933 / 1.01580569032\n",
      "it= 41 : 8.23597397105 / 1.25649459596 || 1.84453038933 / 1.01580569032\n",
      "it= 42 : 8.23597397105 / 1.25649459596 || 1.84453038933 / 1.01580569032\n",
      "it= 43 : 8.23597397105 / 1.25649459596 || 1.84453038933 / 1.01580569032\n",
      "it= 44 : 8.23597397105 / 1.25649459596 || 1.84453038933 / 1.01580569032\n",
      "it= 45 : 8.23597397105 / 1.25649459596 || 1.84453038933 / 1.01580569032\n",
      "it= 46 : 8.23597397105 / 1.25649459596 || 1.84453038933 / 1.01580569032\n",
      "it= 47 : 8.23597397105 / 1.25649459596 || 1.84453038933 / 1.01580569032\n",
      "it= 48 : 8.23597397105 / 1.25649459596 || 1.84453038933 / 1.01580569032\n",
      "it= 49 : 8.23597397105 / 1.25649459596 || 1.84453038933 / 1.01580569032\n"
     ]
    },
    {
     "data": {
      "text/plain": [
       "[<matplotlib.lines.Line2D at 0x10a016b50>]"
      ]
     },
     "execution_count": 14,
     "metadata": {},
     "output_type": "execute_result"
    },
    {
     "data": {
      "image/png": "[encoded data removed]",
      "text/plain": [
       "<matplotlib.figure.Figure at 0x109942890>"
      ]
     },
     "metadata": {},
     "output_type": "display_data"
    }
   ],
   "source": [
    "## now the iterations\n",
    "for it in range(50):\n",
    "    # update centres\n",
    "    c1=sum(memb1*data)/sum(memb1)\n",
    "    c2=sum(memb2*data)/sum(memb2)\n",
    "    # update 'spread' - the variations\n",
    "    s1=sum(memb1*(data-c1)**2)/sum(memb1)\n",
    "    s2=sum(memb2*(data-c2)**2)/sum(memb2)\n",
    "    # print the center and std\n",
    "    print 'it=',it,':', c1,'/',np.sqrt(s1),'||',c2,'/',np.sqrt(s2)\n",
    "    # re-calculate memberships using the center and std values\n",
    "    memb1=np.exp(-(data-c1)**2/s1/2)\n",
    "    memb2=np.exp(-(data-c2)**2/s2/2)\n",
    "    # normalise\n",
    "    memb1/=(memb1+memb2)\n",
    "    memb2/=(memb1+memb2)\n",
    "    \n",
    "    \n",
    "# Plot it out\n",
    "plt.plot(d1,'g+')\n",
    "plt.plot(d2,'bx')\n",
    "plt.plot(nrow/4,c1,'r^')\n",
    "plt.plot(nrow/4,c2,'r^')"
   ]
  },
  {
   "cell_type": "markdown",
   "metadata": {},
   "source": [
    "Run the code above a couple of times, and see whether it manages to calculate the centres and the spreads of the two Gaussians. Are the clusters correctly located?\n",
    "\n",
    "\n",
    "** Task B. **\n",
    "Now, let us take a look whether EM can model data \"clouds\" of different sizes. For this, comment off the random initialization again. Find the line with 'd2' assignment, and modify it into \"d2 = np.random.randn(100)*1.5+8\". This means the second cloud has now a bigger spread (stdev=1.5). Run the code to this line, and note what the result tells you about the Gaussian centres and their spreads. If the result is not quite right, try a few more runs.\n",
    "\n",
    "Then, reuse the code in Part A and conduct k-means clustering to *initialize* the cluster centers and then carry on with EM. Does this work better? "
   ]
  },
  {
   "cell_type": "code",
   "execution_count": 15,
   "metadata": {},
   "outputs": [
    {
     "name": "stdout",
     "output_type": "stream",
     "text": [
      "it= 0 : 8.28397143081 / 1.19576790167 || 1.91372204321 / 1.09380144643\n",
      "it= 1 : 8.26038809496 / 1.22643238221 || 1.85797844733 / 1.02858527889\n",
      "it= 2 : 8.24377865799 / 1.24660688955 || 1.84913705073 / 1.01969343333\n",
      "it= 3 : 8.23848403846 / 1.25329199333 || 1.84611037066 / 1.0171170226\n",
      "it= 4 : 8.2367974125 / 1.25544232617 || 1.8450598176 / 1.01624365392\n",
      "it= 5 : 8.23624594744 / 1.25614687415 || 1.84470646626 / 1.01595120376\n",
      "it= 6 : 8.23606400324 / 1.25637947172 || 1.84458880855 / 1.01585395342\n",
      "it= 7 : 8.2360037963 / 1.25645645639 || 1.8445497566 / 1.01582168888\n",
      "it= 8 : 8.23598385376 / 1.25648195805 || 1.84453680835 / 1.01581099263\n",
      "it= 9 : 8.23597724599 / 1.25649040798 || 1.84453251664 / 1.01580744753\n",
      "it= 10 : 8.23597505633 / 1.2564932081 || 1.84453109432 / 1.01580627265\n",
      "it= 11 : 8.2359743307 / 1.25649413603 || 1.84453062296 / 1.0158058833\n",
      "it= 12 : 8.23597409023 / 1.25649444354 || 1.84453046675 / 1.01580575427\n",
      "it= 13 : 8.23597401054 / 1.25649454545 || 1.84453041499 / 1.01580571151\n",
      "it= 14 : 8.23597398413 / 1.25649457922 || 1.84453039783 / 1.01580569734\n",
      "it= 15 : 8.23597397538 / 1.25649459041 || 1.84453039215 / 1.01580569264\n",
      "it= 16 : 8.23597397248 / 1.25649459412 || 1.84453039026 / 1.01580569109\n",
      "it= 17 : 8.23597397152 / 1.25649459535 || 1.84453038964 / 1.01580569057\n",
      "it= 18 : 8.2359739712 / 1.25649459576 || 1.84453038943 / 1.0158056904\n",
      "it= 19 : 8.2359739711 / 1.25649459589 || 1.84453038936 / 1.01580569034\n",
      "it= 20 : 8.23597397106 / 1.25649459594 || 1.84453038934 / 1.01580569033\n",
      "it= 21 : 8.23597397105 / 1.25649459595 || 1.84453038933 / 1.01580569032\n",
      "it= 22 : 8.23597397105 / 1.25649459596 || 1.84453038933 / 1.01580569032\n",
      "it= 23 : 8.23597397105 / 1.25649459596 || 1.84453038933 / 1.01580569032\n",
      "it= 24 : 8.23597397105 / 1.25649459596 || 1.84453038933 / 1.01580569032\n",
      "it= 25 : 8.23597397105 / 1.25649459596 || 1.84453038933 / 1.01580569032\n",
      "it= 26 : 8.23597397105 / 1.25649459596 || 1.84453038933 / 1.01580569032\n",
      "it= 27 : 8.23597397105 / 1.25649459596 || 1.84453038933 / 1.01580569032\n",
      "it= 28 : 8.23597397105 / 1.25649459596 || 1.84453038933 / 1.01580569032\n",
      "it= 29 : 8.23597397105 / 1.25649459596 || 1.84453038933 / 1.01580569032\n",
      "it= 30 : 8.23597397105 / 1.25649459596 || 1.84453038933 / 1.01580569032\n",
      "it= 31 : 8.23597397105 / 1.25649459596 || 1.84453038933 / 1.01580569032\n",
      "it= 32 : 8.23597397105 / 1.25649459596 || 1.84453038933 / 1.01580569032\n",
      "it= 33 : 8.23597397105 / 1.25649459596 || 1.84453038933 / 1.01580569032\n",
      "it= 34 : 8.23597397105 / 1.25649459596 || 1.84453038933 / 1.01580569032\n",
      "it= 35 : 8.23597397105 / 1.25649459596 || 1.84453038933 / 1.01580569032\n",
      "it= 36 : 8.23597397105 / 1.25649459596 || 1.84453038933 / 1.01580569032\n",
      "it= 37 : 8.23597397105 / 1.25649459596 || 1.84453038933 / 1.01580569032\n",
      "it= 38 : 8.23597397105 / 1.25649459596 || 1.84453038933 / 1.01580569032\n",
      "it= 39 : 8.23597397105 / 1.25649459596 || 1.84453038933 / 1.01580569032\n",
      "it= 40 : 8.23597397105 / 1.25649459596 || 1.84453038933 / 1.01580569032\n",
      "it= 41 : 8.23597397105 / 1.25649459596 || 1.84453038933 / 1.01580569032\n",
      "it= 42 : 8.23597397105 / 1.25649459596 || 1.84453038933 / 1.01580569032\n",
      "it= 43 : 8.23597397105 / 1.25649459596 || 1.84453038933 / 1.01580569032\n",
      "it= 44 : 8.23597397105 / 1.25649459596 || 1.84453038933 / 1.01580569032\n",
      "it= 45 : 8.23597397105 / 1.25649459596 || 1.84453038933 / 1.01580569032\n",
      "it= 46 : 8.23597397105 / 1.25649459596 || 1.84453038933 / 1.01580569032\n",
      "it= 47 : 8.23597397105 / 1.25649459596 || 1.84453038933 / 1.01580569032\n",
      "it= 48 : 8.23597397105 / 1.25649459596 || 1.84453038933 / 1.01580569032\n",
      "it= 49 : 8.23597397105 / 1.25649459596 || 1.84453038933 / 1.01580569032\n"
     ]
    },
    {
     "data": {
      "text/plain": [
       "[<matplotlib.lines.Line2D at 0x10a17b7d0>]"
      ]
     },
     "execution_count": 15,
     "metadata": {},
     "output_type": "execute_result"
    },
    {
     "data": {
      "image/png": "[encoded data removed]",
      "text/plain": [
       "<matplotlib.figure.Figure at 0x1098b6910>"
      ]
     },
     "metadata": {},
     "output_type": "display_data"
    }
   ],
   "source": [
    "## your code for Task B\n",
    "\n",
    "\n",
    "# Using K-mean to initialize the cluster centers\n",
    "for it in range(50):\n",
    "    c1=sum(data*memb1)/sum(memb1)\n",
    "    c2=sum(data*memb2)/sum(memb2)\n",
    "   # if distance to c1 is smaller it belongs to cluster 1, memb1=1; otherwise memb1=0\n",
    "    memb1=np.greater(np.abs(data-c2), np.abs(data-c1)).astype(int)\n",
    "    memb2=1-memb1\n",
    "    #print c1,c2\n",
    "\n",
    "\n",
    "for it in range(50):\n",
    "    # update centres\n",
    "    c1=sum(memb1*data)/sum(memb1)\n",
    "    c2=sum(memb2*data)/sum(memb2)\n",
    "    # update 'spread' - the variations\n",
    "    s1=sum(memb1*(data-c1)**2)/sum(memb1)\n",
    "    s2=sum(memb2*(data-c2)**2)/sum(memb2)\n",
    "    # print the center and std\n",
    "    print 'it=',it,':', c1,'/',np.sqrt(s1),'||',c2,'/',np.sqrt(s2)\n",
    "    # re-calculate memberships using the center and std values\n",
    "    memb1=np.exp(-(data-c1)**2/s1/2)\n",
    "    memb2=np.exp(-(data-c2)**2/s2/2)\n",
    "    # normalise\n",
    "    memb1/=(memb1+memb2)\n",
    "    memb2/=(memb1+memb2)\n",
    "    \n",
    "    \n",
    "# Plot it out\n",
    "plt.plot(d1,'g+')\n",
    "plt.plot(d2,'bx')\n",
    "plt.plot(nrow/4,c1,'r^')\n",
    "plt.plot(nrow/4,c2,'r^')\n",
    "\n",
    "\n",
    "\n",
    "\n"
   ]
  },
  {
   "cell_type": "markdown",
   "metadata": {},
   "source": [
    "Your comments: ...\n",
    "\n",
    "Using K-means as an initialization step, the results are more stable. The clusters are correctly formed and the centroids are located at the centre of each cluster. \n",
    "\n",
    "The stdev of the clusters is approximated with reasonable accuracy. "
   ]
  },
  {
   "cell_type": "markdown",
   "metadata": {},
   "source": [
    "## Part 3"
   ]
  },
  {
   "cell_type": "markdown",
   "metadata": {},
   "source": [
    "So far we have been working on 1-D data points. Let's add another dimension so that they can be properly displayed on the screen. The following k-means code, is good for general-purpose clustering - note there are quite a few changes made to the previous code, mainly to deal with arrays of higher dimensionality. The algorithm is simplified, without looking at stdev of the clusters. "
   ]
  },
  {
   "cell_type": "code",
   "execution_count": 16,
   "metadata": {},
   "outputs": [
    {
     "data": {
      "image/png": "[encoded data removed]",
      "text/plain": [
       "<matplotlib.figure.Figure at 0x109bd7f50>"
      ]
     },
     "metadata": {},
     "output_type": "display_data"
    }
   ],
   "source": [
    "## generate two random data 'clouds' around [2,2] and [8,8], each with 100 points\n",
    "d1 = np.random.randn(100,2)+2\n",
    "d2 = np.random.randn(100,2)+5\n",
    "## show them up on the screen. \n",
    "plt.plot(d1[:,0],d1[:,1],'g+')\n",
    "plt.plot(d2[:,0],d2[:,1],'bx')\n",
    "plt.grid(b=True)"
   ]
  },
  {
   "cell_type": "markdown",
   "metadata": {},
   "source": [
    "Again, stack the two sets and shuffle it so it doesn't have any particular order."
   ]
  },
  {
   "cell_type": "code",
   "execution_count": 17,
   "metadata": {
    "collapsed": true
   },
   "outputs": [],
   "source": [
    "## mix two data clouds into one array (200 points)\n",
    "data=np.vstack((d1,d2))\n",
    "data=np.random.permutation(data)\n",
    "nrow,ncol=data.shape"
   ]
  },
  {
   "cell_type": "markdown",
   "metadata": {},
   "source": [
    "We then define a random initialization function:"
   ]
  },
  {
   "cell_type": "code",
   "execution_count": 18,
   "metadata": {
    "collapsed": true
   },
   "outputs": [],
   "source": [
    "def randInitWithData(data, k):\n",
    "    nrow,dim=data.shape\n",
    "    centres=np.zeros((k,dim))\n",
    "    for i in range(k):\n",
    "        centres[i]=data[np.random.randint(nrow)].copy()\n",
    "    return centres"
   ]
  },
  {
   "cell_type": "markdown",
   "metadata": {},
   "source": [
    "and test the function out with k=2:"
   ]
  },
  {
   "cell_type": "code",
   "execution_count": 19,
   "metadata": {
    "collapsed": true
   },
   "outputs": [],
   "source": [
    "centres=randInitWithData(data,k=2)"
   ]
  },
  {
   "cell_type": "code",
   "execution_count": 20,
   "metadata": {},
   "outputs": [
    {
     "name": "stdout",
     "output_type": "stream",
     "text": [
      "[[ 6.81110098  4.53963594]\n",
      " [ 5.42601514  4.7247683 ]]\n"
     ]
    }
   ],
   "source": [
    "print centres      # Where are the initial centres?"
   ]
  },
  {
   "cell_type": "markdown",
   "metadata": {},
   "source": [
    "Now we define a function for going through an iteration of finding membership and update centres:"
   ]
  },
  {
   "cell_type": "code",
   "execution_count": 21,
   "metadata": {
    "collapsed": true
   },
   "outputs": [],
   "source": [
    "def iterate(centres,data):\n",
    "    k,dim=centres.shape\n",
    "    nrow,dim=data.shape\n",
    "    ## Compute distances between centres and data points. \n",
    "    ## Start with the first centre and then stack the rest vertically\n",
    "    distances = np.sum((data-centres[0,:])**2,axis=1)\n",
    "    for j in range(k-1):\n",
    "        distances = np.vstack((distances, np.sum((data-centres[j+1,:])**2,axis=1)))\n",
    "        ## 'distances' is a 2D array: row for centres, column for data items\n",
    "        ## Identify the closest cluster for each data item\n",
    "        cluster = distances.argmin(axis=0)\n",
    "        ## Turn it into a single-column array\n",
    "        cluster = cluster.reshape((nrow,1))\n",
    "        ## Update the cluster centres as the mean of data items that are closest to them\n",
    "        for j in range(k):\n",
    "            thisCluster = np.where(cluster==j,1,0)      # decide membership\n",
    "            if np.sum(thisCluster)>0:\n",
    "                centres[j,:] = np.sum(data*thisCluster,axis=0)/np.sum(thisCluster)\n",
    "    return centres.copy()"
   ]
  },
  {
   "cell_type": "code",
   "execution_count": 22,
   "metadata": {
    "collapsed": true
   },
   "outputs": [],
   "source": [
    "oldcentres=centres.copy()      # keep track of the old centres "
   ]
  },
  {
   "cell_type": "markdown",
   "metadata": {},
   "source": [
    "Now we call iteratre() a number of times and see if it converges:"
   ]
  },
  {
   "cell_type": "code",
   "execution_count": 23,
   "metadata": {},
   "outputs": [
    {
     "name": "stdout",
     "output_type": "stream",
     "text": [
      "[[ 6.53695608  4.55743023]\n",
      " [ 3.38561727  3.44144496]]\n",
      "3.61566039877\n",
      "[[ 5.54586649  5.0885745 ]\n",
      " [ 2.55800847  2.7039875 ]]\n",
      "3.08730011813\n",
      "[[ 5.06709003  5.05689007]\n",
      " [ 2.16680325  2.06830176]]\n",
      "1.53735185358\n",
      "[[ 5.03664694  5.00324413]\n",
      " [ 2.11049638  2.03211546]]\n",
      "0.176582211425\n"
     ]
    }
   ],
   "source": [
    "\n",
    "# Modified so it will run until the cost is sufficiently low.\n",
    "while(True):\n",
    "    centres=iterate(centres,data)\n",
    "    cost = np.sum(np.abs(centres-oldcentres)) # calculate difference\n",
    "    \n",
    "    if cost < 0.0001:\n",
    "        break\n",
    "    \n",
    "    print centres\n",
    "    print cost\n",
    "      \n",
    "    oldcentres=centres.copy()"
   ]
  },
  {
   "cell_type": "markdown",
   "metadata": {},
   "source": [
    "Run the code. Do you think it manages to locate the cluster centers in the right places? \n",
    "\n",
    "You may want to write a few functions for the above k-means code to automatically stop iterations once convergence is reached.\n",
    "\n",
    "Let's show them up on the screen again:"
   ]
  },
  {
   "cell_type": "code",
   "execution_count": 24,
   "metadata": {},
   "outputs": [
    {
     "data": {
      "text/plain": [
       "[<matplotlib.lines.Line2D at 0x1098b68d0>]"
      ]
     },
     "execution_count": 24,
     "metadata": {},
     "output_type": "execute_result"
    },
    {
     "data": {
      "image/png": "[encoded data removed]",
      "text/plain": [
       "<matplotlib.figure.Figure at 0x109b45290>"
      ]
     },
     "metadata": {},
     "output_type": "display_data"
    }
   ],
   "source": [
    "## show them up on the screen. \n",
    "plt.plot(d1[:,0],d1[:,1],'g+')\n",
    "plt.plot(d2[:,0],d2[:,1],'bx')\n",
    "plt.plot(centres[:,0],centres[:,1],'ro')"
   ]
  },
  {
   "cell_type": "markdown",
   "metadata": {},
   "source": [
    "## Part 4"
   ]
  },
  {
   "cell_type": "markdown",
   "metadata": {},
   "source": [
    "Let's experiment with another clustering algoithm and take a quick look of clustering evaluation. For this we turn to Scikit.learn, a package specialised for Machine Learning. First, some necessary imports:"
   ]
  },
  {
   "cell_type": "markdown",
   "metadata": {},
   "source": [
    "### DBSCAN"
   ]
  },
  {
   "cell_type": "code",
   "execution_count": 24,
   "metadata": {
    "collapsed": true
   },
   "outputs": [],
   "source": [
    "import numpy as np\n",
    "from sklearn.cluster import DBSCAN\n",
    "from sklearn.cluster import KMeans\n",
    "from sklearn import metrics\n",
    "from sklearn.datasets.samples_generator import make_blobs\n",
    "from sklearn.preprocessing import StandardScaler"
   ]
  },
  {
   "cell_type": "markdown",
   "metadata": {},
   "source": [
    "We use sklearn's data generators to make three blobs:"
   ]
  },
  {
   "cell_type": "code",
   "execution_count": 25,
   "metadata": {
    "collapsed": true
   },
   "outputs": [],
   "source": [
    "centers = [[1, 1], [-1, -1], [1, -1]]\n",
    "X, labels_true = make_blobs(n_samples=750, centers=centers, cluster_std=0.4,\n",
    "                            random_state=0)\n",
    "X = StandardScaler().fit_transform(X)"
   ]
  },
  {
   "cell_type": "markdown",
   "metadata": {},
   "source": [
    "Suppose we set Eps to 0.3, and the minimum number of neighbours needed for a data point to become core points is 10. The following cluster the dataset using DBSCAN, predict cluster labels for all data points, and mark out core points:"
   ]
  },
  {
   "cell_type": "code",
   "execution_count": 26,
   "metadata": {
    "collapsed": true
   },
   "outputs": [],
   "source": [
    "db = DBSCAN(eps=0.3, min_samples=10).fit(X)\n",
    "labels = db.labels_\n",
    "core_samples_mask = np.zeros_like(db.labels_, dtype=bool)\n",
    "core_samples_mask[db.core_sample_indices_] = True"
   ]
  },
  {
   "cell_type": "markdown",
   "metadata": {},
   "source": [
    "The <code>fit()</code> function will learn from the data, and label all data points. Note  DBSCAN will mark out core points, border points, and noise points. Noise points are not clustered, so in sklearn's implementation it takes a label of -1 (while others take 0, 1, ...). The number of clusters can be found by:"
   ]
  },
  {
   "cell_type": "code",
   "execution_count": 27,
   "metadata": {},
   "outputs": [
    {
     "name": "stdout",
     "output_type": "stream",
     "text": [
      "Estimated number of clusters: 3\n"
     ]
    }
   ],
   "source": [
    "# Number of clusters in labels, ignoring noise if present.\n",
    "n_clusters_ = len(set(labels)) - (1 if -1 in labels else 0)\n",
    "print('Estimated number of clusters: %d' % n_clusters_)\n",
    "\n",
    "\n",
    "\n"
   ]
  },
  {
   "cell_type": "markdown",
   "metadata": {},
   "source": [
    "### Visualization"
   ]
  },
  {
   "cell_type": "markdown",
   "metadata": {},
   "source": [
    "Using the learning outcome, we can visualize the clustering results. The following code colours the data points according to their cluster IDs, with core points displayed by large markers. Noisy points are displayed in black:"
   ]
  },
  {
   "cell_type": "code",
   "execution_count": 29,
   "metadata": {},
   "outputs": [
    {
     "ename": "ValueError",
     "evalue": "The truth value of an array with more than one element is ambiguous. Use a.any() or a.all()",
     "output_type": "error",
     "traceback": [
      "\u001b[0;31m---------------------------------------------------------------------------\u001b[0m",
      "\u001b[0;31mValueError\u001b[0m                                Traceback (most recent call last)",
      "\u001b[0;32m<ipython-input-29-fcca93bac13d>\u001b[0m in \u001b[0;36m<module>\u001b[0;34m()\u001b[0m\n\u001b[1;32m     15\u001b[0m \u001b[0;34m\u001b[0m\u001b[0m\n\u001b[1;32m     16\u001b[0m     plt.plot(xy[:, 0], xy[:, 1], 'o', markerfacecolor=col,\n\u001b[0;32m---> 17\u001b[0;31m              markeredgecolor='k', markersize=14)\n\u001b[0m\u001b[1;32m     18\u001b[0m     \u001b[0;31m# non-core points\u001b[0m\u001b[0;34m\u001b[0m\u001b[0;34m\u001b[0m\u001b[0m\n\u001b[1;32m     19\u001b[0m     \u001b[0mxy\u001b[0m \u001b[0;34m=\u001b[0m \u001b[0mX\u001b[0m\u001b[0;34m[\u001b[0m\u001b[0mclass_member_mask\u001b[0m \u001b[0;34m&\u001b[0m \u001b[0;34m~\u001b[0m\u001b[0mcore_samples_mask\u001b[0m\u001b[0;34m]\u001b[0m\u001b[0;34m\u001b[0m\u001b[0m\n",
      "\u001b[0;32m/Users/theFlame/anaconda3/envs/ipykernel_py2/lib/python2.7/site-packages/matplotlib/pyplot.pyc\u001b[0m in \u001b[0;36mplot\u001b[0;34m(*args, **kwargs)\u001b[0m\n\u001b[1;32m   3315\u001b[0m                       mplDeprecation)\n\u001b[1;32m   3316\u001b[0m     \u001b[0;32mtry\u001b[0m\u001b[0;34m:\u001b[0m\u001b[0;34m\u001b[0m\u001b[0m\n\u001b[0;32m-> 3317\u001b[0;31m         \u001b[0mret\u001b[0m \u001b[0;34m=\u001b[0m \u001b[0max\u001b[0m\u001b[0;34m.\u001b[0m\u001b[0mplot\u001b[0m\u001b[0;34m(\u001b[0m\u001b[0;34m*\u001b[0m\u001b[0margs\u001b[0m\u001b[0;34m,\u001b[0m \u001b[0;34m**\u001b[0m\u001b[0mkwargs\u001b[0m\u001b[0;34m)\u001b[0m\u001b[0;34m\u001b[0m\u001b[0m\n\u001b[0m\u001b[1;32m   3318\u001b[0m     \u001b[0;32mfinally\u001b[0m\u001b[0;34m:\u001b[0m\u001b[0;34m\u001b[0m\u001b[0m\n\u001b[1;32m   3319\u001b[0m         \u001b[0max\u001b[0m\u001b[0;34m.\u001b[0m\u001b[0m_hold\u001b[0m \u001b[0;34m=\u001b[0m \u001b[0mwashold\u001b[0m\u001b[0;34m\u001b[0m\u001b[0m\n",
      "\u001b[0;32m/Users/theFlame/anaconda3/envs/ipykernel_py2/lib/python2.7/site-packages/matplotlib/__init__.pyc\u001b[0m in \u001b[0;36minner\u001b[0;34m(ax, *args, **kwargs)\u001b[0m\n\u001b[1;32m   1896\u001b[0m                     warnings.warn(msg % (label_namer, func.__name__),\n\u001b[1;32m   1897\u001b[0m                                   RuntimeWarning, stacklevel=2)\n\u001b[0;32m-> 1898\u001b[0;31m             \u001b[0;32mreturn\u001b[0m \u001b[0mfunc\u001b[0m\u001b[0;34m(\u001b[0m\u001b[0max\u001b[0m\u001b[0;34m,\u001b[0m \u001b[0;34m*\u001b[0m\u001b[0margs\u001b[0m\u001b[0;34m,\u001b[0m \u001b[0;34m**\u001b[0m\u001b[0mkwargs\u001b[0m\u001b[0;34m)\u001b[0m\u001b[0;34m\u001b[0m\u001b[0m\n\u001b[0m\u001b[1;32m   1899\u001b[0m         \u001b[0mpre_doc\u001b[0m \u001b[0;34m=\u001b[0m \u001b[0minner\u001b[0m\u001b[0;34m.\u001b[0m\u001b[0m__doc__\u001b[0m\u001b[0;34m\u001b[0m\u001b[0m\n\u001b[1;32m   1900\u001b[0m         \u001b[0;32mif\u001b[0m \u001b[0mpre_doc\u001b[0m \u001b[0;32mis\u001b[0m \u001b[0mNone\u001b[0m\u001b[0;34m:\u001b[0m\u001b[0;34m\u001b[0m\u001b[0m\n",
      "\u001b[0;32m/Users/theFlame/anaconda3/envs/ipykernel_py2/lib/python2.7/site-packages/matplotlib/axes/_axes.pyc\u001b[0m in \u001b[0;36mplot\u001b[0;34m(self, *args, **kwargs)\u001b[0m\n\u001b[1;32m   1404\u001b[0m         \u001b[0mkwargs\u001b[0m \u001b[0;34m=\u001b[0m \u001b[0mcbook\u001b[0m\u001b[0;34m.\u001b[0m\u001b[0mnormalize_kwargs\u001b[0m\u001b[0;34m(\u001b[0m\u001b[0mkwargs\u001b[0m\u001b[0;34m,\u001b[0m \u001b[0m_alias_map\u001b[0m\u001b[0;34m)\u001b[0m\u001b[0;34m\u001b[0m\u001b[0m\n\u001b[1;32m   1405\u001b[0m \u001b[0;34m\u001b[0m\u001b[0m\n\u001b[0;32m-> 1406\u001b[0;31m         \u001b[0;32mfor\u001b[0m \u001b[0mline\u001b[0m \u001b[0;32min\u001b[0m \u001b[0mself\u001b[0m\u001b[0;34m.\u001b[0m\u001b[0m_get_lines\u001b[0m\u001b[0;34m(\u001b[0m\u001b[0;34m*\u001b[0m\u001b[0margs\u001b[0m\u001b[0;34m,\u001b[0m \u001b[0;34m**\u001b[0m\u001b[0mkwargs\u001b[0m\u001b[0;34m)\u001b[0m\u001b[0;34m:\u001b[0m\u001b[0;34m\u001b[0m\u001b[0m\n\u001b[0m\u001b[1;32m   1407\u001b[0m             \u001b[0mself\u001b[0m\u001b[0;34m.\u001b[0m\u001b[0madd_line\u001b[0m\u001b[0;34m(\u001b[0m\u001b[0mline\u001b[0m\u001b[0;34m)\u001b[0m\u001b[0;34m\u001b[0m\u001b[0m\n\u001b[1;32m   1408\u001b[0m             \u001b[0mlines\u001b[0m\u001b[0;34m.\u001b[0m\u001b[0mappend\u001b[0m\u001b[0;34m(\u001b[0m\u001b[0mline\u001b[0m\u001b[0;34m)\u001b[0m\u001b[0;34m\u001b[0m\u001b[0m\n",
      "\u001b[0;32m/Users/theFlame/anaconda3/envs/ipykernel_py2/lib/python2.7/site-packages/matplotlib/axes/_base.pyc\u001b[0m in \u001b[0;36m_grab_next_args\u001b[0;34m(self, *args, **kwargs)\u001b[0m\n\u001b[1;32m    405\u001b[0m                 \u001b[0;32mreturn\u001b[0m\u001b[0;34m\u001b[0m\u001b[0m\n\u001b[1;32m    406\u001b[0m             \u001b[0;32mif\u001b[0m \u001b[0mlen\u001b[0m\u001b[0;34m(\u001b[0m\u001b[0mremaining\u001b[0m\u001b[0;34m)\u001b[0m \u001b[0;34m<=\u001b[0m \u001b[0;36m3\u001b[0m\u001b[0;34m:\u001b[0m\u001b[0;34m\u001b[0m\u001b[0m\n\u001b[0;32m--> 407\u001b[0;31m                 \u001b[0;32mfor\u001b[0m \u001b[0mseg\u001b[0m \u001b[0;32min\u001b[0m \u001b[0mself\u001b[0m\u001b[0;34m.\u001b[0m\u001b[0m_plot_args\u001b[0m\u001b[0;34m(\u001b[0m\u001b[0mremaining\u001b[0m\u001b[0;34m,\u001b[0m \u001b[0mkwargs\u001b[0m\u001b[0;34m)\u001b[0m\u001b[0;34m:\u001b[0m\u001b[0;34m\u001b[0m\u001b[0m\n\u001b[0m\u001b[1;32m    408\u001b[0m                     \u001b[0;32myield\u001b[0m \u001b[0mseg\u001b[0m\u001b[0;34m\u001b[0m\u001b[0m\n\u001b[1;32m    409\u001b[0m                 \u001b[0;32mreturn\u001b[0m\u001b[0;34m\u001b[0m\u001b[0m\n",
      "\u001b[0;32m/Users/theFlame/anaconda3/envs/ipykernel_py2/lib/python2.7/site-packages/matplotlib/axes/_base.pyc\u001b[0m in \u001b[0;36m_plot_args\u001b[0;34m(self, tup, kwargs)\u001b[0m\n\u001b[1;32m    393\u001b[0m         \u001b[0mncx\u001b[0m\u001b[0;34m,\u001b[0m \u001b[0mncy\u001b[0m \u001b[0;34m=\u001b[0m \u001b[0mx\u001b[0m\u001b[0;34m.\u001b[0m\u001b[0mshape\u001b[0m\u001b[0;34m[\u001b[0m\u001b[0;36m1\u001b[0m\u001b[0;34m]\u001b[0m\u001b[0;34m,\u001b[0m \u001b[0my\u001b[0m\u001b[0;34m.\u001b[0m\u001b[0mshape\u001b[0m\u001b[0;34m[\u001b[0m\u001b[0;36m1\u001b[0m\u001b[0;34m]\u001b[0m\u001b[0;34m\u001b[0m\u001b[0m\n\u001b[1;32m    394\u001b[0m         \u001b[0;32mfor\u001b[0m \u001b[0mj\u001b[0m \u001b[0;32min\u001b[0m \u001b[0mxrange\u001b[0m\u001b[0;34m(\u001b[0m\u001b[0mmax\u001b[0m\u001b[0;34m(\u001b[0m\u001b[0mncx\u001b[0m\u001b[0;34m,\u001b[0m \u001b[0mncy\u001b[0m\u001b[0;34m)\u001b[0m\u001b[0;34m)\u001b[0m\u001b[0;34m:\u001b[0m\u001b[0;34m\u001b[0m\u001b[0m\n\u001b[0;32m--> 395\u001b[0;31m             \u001b[0mseg\u001b[0m \u001b[0;34m=\u001b[0m \u001b[0mfunc\u001b[0m\u001b[0;34m(\u001b[0m\u001b[0mx\u001b[0m\u001b[0;34m[\u001b[0m\u001b[0;34m:\u001b[0m\u001b[0;34m,\u001b[0m \u001b[0mj\u001b[0m \u001b[0;34m%\u001b[0m \u001b[0mncx\u001b[0m\u001b[0;34m]\u001b[0m\u001b[0;34m,\u001b[0m \u001b[0my\u001b[0m\u001b[0;34m[\u001b[0m\u001b[0;34m:\u001b[0m\u001b[0;34m,\u001b[0m \u001b[0mj\u001b[0m \u001b[0;34m%\u001b[0m \u001b[0mncy\u001b[0m\u001b[0;34m]\u001b[0m\u001b[0;34m,\u001b[0m \u001b[0mkw\u001b[0m\u001b[0;34m,\u001b[0m \u001b[0mkwargs\u001b[0m\u001b[0;34m)\u001b[0m\u001b[0;34m\u001b[0m\u001b[0m\n\u001b[0m\u001b[1;32m    396\u001b[0m             \u001b[0mret\u001b[0m\u001b[0;34m.\u001b[0m\u001b[0mappend\u001b[0m\u001b[0;34m(\u001b[0m\u001b[0mseg\u001b[0m\u001b[0;34m)\u001b[0m\u001b[0;34m\u001b[0m\u001b[0m\n\u001b[1;32m    397\u001b[0m         \u001b[0;32mreturn\u001b[0m \u001b[0mret\u001b[0m\u001b[0;34m\u001b[0m\u001b[0m\n",
      "\u001b[0;32m/Users/theFlame/anaconda3/envs/ipykernel_py2/lib/python2.7/site-packages/matplotlib/axes/_base.pyc\u001b[0m in \u001b[0;36m_makeline\u001b[0;34m(self, x, y, kw, kwargs)\u001b[0m\n\u001b[1;32m    300\u001b[0m         \u001b[0mdefault_dict\u001b[0m \u001b[0;34m=\u001b[0m \u001b[0mself\u001b[0m\u001b[0;34m.\u001b[0m\u001b[0m_getdefaults\u001b[0m\u001b[0;34m(\u001b[0m\u001b[0mNone\u001b[0m\u001b[0;34m,\u001b[0m \u001b[0mkw\u001b[0m\u001b[0;34m)\u001b[0m\u001b[0;34m\u001b[0m\u001b[0m\n\u001b[1;32m    301\u001b[0m         \u001b[0mself\u001b[0m\u001b[0;34m.\u001b[0m\u001b[0m_setdefaults\u001b[0m\u001b[0;34m(\u001b[0m\u001b[0mdefault_dict\u001b[0m\u001b[0;34m,\u001b[0m \u001b[0mkw\u001b[0m\u001b[0;34m)\u001b[0m\u001b[0;34m\u001b[0m\u001b[0m\n\u001b[0;32m--> 302\u001b[0;31m         \u001b[0mseg\u001b[0m \u001b[0;34m=\u001b[0m \u001b[0mmlines\u001b[0m\u001b[0;34m.\u001b[0m\u001b[0mLine2D\u001b[0m\u001b[0;34m(\u001b[0m\u001b[0mx\u001b[0m\u001b[0;34m,\u001b[0m \u001b[0my\u001b[0m\u001b[0;34m,\u001b[0m \u001b[0;34m**\u001b[0m\u001b[0mkw\u001b[0m\u001b[0;34m)\u001b[0m\u001b[0;34m\u001b[0m\u001b[0m\n\u001b[0m\u001b[1;32m    303\u001b[0m         \u001b[0;32mreturn\u001b[0m \u001b[0mseg\u001b[0m\u001b[0;34m\u001b[0m\u001b[0m\n\u001b[1;32m    304\u001b[0m \u001b[0;34m\u001b[0m\u001b[0m\n",
      "\u001b[0;32m/Users/theFlame/anaconda3/envs/ipykernel_py2/lib/python2.7/site-packages/matplotlib/lines.pyc\u001b[0m in \u001b[0;36m__init__\u001b[0;34m(self, xdata, ydata, linewidth, linestyle, color, marker, markersize, markeredgewidth, markeredgecolor, markerfacecolor, markerfacecoloralt, fillstyle, antialiased, dash_capstyle, solid_capstyle, dash_joinstyle, solid_joinstyle, pickradius, drawstyle, markevery, **kwargs)\u001b[0m\n\u001b[1;32m    418\u001b[0m         \u001b[0mself\u001b[0m\u001b[0;34m.\u001b[0m\u001b[0m_markerfacecoloralt\u001b[0m \u001b[0;34m=\u001b[0m \u001b[0mNone\u001b[0m\u001b[0;34m\u001b[0m\u001b[0m\n\u001b[1;32m    419\u001b[0m \u001b[0;34m\u001b[0m\u001b[0m\n\u001b[0;32m--> 420\u001b[0;31m         \u001b[0mself\u001b[0m\u001b[0;34m.\u001b[0m\u001b[0mset_markerfacecolor\u001b[0m\u001b[0;34m(\u001b[0m\u001b[0mmarkerfacecolor\u001b[0m\u001b[0;34m)\u001b[0m\u001b[0;34m\u001b[0m\u001b[0m\n\u001b[0m\u001b[1;32m    421\u001b[0m         \u001b[0mself\u001b[0m\u001b[0;34m.\u001b[0m\u001b[0mset_markerfacecoloralt\u001b[0m\u001b[0;34m(\u001b[0m\u001b[0mmarkerfacecoloralt\u001b[0m\u001b[0;34m)\u001b[0m\u001b[0;34m\u001b[0m\u001b[0m\n\u001b[1;32m    422\u001b[0m         \u001b[0mself\u001b[0m\u001b[0;34m.\u001b[0m\u001b[0mset_markeredgecolor\u001b[0m\u001b[0;34m(\u001b[0m\u001b[0mmarkeredgecolor\u001b[0m\u001b[0;34m)\u001b[0m\u001b[0;34m\u001b[0m\u001b[0m\n",
      "\u001b[0;32m/Users/theFlame/anaconda3/envs/ipykernel_py2/lib/python2.7/site-packages/matplotlib/lines.pyc\u001b[0m in \u001b[0;36mset_markerfacecolor\u001b[0;34m(self, fc)\u001b[0m\n\u001b[1;32m   1204\u001b[0m         \u001b[0;32mif\u001b[0m \u001b[0mfc\u001b[0m \u001b[0;32mis\u001b[0m \u001b[0mNone\u001b[0m\u001b[0;34m:\u001b[0m\u001b[0;34m\u001b[0m\u001b[0m\n\u001b[1;32m   1205\u001b[0m             \u001b[0mfc\u001b[0m \u001b[0;34m=\u001b[0m \u001b[0;34m'auto'\u001b[0m\u001b[0;34m\u001b[0m\u001b[0m\n\u001b[0;32m-> 1206\u001b[0;31m         \u001b[0;32mif\u001b[0m \u001b[0mself\u001b[0m\u001b[0;34m.\u001b[0m\u001b[0m_markerfacecolor\u001b[0m \u001b[0;34m!=\u001b[0m \u001b[0mfc\u001b[0m\u001b[0;34m:\u001b[0m\u001b[0;34m\u001b[0m\u001b[0m\n\u001b[0m\u001b[1;32m   1207\u001b[0m             \u001b[0mself\u001b[0m\u001b[0;34m.\u001b[0m\u001b[0mstale\u001b[0m \u001b[0;34m=\u001b[0m \u001b[0mTrue\u001b[0m\u001b[0;34m\u001b[0m\u001b[0m\n\u001b[1;32m   1208\u001b[0m         \u001b[0mself\u001b[0m\u001b[0;34m.\u001b[0m\u001b[0m_markerfacecolor\u001b[0m \u001b[0;34m=\u001b[0m \u001b[0mfc\u001b[0m\u001b[0;34m\u001b[0m\u001b[0m\n",
      "\u001b[0;31mValueError\u001b[0m: The truth value of an array with more than one element is ambiguous. Use a.any() or a.all()"
     ]
    },
    {
     "data": {
      "image/png": "[encoded data removed]",
      "text/plain": [
       "<matplotlib.figure.Figure at 0x11abaa850>"
      ]
     },
     "metadata": {},
     "output_type": "display_data"
    }
   ],
   "source": [
    "# Black removed and is used for noise instead.\n",
    "unique_labels = set(labels)\n",
    "colors = plt.cm.Spectral(np.linspace(0, 1, len(unique_labels)))\n",
    "\n",
    "\n",
    "for k, col in zip(unique_labels, colors):\n",
    "    if k == -1:\n",
    "        # Black used for noise.\n",
    "        col = 'k'\n",
    "\n",
    "    class_member_mask = (labels == k)\n",
    "\n",
    "    # plot core points \n",
    "    xy = X[class_member_mask & core_samples_mask]\n",
    "    \n",
    "    plt.plot(xy[:, 0], xy[:, 1], 'o', markerfacecolor=col,\n",
    "             markeredgecolor='k', markersize=14)\n",
    "    # non-core points\n",
    "    xy = X[class_member_mask & ~core_samples_mask]\n",
    "    plt.plot(xy[:, 0], xy[:, 1], 'o', markerfacecolor=col,\n",
    "             markeredgecolor='k', markersize=6)\n",
    "\n",
    "plt.title('Estimated number of clusters: %d' % n_clusters_)"
   ]
  },
  {
   "cell_type": "markdown",
   "metadata": {},
   "source": [
    "See if you can tell the data point types apart: core points, border points, and noise points. "
   ]
  },
  {
   "cell_type": "markdown",
   "metadata": {},
   "source": [
    "### Evaluation"
   ]
  },
  {
   "cell_type": "markdown",
   "metadata": {},
   "source": [
    "To evaluate the clustering outcome, there are a number of indeces one can use. Here we take a quick look on Silhouette Score.\n",
    "\n",
    "For a data point with a cluster, its Silhouette Coefficient is decided by two scores:\n",
    "- a: The mean distance between a sample and all other points in the same cluster.\n",
    "- b: The mean distance between a sample and all other points in the next nearest cluster.\n",
    "The Silhouette Coefficient $s$ for the data point is then given as:\n",
    "$s = \\displaystyle\\frac{b - a}{max(a, b)}$"
   ]
  },
  {
   "cell_type": "markdown",
   "metadata": {},
   "source": [
    "The average Silhouette Coefficient of the overall clustering outcome is reported by:"
   ]
  },
  {
   "cell_type": "code",
   "execution_count": 31,
   "metadata": {},
   "outputs": [
    {
     "data": {
      "text/plain": [
       "0.62552476402537949"
      ]
     },
     "execution_count": 31,
     "metadata": {},
     "output_type": "execute_result"
    }
   ],
   "source": [
    "metrics.silhouette_score(X, labels, metric='euclidean')"
   ]
  },
  {
   "cell_type": "markdown",
   "metadata": {},
   "source": [
    "The score is bounded between -1 for incorrect clustering and +1 for highly dense clustering. Scores around zero indicate overlapping clusters."
   ]
  },
  {
   "cell_type": "markdown",
   "metadata": {},
   "source": [
    "**Task C**. Parameters play important part in clustering algorithms. How does the setting of Eps affect the clustering outcome? Print out the number of clusters found, and the Silhouette Score when eps takes value from this list: [0.1,0.15,0.2,0.25,0.3,0.35,0.4]."
   ]
  },
  {
   "cell_type": "code",
   "execution_count": null,
   "metadata": {
    "collapsed": true
   },
   "outputs": [],
   "source": [
    "# Your code here\n",
    "\n",
    "eps_list = [0.1,0.15,0.2,0.25,0.3,0.35,0.4]\n",
    "\n",
    "for i in range(0,len(eps_list)):\n",
    "    db = DBSCAN(eps=eps_list[i], min_samples=10).fit(X)\n",
    "    labels = db.labels_\n",
    "    core_samples_mask = np.zeros_like(db.labels_, dtype=bool)\n",
    "    core_samples_mask[db.core_sample_indices_] = True\n",
    "    \n",
    "    # Number of clusters in labels, ignoring noise if present.\n",
    "    n_clusters_ = len(set(labels)) - (1 if -1 in labels else 0)\n",
    "    silhouette_score =  metrics.silhouette_score(X, labels, metric='euclidean')\n",
    "    print( 'eps value: %.2f' % eps_list[i], 'Estimated number of clusters found: %d.' % n_clusters_,\n",
    "          \" Silhouette score: %f\" % silhouette_score)\n",
    "    \n",
    "\n",
    "\n",
    "\n",
    "\n",
    "\n"
   ]
  },
  {
   "cell_type": "markdown",
   "metadata": {},
   "source": [
    "Comment on your findings: \n",
    "\n",
    "The larger the eps value, the lower the number of clusters found. In this scenario the optimal eps score is 0.3, as this gives us the highest Silhouette score. The Silhouette score goes down when the eps values goes either way from the optimal value. \n",
    "\n",
    "\n",
    "\n",
    "\n"
   ]
  },
  {
   "cell_type": "markdown",
   "metadata": {},
   "source": [
    "**Task D**. Use the Sklearn K-means function to redo the clustering with k=2, 3, 4, 5. Compare the outcomes of using two initialization schemes: plain random initialization, and k-means++. Report the Silhouette Scores. "
   ]
  },
  {
   "cell_type": "code",
   "execution_count": 214,
   "metadata": {
    "scrolled": true
   },
   "outputs": [
    {
     "name": "stdout",
     "output_type": "stream",
     "text": [
      "K-Means clustering using k-mean++ for initialization: \n",
      "\n",
      "('K value: 2', ' Silhouette score: 0.516770')\n",
      "('K value: 3', ' Silhouette score: 0.649608')\n",
      "('K value: 4', ' Silhouette score: 0.528301')\n",
      "('K value: 5', ' Silhouette score: 0.432990')\n",
      "\n",
      "K-Means clustering using random initialization: \n",
      "\n",
      "('K value: 2', ' Silhouette score: 0.516770')\n",
      "('K value: 3', ' Silhouette score: 0.649608')\n",
      "('K value: 4', ' Silhouette score: 0.528301')\n",
      "('K value: 5', ' Silhouette score: 0.432990')\n"
     ]
    }
   ],
   "source": [
    "# Your code\n",
    "k_values=[2, 3, 4, 5]\n",
    "\n",
    "\n",
    "print(\"K-Means clustering using k-mean++ for initialization: \\n\")\n",
    "for i in range(0,len(k_values)):\n",
    "    kmeans = KMeans(n_clusters=k_values[i], max_iter = 50, init='k-means++').fit(X)\n",
    "    labels = kmeans.labels_   \n",
    "\n",
    "    n_clusters_ = len(set(labels)) - (1 if -1 in labels else 0)\n",
    "    silhouette_score =  metrics.silhouette_score(X, labels, metric='euclidean')\n",
    "    print('K value: %d' % k_values[i], \n",
    "          \" Silhouette score: %f\" % silhouette_score)\n",
    "    \n",
    "print(\"\\nK-Means clustering using random initialization: \\n\")\n",
    "for i in range(0,len(k_values)):\n",
    "    kmeans = KMeans(n_clusters=k_values[i], max_iter = 50, init='random').fit(X)\n",
    "    labels = kmeans.labels_   \n",
    "\n",
    "    n_clusters_ = len(set(labels)) - (1 if -1 in labels else 0)\n",
    "    silhouette_score =  metrics.silhouette_score(X, labels, metric='euclidean')\n",
    "    print('K value: %d' % k_values[i], \n",
    "          \" Silhouette score: %f\" % silhouette_score)\n",
    "\n",
    "\n"
   ]
  },
  {
   "cell_type": "markdown",
   "metadata": {},
   "source": [
    "Comment on your findings:\n",
    "\n",
    "I ran the Kmeans function for 50 iterations using Kmeans++ and randomization as initialization methods. \n",
    "\n",
    "The Silhouette score for these results are very similar regardless of the method of initialization.  \n",
    "\n",
    "Perhaps randomized initialization is just as good as Kmeans++? "
   ]
  },
  {
   "cell_type": "markdown",
   "metadata": {},
   "source": [
    "END OF LAB 2."
   ]
  }
 ],
 "metadata": {
  "kernelspec": {
   "display_name": "Python [conda env:ipykernel_py2]",
   "language": "python",
   "name": "conda-env-ipykernel_py2-py"
  },
  "language_info": {
   "codemirror_mode": {
    "name": "ipython",
    "version": 2
   },
   "file_extension": ".py",
   "mimetype": "text/x-python",
   "name": "python",
   "nbconvert_exporter": "python",
   "pygments_lexer": "ipython2",
   "version": "2.7.13"
  }
 },
 "nbformat": 4,
 "nbformat_minor": 1
}
